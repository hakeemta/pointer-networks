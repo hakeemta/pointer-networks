{
 "cells": [
  {
   "cell_type": "code",
   "execution_count": 16,
   "metadata": {},
   "outputs": [],
   "source": [
    "from keras.models import Model\n",
    "from keras.layers import LSTM, Input\n",
    "from keras.utils.np_utils import to_categorical\n",
    "from PointerLSTM import PointerLSTM\n",
    "import numpy as np\n",
    "\n",
    "from matplotlib import pyplot as plt\n"
   ]
  },
  {
   "cell_type": "code",
   "execution_count": 3,
   "metadata": {},
   "outputs": [
    {
     "data": {
      "text/plain": [
       "'2.7.0'"
      ]
     },
     "execution_count": 3,
     "metadata": {},
     "output_type": "execute_result"
    }
   ],
   "source": [
    "import tensorflow as tf\n",
    "tf.__version__"
   ]
  },
  {
   "cell_type": "code",
   "execution_count": 4,
   "metadata": {},
   "outputs": [],
   "source": [
    "%reload_ext autoreload\n",
    "%autoreload 2"
   ]
  },
  {
   "cell_type": "code",
   "execution_count": 5,
   "metadata": {},
   "outputs": [],
   "source": [
    "filename = 'tsp_data.npz'"
   ]
  },
  {
   "cell_type": "code",
   "execution_count": 6,
   "metadata": {},
   "outputs": [],
   "source": [
    "# np.savez(filename, X_train=X, y_train=Y, X_test=x_test, y_test=y_test)"
   ]
  },
  {
   "cell_type": "code",
   "execution_count": 7,
   "metadata": {},
   "outputs": [],
   "source": [
    "data = np.load(filename)\n",
    "\n",
    "X_train = data['X_train']\n",
    "y_train = data['y_train']\n",
    "\n",
    "X_test = data['X_test']\n",
    "y_test = data['y_test']"
   ]
  },
  {
   "cell_type": "code",
   "execution_count": 8,
   "metadata": {},
   "outputs": [
    {
     "data": {
      "text/plain": [
       "((10000, 10, 2), (10000, 10))"
      ]
     },
     "execution_count": 8,
     "metadata": {},
     "output_type": "execute_result"
    }
   ],
   "source": [
    "X_train.shape, y_train.shape"
   ]
  },
  {
   "cell_type": "code",
   "execution_count": 9,
   "metadata": {},
   "outputs": [
    {
     "data": {
      "text/plain": [
       "((1000, 10, 2), (1000, 10))"
      ]
     },
     "execution_count": 9,
     "metadata": {},
     "output_type": "execute_result"
    }
   ],
   "source": [
    "X_test.shape, y_test.shape"
   ]
  },
  {
   "cell_type": "code",
   "execution_count": 10,
   "metadata": {},
   "outputs": [
    {
     "data": {
      "text/plain": [
       "(10000, 10, 10)"
      ]
     },
     "execution_count": 10,
     "metadata": {},
     "output_type": "execute_result"
    }
   ],
   "source": [
    "y_train_cat = to_categorical(y_train)\n",
    "y_train_cat.shape"
   ]
  },
  {
   "cell_type": "code",
   "execution_count": 12,
   "metadata": {},
   "outputs": [
    {
     "name": "stderr",
     "output_type": "stream",
     "text": [
      "2021-12-16 15:15:33.110537: I tensorflow/core/platform/cpu_feature_guard.cc:151] This TensorFlow binary is optimized with oneAPI Deep Neural Network Library (oneDNN) to use the following CPU instructions in performance-critical operations:  AVX2 FMA\n",
      "To enable them in other operations, rebuild TensorFlow with the appropriate compiler flags.\n"
     ]
    },
    {
     "name": "stdout",
     "output_type": "stream",
     "text": [
      "Model: \"model\"\n",
      "__________________________________________________________________________________________________\n",
      " Layer (type)                   Output Shape         Param #     Connected to                     \n",
      "==================================================================================================\n",
      " main_input (InputLayer)        [(None, 10, 2)]      0           []                               \n",
      "                                                                                                  \n",
      " encoder (LSTM)                 [(None, 10, 64),     17152       ['main_input[0][0]']             \n",
      "                                 (None, 64),                                                      \n",
      "                                 (None, 64)]                                                      \n",
      "                                                                                                  \n",
      " decoder (PointerLSTM)          (None, 10, 10)       41280       ['encoder[0][0]',                \n",
      "                                                                  'encoder[0][1]',                \n",
      "                                                                  'encoder[0][2]']                \n",
      "                                                                                                  \n",
      "==================================================================================================\n",
      "Total params: 58,432\n",
      "Trainable params: 58,432\n",
      "Non-trainable params: 0\n",
      "__________________________________________________________________________________________________\n",
      "None\n"
     ]
    }
   ],
   "source": [
    "seq_shape = X_test.shape[1:]\n",
    "hidden_units = 64\n",
    "\n",
    "main_input = Input(shape=seq_shape, name='main_input')\n",
    "encoder,state_h, state_c = LSTM(hidden_units, name='encoder', return_sequences=True, return_state=True) (main_input)\n",
    "decoder = PointerLSTM(hidden_units, name='decoder') (encoder, states=[state_h, state_c])\n",
    "\n",
    "model = Model(main_input, decoder)\n",
    "print(model.summary())"
   ]
  },
  {
   "cell_type": "code",
   "execution_count": 13,
   "metadata": {},
   "outputs": [],
   "source": [
    "model.compile(optimizer='adam',\n",
    "              loss='categorical_crossentropy',\n",
    "              metrics=['accuracy'])"
   ]
  },
  {
   "cell_type": "code",
   "execution_count": 14,
   "metadata": {},
   "outputs": [
    {
     "name": "stdout",
     "output_type": "stream",
     "text": [
      "Epoch 1/100\n",
      "157/157 [==============================] - 9s 22ms/step - loss: 2.0370 - accuracy: 0.1991\n",
      "Epoch 2/100\n",
      "157/157 [==============================] - 3s 21ms/step - loss: 1.9743 - accuracy: 0.2117\n",
      "Epoch 3/100\n",
      "157/157 [==============================] - 4s 24ms/step - loss: 1.9684 - accuracy: 0.2142\n",
      "Epoch 4/100\n",
      "157/157 [==============================] - 4s 23ms/step - loss: 1.9530 - accuracy: 0.2344\n",
      "Epoch 5/100\n",
      "157/157 [==============================] - 4s 23ms/step - loss: 1.8028 - accuracy: 0.2918\n",
      "Epoch 6/100\n",
      "157/157 [==============================] - 4s 23ms/step - loss: 1.6549 - accuracy: 0.3329\n",
      "Epoch 7/100\n",
      "157/157 [==============================] - 4s 25ms/step - loss: 1.5857 - accuracy: 0.3574\n",
      "Epoch 8/100\n",
      "157/157 [==============================] - 4s 26ms/step - loss: 1.5487 - accuracy: 0.3707\n",
      "Epoch 9/100\n",
      "157/157 [==============================] - 4s 26ms/step - loss: 1.5205 - accuracy: 0.3784\n",
      "Epoch 10/100\n",
      "157/157 [==============================] - 4s 28ms/step - loss: 1.5071 - accuracy: 0.3840\n",
      "Epoch 11/100\n",
      "157/157 [==============================] - 5s 30ms/step - loss: 1.4919 - accuracy: 0.3885\n",
      "Epoch 12/100\n",
      "157/157 [==============================] - 4s 28ms/step - loss: 1.4815 - accuracy: 0.3915\n",
      "Epoch 13/100\n",
      "157/157 [==============================] - 5s 30ms/step - loss: 1.4733 - accuracy: 0.3945\n",
      "Epoch 14/100\n",
      "157/157 [==============================] - 4s 27ms/step - loss: 1.4639 - accuracy: 0.3973\n",
      "Epoch 15/100\n",
      "157/157 [==============================] - 4s 27ms/step - loss: 1.4551 - accuracy: 0.4012\n",
      "Epoch 16/100\n",
      "157/157 [==============================] - 4s 26ms/step - loss: 1.4508 - accuracy: 0.4020\n",
      "Epoch 17/100\n",
      "157/157 [==============================] - 4s 26ms/step - loss: 1.4426 - accuracy: 0.4064\n",
      "Epoch 18/100\n",
      "157/157 [==============================] - 4s 26ms/step - loss: 1.4391 - accuracy: 0.4065\n",
      "Epoch 19/100\n",
      "157/157 [==============================] - 4s 25ms/step - loss: 1.4313 - accuracy: 0.4097\n",
      "Epoch 20/100\n",
      "157/157 [==============================] - 4s 25ms/step - loss: 1.4311 - accuracy: 0.4090\n",
      "Epoch 21/100\n",
      "157/157 [==============================] - 4s 25ms/step - loss: 1.4213 - accuracy: 0.4130\n",
      "Epoch 22/100\n",
      "157/157 [==============================] - 4s 24ms/step - loss: 1.4172 - accuracy: 0.4150\n",
      "Epoch 23/100\n",
      "157/157 [==============================] - 4s 24ms/step - loss: 1.4148 - accuracy: 0.4149\n",
      "Epoch 24/100\n",
      "157/157 [==============================] - 4s 24ms/step - loss: 1.4099 - accuracy: 0.4179\n",
      "Epoch 25/100\n",
      "157/157 [==============================] - 4s 24ms/step - loss: 1.4050 - accuracy: 0.4200\n",
      "Epoch 26/100\n",
      "157/157 [==============================] - 4s 25ms/step - loss: 1.4035 - accuracy: 0.4205\n",
      "Epoch 27/100\n",
      "157/157 [==============================] - 4s 26ms/step - loss: 1.3965 - accuracy: 0.4227\n",
      "Epoch 28/100\n",
      "157/157 [==============================] - 4s 25ms/step - loss: 1.3909 - accuracy: 0.4264\n",
      "Epoch 29/100\n",
      "157/157 [==============================] - 4s 24ms/step - loss: 1.3895 - accuracy: 0.4266\n",
      "Epoch 30/100\n",
      "157/157 [==============================] - 4s 25ms/step - loss: 1.3829 - accuracy: 0.4292\n",
      "Epoch 31/100\n",
      "157/157 [==============================] - 4s 25ms/step - loss: 1.3800 - accuracy: 0.4295\n",
      "Epoch 32/100\n",
      "157/157 [==============================] - 4s 24ms/step - loss: 1.3767 - accuracy: 0.4320\n",
      "Epoch 33/100\n",
      "157/157 [==============================] - 4s 24ms/step - loss: 1.3749 - accuracy: 0.4334\n",
      "Epoch 34/100\n",
      "157/157 [==============================] - 4s 24ms/step - loss: 1.3727 - accuracy: 0.4345\n",
      "Epoch 35/100\n",
      "157/157 [==============================] - 4s 25ms/step - loss: 1.3658 - accuracy: 0.4371\n",
      "Epoch 36/100\n",
      "157/157 [==============================] - 4s 24ms/step - loss: 1.3597 - accuracy: 0.4410\n",
      "Epoch 37/100\n",
      "157/157 [==============================] - 4s 26ms/step - loss: 1.3603 - accuracy: 0.4421\n",
      "Epoch 38/100\n",
      "157/157 [==============================] - 4s 24ms/step - loss: 1.3567 - accuracy: 0.4420\n",
      "Epoch 39/100\n",
      "157/157 [==============================] - 4s 25ms/step - loss: 1.3525 - accuracy: 0.4430\n",
      "Epoch 40/100\n",
      "157/157 [==============================] - 4s 25ms/step - loss: 1.3475 - accuracy: 0.4474\n",
      "Epoch 41/100\n",
      "157/157 [==============================] - 4s 25ms/step - loss: 1.3465 - accuracy: 0.4465\n",
      "Epoch 42/100\n",
      "157/157 [==============================] - 4s 25ms/step - loss: 1.3446 - accuracy: 0.4472\n",
      "Epoch 43/100\n",
      "157/157 [==============================] - 4s 26ms/step - loss: 1.3397 - accuracy: 0.4514\n",
      "Epoch 44/100\n",
      "157/157 [==============================] - 5s 29ms/step - loss: 1.3361 - accuracy: 0.4519\n",
      "Epoch 45/100\n",
      "157/157 [==============================] - 4s 25ms/step - loss: 1.3403 - accuracy: 0.4505\n",
      "Epoch 46/100\n",
      "157/157 [==============================] - 4s 25ms/step - loss: 1.3350 - accuracy: 0.4530\n",
      "Epoch 47/100\n",
      "157/157 [==============================] - 4s 25ms/step - loss: 1.3255 - accuracy: 0.4559\n",
      "Epoch 48/100\n",
      "157/157 [==============================] - 4s 24ms/step - loss: 1.3245 - accuracy: 0.4572\n",
      "Epoch 49/100\n",
      "157/157 [==============================] - 4s 26ms/step - loss: 1.3219 - accuracy: 0.4598\n",
      "Epoch 50/100\n",
      "157/157 [==============================] - 4s 27ms/step - loss: 1.3178 - accuracy: 0.4609\n",
      "Epoch 51/100\n",
      "157/157 [==============================] - 4s 25ms/step - loss: 1.3168 - accuracy: 0.4623\n",
      "Epoch 52/100\n",
      "157/157 [==============================] - 4s 25ms/step - loss: 1.3127 - accuracy: 0.4651\n",
      "Epoch 53/100\n",
      "157/157 [==============================] - 4s 27ms/step - loss: 1.3097 - accuracy: 0.4657\n",
      "Epoch 54/100\n",
      "157/157 [==============================] - 4s 25ms/step - loss: 1.3053 - accuracy: 0.4676\n",
      "Epoch 55/100\n",
      "157/157 [==============================] - 4s 24ms/step - loss: 1.3049 - accuracy: 0.4686\n",
      "Epoch 56/100\n",
      "157/157 [==============================] - 4s 25ms/step - loss: 1.2982 - accuracy: 0.4715\n",
      "Epoch 57/100\n",
      "157/157 [==============================] - 4s 25ms/step - loss: 1.2976 - accuracy: 0.4718\n",
      "Epoch 58/100\n",
      "157/157 [==============================] - 4s 25ms/step - loss: 1.2961 - accuracy: 0.4737\n",
      "Epoch 59/100\n",
      "157/157 [==============================] - 4s 26ms/step - loss: 1.2922 - accuracy: 0.4759\n",
      "Epoch 60/100\n",
      "157/157 [==============================] - 4s 27ms/step - loss: 1.2877 - accuracy: 0.4761\n",
      "Epoch 61/100\n",
      "157/157 [==============================] - 4s 25ms/step - loss: 1.2881 - accuracy: 0.4778\n",
      "Epoch 62/100\n",
      "157/157 [==============================] - 4s 25ms/step - loss: 1.2860 - accuracy: 0.4782\n",
      "Epoch 63/100\n",
      "157/157 [==============================] - 4s 24ms/step - loss: 1.2775 - accuracy: 0.4819\n",
      "Epoch 64/100\n",
      "157/157 [==============================] - 4s 24ms/step - loss: 1.2798 - accuracy: 0.4828\n",
      "Epoch 65/100\n",
      "157/157 [==============================] - 4s 26ms/step - loss: 1.2749 - accuracy: 0.4838\n",
      "Epoch 66/100\n",
      "157/157 [==============================] - 4s 23ms/step - loss: 1.2735 - accuracy: 0.4842\n",
      "Epoch 67/100\n",
      "157/157 [==============================] - 4s 24ms/step - loss: 1.2710 - accuracy: 0.4856\n",
      "Epoch 68/100\n",
      "157/157 [==============================] - 4s 28ms/step - loss: 1.2707 - accuracy: 0.4845\n",
      "Epoch 69/100\n",
      "157/157 [==============================] - 4s 27ms/step - loss: 1.2645 - accuracy: 0.4891\n",
      "Epoch 70/100\n",
      "157/157 [==============================] - 4s 27ms/step - loss: 1.2616 - accuracy: 0.4909\n",
      "Epoch 71/100\n",
      "157/157 [==============================] - 4s 28ms/step - loss: 1.2624 - accuracy: 0.4899\n",
      "Epoch 72/100\n",
      "157/157 [==============================] - 4s 28ms/step - loss: 1.2546 - accuracy: 0.4934\n",
      "Epoch 73/100\n",
      "157/157 [==============================] - 4s 28ms/step - loss: 1.2503 - accuracy: 0.4958\n",
      "Epoch 74/100\n",
      "157/157 [==============================] - 5s 29ms/step - loss: 1.2506 - accuracy: 0.4950\n",
      "Epoch 75/100\n",
      "157/157 [==============================] - 4s 28ms/step - loss: 1.2478 - accuracy: 0.4974\n",
      "Epoch 76/100\n",
      "157/157 [==============================] - 5s 31ms/step - loss: 1.2418 - accuracy: 0.5007\n",
      "Epoch 77/100\n",
      "157/157 [==============================] - 4s 28ms/step - loss: 1.2418 - accuracy: 0.5010\n",
      "Epoch 78/100\n",
      "157/157 [==============================] - 4s 23ms/step - loss: 1.2384 - accuracy: 0.5018\n",
      "Epoch 79/100\n",
      "157/157 [==============================] - 4s 24ms/step - loss: 1.2391 - accuracy: 0.5021\n",
      "Epoch 80/100\n",
      "157/157 [==============================] - 4s 23ms/step - loss: 1.2356 - accuracy: 0.5042\n",
      "Epoch 81/100\n",
      "157/157 [==============================] - 4s 22ms/step - loss: 1.2298 - accuracy: 0.5064\n",
      "Epoch 82/100\n",
      "157/157 [==============================] - 4s 23ms/step - loss: 1.2268 - accuracy: 0.5081\n",
      "Epoch 83/100\n",
      "157/157 [==============================] - 4s 27ms/step - loss: 1.2278 - accuracy: 0.5075\n",
      "Epoch 84/100\n",
      "157/157 [==============================] - 4s 26ms/step - loss: 1.2237 - accuracy: 0.5086\n",
      "Epoch 85/100\n",
      "157/157 [==============================] - 4s 26ms/step - loss: 1.2215 - accuracy: 0.5118\n",
      "Epoch 86/100\n",
      "157/157 [==============================] - 4s 25ms/step - loss: 1.2146 - accuracy: 0.5146\n",
      "Epoch 87/100\n",
      "157/157 [==============================] - 4s 25ms/step - loss: 1.2128 - accuracy: 0.5144\n",
      "Epoch 88/100\n",
      "157/157 [==============================] - 4s 26ms/step - loss: 1.2119 - accuracy: 0.5158\n",
      "Epoch 89/100\n",
      "157/157 [==============================] - 4s 26ms/step - loss: 1.2099 - accuracy: 0.5179\n",
      "Epoch 90/100\n",
      "157/157 [==============================] - 4s 28ms/step - loss: 1.2071 - accuracy: 0.5181\n",
      "Epoch 91/100\n",
      "157/157 [==============================] - 4s 25ms/step - loss: 1.2043 - accuracy: 0.5191\n",
      "Epoch 92/100\n",
      "157/157 [==============================] - 4s 27ms/step - loss: 1.2036 - accuracy: 0.5220\n",
      "Epoch 93/100\n",
      "157/157 [==============================] - 4s 26ms/step - loss: 1.1995 - accuracy: 0.5216\n",
      "Epoch 94/100\n",
      "157/157 [==============================] - 4s 28ms/step - loss: 1.1961 - accuracy: 0.5223\n",
      "Epoch 95/100\n",
      "157/157 [==============================] - 4s 26ms/step - loss: 1.1963 - accuracy: 0.5228\n",
      "Epoch 96/100\n",
      "157/157 [==============================] - 4s 27ms/step - loss: 1.1919 - accuracy: 0.5255\n",
      "Epoch 97/100\n",
      "157/157 [==============================] - 4s 25ms/step - loss: 1.1880 - accuracy: 0.5288\n",
      "Epoch 98/100\n",
      "157/157 [==============================] - 4s 25ms/step - loss: 1.1834 - accuracy: 0.5317\n",
      "Epoch 99/100\n",
      "157/157 [==============================] - 4s 25ms/step - loss: 1.1839 - accuracy: 0.5301\n",
      "Epoch 100/100\n",
      "157/157 [==============================] - 4s 25ms/step - loss: 1.1817 - accuracy: 0.5299\n"
     ]
    }
   ],
   "source": [
    "nb_epochs = 100\n",
    "h = model.fit(X_train, y_train_cat, epochs=nb_epochs, batch_size=64)"
   ]
  },
  {
   "cell_type": "code",
   "execution_count": 20,
   "metadata": {},
   "outputs": [],
   "source": [
    "model.save_weights('model_weight_100.hdf5')"
   ]
  },
  {
   "cell_type": "code",
   "execution_count": 17,
   "metadata": {},
   "outputs": [
    {
     "data": {
      "text/plain": [
       "[<matplotlib.lines.Line2D at 0x7fa5ef6d2210>]"
      ]
     },
     "execution_count": 17,
     "metadata": {},
     "output_type": "execute_result"
    },
    {
     "data": {
      "image/png": "[encoded data removed]",
      "text/plain": [
       "<Figure size 432x288 with 1 Axes>"
      ]
     },
     "metadata": {
      "needs_background": "light"
     },
     "output_type": "display_data"
    }
   ],
   "source": [
    "plt.plot(h.history['accuracy'])"
   ]
  },
  {
   "cell_type": "code",
   "execution_count": 18,
   "metadata": {},
   "outputs": [
    {
     "data": {
      "text/plain": [
       "[<matplotlib.lines.Line2D at 0x7fa5ef966f50>]"
      ]
     },
     "execution_count": 18,
     "metadata": {},
     "output_type": "execute_result"
    },
    {
     "data": {
      "image/png": "[encoded data removed]",
      "text/plain": [
       "<Figure size 432x288 with 1 Axes>"
      ]
     },
     "metadata": {
      "needs_background": "light"
     },
     "output_type": "display_data"
    }
   ],
   "source": [
    "plt.plot(h.history['loss'])"
   ]
  },
  {
   "cell_type": "code",
   "execution_count": 21,
   "metadata": {},
   "outputs": [
    {
     "name": "stdout",
     "output_type": "stream",
     "text": [
      "32/32 [==============================] - 2s 5ms/step - loss: 1.3520 - accuracy: 0.4634\n"
     ]
    },
    {
     "data": {
      "text/plain": [
       "[1.3519991636276245, 0.4634000062942505]"
      ]
     },
     "execution_count": 21,
     "metadata": {},
     "output_type": "execute_result"
    }
   ],
   "source": [
    "\n",
    "model.evaluate(X_test, to_categorical(y_test))"
   ]
  },
  {
   "cell_type": "code",
   "execution_count": 37,
   "metadata": {},
   "outputs": [
    {
     "data": {
      "text/plain": [
       "array([[0, 2, 3, 3, 7, 1, 5, 3, 6, 8],\n",
       "       [0, 6, 2, 7, 9, 5, 5, 4, 2, 6]])"
      ]
     },
     "execution_count": 37,
     "metadata": {},
     "output_type": "execute_result"
    }
   ],
   "source": [
    "model.predict(X_test[:2]).argmax(axis=2)"
   ]
  },
  {
   "cell_type": "code",
   "execution_count": 34,
   "metadata": {},
   "outputs": [
    {
     "data": {
      "text/plain": [
       "array([[0, 2, 8, 3, 1, 7, 4, 5, 6, 9],\n",
       "       [0, 6, 2, 8, 4, 5, 9, 7, 3, 1]])"
      ]
     },
     "execution_count": 34,
     "metadata": {},
     "output_type": "execute_result"
    }
   ],
   "source": [
    "y_test[:2]"
   ]
  },
  {
   "cell_type": "code",
   "execution_count": null,
   "metadata": {},
   "outputs": [],
   "source": []
  },
  {
   "cell_type": "code",
   "execution_count": null,
   "metadata": {},
   "outputs": [],
   "source": []
  },
  {
   "cell_type": "code",
   "execution_count": null,
   "metadata": {},
   "outputs": [],
   "source": []
  }
 ],
 "metadata": {
  "interpreter": {
   "hash": "3cb2bdb0a6209896b2c08e350958f92213a3044df550f2817f068195d36b5650"
  },
  "kernelspec": {
   "display_name": "Python 3.6.8 64-bit ('base': conda)",
   "language": "python",
   "name": "python3"
  },
  "language_info": {
   "codemirror_mode": {
    "name": "ipython",
    "version": 3
   },
   "file_extension": ".py",
   "mimetype": "text/x-python",
   "name": "python",
   "nbconvert_exporter": "python",
   "pygments_lexer": "ipython3",
   "version": "3.7.11"
  },
  "orig_nbformat": 4
 },
 "nbformat": 4,
 "nbformat_minor": 2
}
