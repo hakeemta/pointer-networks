{
 "cells": [
  {
   "cell_type": "code",
   "execution_count": 1,
   "metadata": {},
   "outputs": [],
   "source": [
    "import numpy as np\n",
    "from matplotlib import pyplot as plt\n",
    "\n",
    "from keras.models import Model\n",
    "from keras.layers import LSTM, Input, Masking\n",
    "from keras.utils.np_utils import to_categorical\n",
    "from keras.preprocessing.sequence import pad_sequences\n",
    "from keras import optimizers\n",
    "import keras\n",
    "import keras.backend as K"
   ]
  },
  {
   "cell_type": "code",
   "execution_count": 2,
   "metadata": {},
   "outputs": [],
   "source": [
    "from pointer_lstm import PointerDecoder\n",
    "from sorting_dataset import gen_data, gen_jagged_data"
   ]
  },
  {
   "cell_type": "code",
   "execution_count": 3,
   "metadata": {},
   "outputs": [
    {
     "data": {
      "text/plain": [
       "'2.7.0'"
      ]
     },
     "execution_count": 3,
     "metadata": {},
     "output_type": "execute_result"
    }
   ],
   "source": [
    "import tensorflow as tf\n",
    "tf.__version__"
   ]
  },
  {
   "cell_type": "code",
   "execution_count": 4,
   "metadata": {},
   "outputs": [],
   "source": [
    "%reload_ext autoreload\n",
    "%autoreload 2\n",
    "\n",
    "np.random.seed(17)"
   ]
  },
  {
   "cell_type": "code",
   "execution_count": null,
   "metadata": {},
   "outputs": [],
   "source": []
  },
  {
   "cell_type": "code",
   "execution_count": 5,
   "metadata": {},
   "outputs": [
    {
     "data": {
      "text/plain": [
       "((10000, 6), (10000, 6))"
      ]
     },
     "execution_count": 5,
     "metadata": {},
     "output_type": "execute_result"
    }
   ],
   "source": [
    "N = 10000\n",
    "max_seq_len = 5\n",
    "output_size = max_seq_len + 1\n",
    "\n",
    "# X, y = gen_data(N, max_seq_len, low=0, high=1000)\n",
    "X, y = gen_jagged_data(N, max_seq_len, low=1)\n",
    "\n",
    "# Pad the (jagged) sequences\n",
    "X = pad_sequences(X, maxlen=max_seq_len + 1, value=-1, padding='post', truncating='post', dtype=np.float32)\n",
    "y = pad_sequences(y, value=0, padding='post', truncating='post') # maxlen=output_size, \n",
    "\n",
    "# Shuffle the sequences\n",
    "idx = np.arange(X.shape[0])\n",
    "np.random.shuffle(idx)\n",
    "X = X[idx]\n",
    "y = y[idx]\n",
    "\n",
    "X.shape, y.shape"
   ]
  },
  {
   "cell_type": "code",
   "execution_count": 6,
   "metadata": {},
   "outputs": [
    {
     "data": {
      "text/plain": [
       "(array([[ 0.27586207,  0.63793105,  0.39655173,  1.        , -1.        ,\n",
       "         -1.        ],\n",
       "        [ 0.09589041,  0.9726027 ,  1.        ,  0.4520548 , -1.        ,\n",
       "         -1.        ]], dtype=float32),\n",
       " array([[1, 3, 2, 4, 0, 0],\n",
       "        [1, 4, 2, 3, 0, 0]], dtype=int32))"
      ]
     },
     "execution_count": 6,
     "metadata": {},
     "output_type": "execute_result"
    }
   ],
   "source": [
    "X[:2], y[:2]"
   ]
  },
  {
   "cell_type": "code",
   "execution_count": 7,
   "metadata": {},
   "outputs": [
    {
     "data": {
      "text/plain": [
       "((8000, 6, 1), (8000, 6, 6), (2000, 6, 1), (2000, 6, 6))"
      ]
     },
     "execution_count": 7,
     "metadata": {},
     "output_type": "execute_result"
    }
   ],
   "source": [
    "split = int(0.8 * N)\n",
    "\n",
    "_X = np.expand_dims(X, axis=2)\n",
    "# _X = np.repeat(_X, 4, axis=2)\n",
    "\n",
    "# OHE the labels\n",
    "_y = to_categorical(y, num_classes=output_size)\n",
    "# _y = _y[:, :output_size]\n",
    "\n",
    "X_train = _X[:split]\n",
    "y_train = _y[:split]\n",
    "\n",
    "X_test = _X[split:]\n",
    "y_test = _y[split:]\n",
    "\n",
    "X_train.shape, y_train.shape, X_test.shape, y_test.shape"
   ]
  },
  {
   "cell_type": "code",
   "execution_count": null,
   "metadata": {},
   "outputs": [],
   "source": []
  },
  {
   "cell_type": "code",
   "execution_count": 8,
   "metadata": {},
   "outputs": [
    {
     "name": "stderr",
     "output_type": "stream",
     "text": [
      "2021-12-20 14:50:11.170382: I tensorflow/core/platform/cpu_feature_guard.cc:151] This TensorFlow binary is optimized with oneAPI Deep Neural Network Library (oneDNN) to use the following CPU instructions in performance-critical operations:  AVX2 FMA\n",
      "To enable them in other operations, rebuild TensorFlow with the appropriate compiler flags.\n"
     ]
    },
    {
     "name": "stdout",
     "output_type": "stream",
     "text": [
      "Model: \"model\"\n",
      "__________________________________________________________________________________________________\n",
      " Layer (type)                   Output Shape         Param #     Connected to                     \n",
      "==================================================================================================\n",
      " input (InputLayer)             [(32, 6, 1)]         0           []                               \n",
      "                                                                                                  \n",
      " masking (Masking)              (32, 6, 1)           0           ['input[0][0]']                  \n",
      "                                                                                                  \n",
      " encoder (LSTM)                 [(32, 6, 64),        16896       ['masking[0][0]']                \n",
      "                                 (32, 64),                                                        \n",
      "                                 (32, 64)]                                                        \n",
      "                                                                                                  \n",
      " decoder (PointerDecoder)       (32, 6, 6)           41280       ['encoder[0][0]',                \n",
      "                                                                  'encoder[0][1]',                \n",
      "                                                                  'encoder[0][2]']                \n",
      "                                                                                                  \n",
      "==================================================================================================\n",
      "Total params: 58,176\n",
      "Trainable params: 58,176\n",
      "Non-trainable params: 0\n",
      "__________________________________________________________________________________________________\n"
     ]
    }
   ],
   "source": [
    "seq_shape = X_train.shape[1:]\n",
    "hidden_units = 64\n",
    "batch_size = 32\n",
    "\n",
    "inputs = Input(shape=seq_shape, name='input', batch_size=batch_size)\n",
    "masking = Masking(mask_value=-1, name='masking') \n",
    "masked = masking(inputs)\n",
    "encoder = LSTM(hidden_units, name='encoder', return_sequences=True, return_state=True)\n",
    "enc, state_h, state_c =  encoder(masked)\n",
    "\n",
    "decoder = PointerDecoder(hidden_units, output_size=output_size, name='decoder')\n",
    "dec = decoder(enc, initial_state=[state_h, state_c])\n",
    "\n",
    "model = Model(inputs, dec)\n",
    "model.summary()"
   ]
  },
  {
   "cell_type": "code",
   "execution_count": 9,
   "metadata": {},
   "outputs": [],
   "source": [
    "opt = optimizers.adam_v2.Adam(learning_rate=1e-3)\n",
    "\n",
    "model.compile(optimizer=opt,\n",
    "              loss='categorical_crossentropy',\n",
    "              metrics=['accuracy'])"
   ]
  },
  {
   "cell_type": "code",
   "execution_count": 10,
   "metadata": {},
   "outputs": [
    {
     "name": "stdout",
     "output_type": "stream",
     "text": [
      "Epoch 1/50\n",
      "250/250 [==============================] - 12s 8ms/step - loss: 0.4415 - accuracy: 0.5762\n",
      "Epoch 2/50\n",
      "250/250 [==============================] - 2s 9ms/step - loss: 0.1498 - accuracy: 0.8898\n",
      "Epoch 3/50\n",
      "250/250 [==============================] - 2s 8ms/step - loss: 0.1001 - accuracy: 0.9290\n",
      "Epoch 4/50\n",
      "250/250 [==============================] - 2s 9ms/step - loss: 0.0832 - accuracy: 0.9398\n",
      "Epoch 5/50\n",
      "250/250 [==============================] - 2s 9ms/step - loss: 0.0696 - accuracy: 0.9507\n",
      "Epoch 6/50\n",
      "250/250 [==============================] - 2s 9ms/step - loss: 0.0637 - accuracy: 0.9523\n",
      "Epoch 7/50\n",
      "250/250 [==============================] - 2s 10ms/step - loss: 0.0564 - accuracy: 0.9603\n",
      "Epoch 8/50\n",
      "250/250 [==============================] - 3s 11ms/step - loss: 0.0526 - accuracy: 0.9622\n",
      "Epoch 9/50\n",
      "250/250 [==============================] - 3s 10ms/step - loss: 0.0500 - accuracy: 0.9624\n",
      "Epoch 10/50\n",
      "250/250 [==============================] - 3s 11ms/step - loss: 0.0477 - accuracy: 0.9640\n",
      "Epoch 11/50\n",
      "250/250 [==============================] - 2s 10ms/step - loss: 0.0437 - accuracy: 0.9673\n",
      "Epoch 12/50\n",
      "250/250 [==============================] - 2s 10ms/step - loss: 0.0414 - accuracy: 0.9696\n",
      "Epoch 13/50\n",
      "250/250 [==============================] - 2s 9ms/step - loss: 0.0403 - accuracy: 0.9698\n",
      "Epoch 14/50\n",
      "250/250 [==============================] - 2s 8ms/step - loss: 0.0397 - accuracy: 0.9702\n",
      "Epoch 15/50\n",
      "250/250 [==============================] - 2s 9ms/step - loss: 0.0363 - accuracy: 0.9725\n",
      "Epoch 16/50\n",
      "250/250 [==============================] - 3s 10ms/step - loss: 0.0397 - accuracy: 0.9702\n",
      "Epoch 17/50\n",
      "250/250 [==============================] - 3s 12ms/step - loss: 0.0313 - accuracy: 0.9791\n",
      "Epoch 18/50\n",
      "250/250 [==============================] - 3s 10ms/step - loss: 0.0327 - accuracy: 0.9757\n",
      "Epoch 19/50\n",
      "250/250 [==============================] - 2s 10ms/step - loss: 0.0298 - accuracy: 0.9786\n",
      "Epoch 20/50\n",
      "250/250 [==============================] - 2s 9ms/step - loss: 0.0274 - accuracy: 0.9811\n",
      "Epoch 21/50\n",
      "250/250 [==============================] - 2s 10ms/step - loss: 0.0303 - accuracy: 0.9775\n",
      "Epoch 22/50\n",
      "250/250 [==============================] - 3s 10ms/step - loss: 0.0288 - accuracy: 0.9776\n",
      "Epoch 23/50\n",
      "250/250 [==============================] - 3s 11ms/step - loss: 0.0290 - accuracy: 0.9792\n",
      "Epoch 24/50\n",
      "250/250 [==============================] - 3s 11ms/step - loss: 0.0323 - accuracy: 0.9749\n",
      "Epoch 25/50\n",
      "250/250 [==============================] - 3s 12ms/step - loss: 0.0270 - accuracy: 0.9805\n",
      "Epoch 26/50\n",
      "250/250 [==============================] - 3s 11ms/step - loss: 0.0233 - accuracy: 0.9835\n",
      "Epoch 27/50\n",
      "250/250 [==============================] - 3s 13ms/step - loss: 0.0268 - accuracy: 0.9804\n",
      "Epoch 28/50\n",
      "250/250 [==============================] - 3s 11ms/step - loss: 0.0268 - accuracy: 0.9802\n",
      "Epoch 29/50\n",
      "250/250 [==============================] - 3s 10ms/step - loss: 0.0243 - accuracy: 0.9815\n",
      "Epoch 30/50\n",
      "250/250 [==============================] - 3s 10ms/step - loss: 0.0244 - accuracy: 0.9813\n",
      "Epoch 31/50\n",
      "250/250 [==============================] - 2s 10ms/step - loss: 0.0224 - accuracy: 0.9829\n",
      "Epoch 32/50\n",
      "250/250 [==============================] - 2s 10ms/step - loss: 0.0253 - accuracy: 0.9810\n",
      "Epoch 33/50\n",
      "250/250 [==============================] - 2s 9ms/step - loss: 0.0244 - accuracy: 0.9823\n",
      "Epoch 34/50\n",
      "250/250 [==============================] - 2s 10ms/step - loss: 0.0222 - accuracy: 0.9828\n",
      "Epoch 35/50\n",
      "250/250 [==============================] - 3s 10ms/step - loss: 0.0282 - accuracy: 0.9774\n",
      "Epoch 36/50\n",
      "250/250 [==============================] - 2s 9ms/step - loss: 0.0246 - accuracy: 0.9806\n",
      "Epoch 37/50\n",
      "250/250 [==============================] - 2s 9ms/step - loss: 0.0218 - accuracy: 0.9836\n",
      "Epoch 38/50\n",
      "250/250 [==============================] - 2s 9ms/step - loss: 0.0196 - accuracy: 0.9855\n",
      "Epoch 39/50\n",
      "250/250 [==============================] - 2s 9ms/step - loss: 0.0189 - accuracy: 0.9862\n",
      "Epoch 40/50\n",
      "250/250 [==============================] - 2s 9ms/step - loss: 0.0276 - accuracy: 0.9797\n",
      "Epoch 41/50\n",
      "250/250 [==============================] - 2s 9ms/step - loss: 0.0194 - accuracy: 0.9854\n",
      "Epoch 42/50\n",
      "250/250 [==============================] - 2s 9ms/step - loss: 0.0207 - accuracy: 0.9856\n",
      "Epoch 43/50\n",
      "250/250 [==============================] - 2s 9ms/step - loss: 0.0183 - accuracy: 0.9866\n",
      "Epoch 44/50\n",
      "250/250 [==============================] - 2s 9ms/step - loss: 0.0219 - accuracy: 0.9829\n",
      "Epoch 45/50\n",
      "250/250 [==============================] - 3s 10ms/step - loss: 0.0259 - accuracy: 0.9791\n",
      "Epoch 46/50\n",
      "250/250 [==============================] - 2s 9ms/step - loss: 0.0192 - accuracy: 0.9859\n",
      "Epoch 47/50\n",
      "250/250 [==============================] - 2s 9ms/step - loss: 0.0230 - accuracy: 0.9819\n",
      "Epoch 48/50\n",
      "250/250 [==============================] - 2s 9ms/step - loss: 0.0171 - accuracy: 0.9891\n",
      "Epoch 49/50\n",
      "250/250 [==============================] - 2s 9ms/step - loss: 0.0185 - accuracy: 0.9868\n",
      "Epoch 50/50\n",
      "250/250 [==============================] - 2s 10ms/step - loss: 0.0158 - accuracy: 0.9892\n"
     ]
    }
   ],
   "source": [
    "nb_epochs = 50\n",
    "h = model.fit(X_train, y_train,\n",
    "            epochs=nb_epochs, batch_size=batch_size)"
   ]
  },
  {
   "cell_type": "code",
   "execution_count": 35,
   "metadata": {},
   "outputs": [],
   "source": [
    "# model.save_weights('first_canonical_weights')\n",
    "# model.save('first_canonical')"
   ]
  },
  {
   "cell_type": "code",
   "execution_count": 11,
   "metadata": {},
   "outputs": [
    {
     "data": {
      "text/plain": [
       "[<matplotlib.lines.Line2D at 0x7fe704c633d0>]"
      ]
     },
     "execution_count": 11,
     "metadata": {},
     "output_type": "execute_result"
    },
    {
     "data": {
      "image/png": "[encoded data removed]",
      "text/plain": [
       "<Figure size 432x288 with 1 Axes>"
      ]
     },
     "metadata": {
      "needs_background": "light"
     },
     "output_type": "display_data"
    }
   ],
   "source": [
    "plt.plot(h.history['accuracy'])"
   ]
  },
  {
   "cell_type": "code",
   "execution_count": 12,
   "metadata": {},
   "outputs": [
    {
     "data": {
      "text/plain": [
       "[<matplotlib.lines.Line2D at 0x7fe70618b4d0>]"
      ]
     },
     "execution_count": 12,
     "metadata": {},
     "output_type": "execute_result"
    },
    {
     "data": {
      "image/png": "[encoded data removed]",
      "text/plain": [
       "<Figure size 432x288 with 1 Axes>"
      ]
     },
     "metadata": {
      "needs_background": "light"
     },
     "output_type": "display_data"
    }
   ],
   "source": [
    "plt.plot(h.history['loss'])"
   ]
  },
  {
   "cell_type": "code",
   "execution_count": 16,
   "metadata": {},
   "outputs": [
    {
     "data": {
      "text/plain": [
       "(2000, 6, 1)"
      ]
     },
     "execution_count": 16,
     "metadata": {},
     "output_type": "execute_result"
    }
   ],
   "source": [
    "X_test.shape"
   ]
  },
  {
   "cell_type": "code",
   "execution_count": 20,
   "metadata": {},
   "outputs": [
    {
     "name": "stdout",
     "output_type": "stream",
     "text": [
      "62/62 [==============================] - 0s 4ms/step - loss: 0.0220 - accuracy: 0.9817\n"
     ]
    },
    {
     "data": {
      "text/plain": [
       "[0.02198924869298935, 0.9817206263542175]"
      ]
     },
     "execution_count": 20,
     "metadata": {},
     "output_type": "execute_result"
    }
   ],
   "source": [
    "n_test = X_test.shape[0]\n",
    "n_test = batch_size * int(n_test / batch_size)\n",
    "\n",
    "model.evaluate(X_test[:n_test], y_test[:n_test], batch_size=32)"
   ]
  },
  {
   "cell_type": "code",
   "execution_count": 21,
   "metadata": {},
   "outputs": [
    {
     "data": {
      "text/plain": [
       "array([[[ 1.       ],\n",
       "        [ 0.4512195],\n",
       "        [-1.       ],\n",
       "        [-1.       ],\n",
       "        [-1.       ],\n",
       "        [-1.       ]],\n",
       "\n",
       "       [[ 1.       ],\n",
       "        [-1.       ],\n",
       "        [-1.       ],\n",
       "        [-1.       ],\n",
       "        [-1.       ],\n",
       "        [-1.       ]]], dtype=float32)"
      ]
     },
     "execution_count": 21,
     "metadata": {},
     "output_type": "execute_result"
    }
   ],
   "source": [
    "X_test[:2]"
   ]
  },
  {
   "cell_type": "code",
   "execution_count": 22,
   "metadata": {},
   "outputs": [],
   "source": [
    "y_pred = model.predict(X_test[:-16])"
   ]
  },
  {
   "cell_type": "code",
   "execution_count": 23,
   "metadata": {},
   "outputs": [
    {
     "data": {
      "text/plain": [
       "array([[2, 1, 0, 0, 0, 0],\n",
       "       [1, 0, 0, 0, 0, 0],\n",
       "       [1, 2, 0, 0, 0, 0],\n",
       "       [3, 2, 1, 0, 0, 0],\n",
       "       [1, 2, 0, 0, 0, 0],\n",
       "       [1, 0, 0, 0, 0, 0],\n",
       "       [1, 0, 0, 0, 0, 0],\n",
       "       [3, 5, 2, 4, 1, 0],\n",
       "       [2, 1, 0, 0, 0, 0],\n",
       "       [1, 2, 0, 0, 0, 0]])"
      ]
     },
     "execution_count": 23,
     "metadata": {},
     "output_type": "execute_result"
    }
   ],
   "source": [
    "y_pred_pos = y_pred.argmax(axis=2)\n",
    "y_pred_idx = y_pred.argmax(axis=1)\n",
    "y_pred_pos[:10] #, y_pred_idx[:2]"
   ]
  },
  {
   "cell_type": "code",
   "execution_count": 24,
   "metadata": {},
   "outputs": [
    {
     "data": {
      "text/plain": [
       "array([[2, 1, 0, 0, 0, 0],\n",
       "       [1, 0, 0, 0, 0, 0],\n",
       "       [1, 2, 0, 0, 0, 0],\n",
       "       [3, 2, 1, 0, 0, 0],\n",
       "       [1, 2, 0, 0, 0, 0],\n",
       "       [1, 0, 0, 0, 0, 0],\n",
       "       [1, 0, 0, 0, 0, 0],\n",
       "       [3, 5, 2, 4, 1, 0],\n",
       "       [2, 1, 0, 0, 0, 0],\n",
       "       [1, 2, 0, 0, 0, 0]])"
      ]
     },
     "execution_count": 24,
     "metadata": {},
     "output_type": "execute_result"
    }
   ],
   "source": [
    "y_test_pos = y_test.argmax(axis=2)\n",
    "y_test_idx = y_test.argmax(axis=1)\n",
    "y_test_pos[:10] #, y_test_idx[:2]"
   ]
  },
  {
   "cell_type": "code",
   "execution_count": null,
   "metadata": {},
   "outputs": [],
   "source": []
  },
  {
   "cell_type": "code",
   "execution_count": 38,
   "metadata": {},
   "outputs": [
    {
     "data": {
      "text/plain": [
       "array([[[ 0.2],\n",
       "        [ 1. ],\n",
       "        [-1. ],\n",
       "        [-1. ],\n",
       "        [-1. ],\n",
       "        [-1. ]],\n",
       "\n",
       "       [[ 1. ],\n",
       "        [ 1. ],\n",
       "        [ 1. ],\n",
       "        [ 1. ],\n",
       "        [ 1. ],\n",
       "        [-1. ]],\n",
       "\n",
       "       [[ 1. ],\n",
       "        [ 0.2],\n",
       "        [ 0.1],\n",
       "        [ 1. ],\n",
       "        [ 0.8],\n",
       "        [-1. ]]], dtype=float32)"
      ]
     },
     "execution_count": 38,
     "metadata": {},
     "output_type": "execute_result"
    }
   ],
   "source": [
    "X_ = X_test[:batch_size]\n",
    "X_[0] = [[0.2], [1.0], [-1], [-1], [-1], [-1]]\n",
    "X_[1] = [[1.0], [1.0], [1.0], [1.0], [1.0], [-1]]\n",
    "X_[2] = [[1.0], [0.2], [0.1], [1.0], [0.8], [-1]]\n",
    "\n",
    "X_[:3]"
   ]
  },
  {
   "cell_type": "code",
   "execution_count": 39,
   "metadata": {},
   "outputs": [
    {
     "data": {
      "text/plain": [
       "array([[1, 2, 0, 0, 0, 0],\n",
       "       [5, 5, 2, 3, 3, 0],\n",
       "       [3, 2, 5, 1, 4, 0]])"
      ]
     },
     "execution_count": 39,
     "metadata": {},
     "output_type": "execute_result"
    }
   ],
   "source": [
    "y_pred = model.predict(X_)\n",
    "y_pred_pos = y_pred.argmax(axis=2)\n",
    "y_pred_idx = y_pred.argmax(axis=1)\n",
    "y_pred_pos[:3]#, y_pred_idx[:3]"
   ]
  },
  {
   "cell_type": "code",
   "execution_count": 26,
   "metadata": {},
   "outputs": [],
   "source": [
    "# _X = X_test[:2]\n",
    "# m = masking(_X)\n",
    "# e, h, c = encoder(m)\n",
    "# K.sum( K.cast((e[:, -1] == h),  dtype=np.int32) ) / K.prod(h.shape)\n",
    "# d = decoder(e, [h,c])\n",
    "# d"
   ]
  },
  {
   "cell_type": "code",
   "execution_count": 40,
   "metadata": {},
   "outputs": [],
   "source": [
    "# def compute_accuracy(_y_true, _y_pred):\n",
    "#     acc = keras.metrics.Accuracy()\n",
    "#     return acc(_y_true, _y_pred).numpy()\n",
    "\n",
    "# print( compute_accuracy(y_pred_idx.argsort(), y_pred_pos) )\n",
    "# print( compute_accuracy(y_test_idx.argsort(), y_test_pos) )\n",
    "# print( compute_accuracy(y_pred_pos, y_test_pos[:-16]) )\n",
    "# print( compute_accuracy(y_pred_idx, y_test_idx[:-16]) )"
   ]
  },
  {
   "cell_type": "code",
   "execution_count": null,
   "metadata": {},
   "outputs": [],
   "source": []
  },
  {
   "cell_type": "code",
   "execution_count": null,
   "metadata": {},
   "outputs": [],
   "source": []
  },
  {
   "cell_type": "code",
   "execution_count": null,
   "metadata": {},
   "outputs": [],
   "source": []
  },
  {
   "cell_type": "code",
   "execution_count": null,
   "metadata": {},
   "outputs": [],
   "source": []
  }
 ],
 "metadata": {
  "interpreter": {
   "hash": "3cb2bdb0a6209896b2c08e350958f92213a3044df550f2817f068195d36b5650"
  },
  "kernelspec": {
   "display_name": "Python 3.6.8 64-bit ('base': conda)",
   "language": "python",
   "name": "python3"
  },
  "language_info": {
   "codemirror_mode": {
    "name": "ipython",
    "version": 3
   },
   "file_extension": ".py",
   "mimetype": "text/x-python",
   "name": "python",
   "nbconvert_exporter": "python",
   "pygments_lexer": "ipython3",
   "version": "3.7.11"
  },
  "orig_nbformat": 4
 },
 "nbformat": 4,
 "nbformat_minor": 2
}
