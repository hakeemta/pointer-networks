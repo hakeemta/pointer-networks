{
 "cells": [
  {
   "cell_type": "code",
   "execution_count": 1,
   "metadata": {},
   "outputs": [],
   "source": [
    "from keras.models import Model\n",
    "from keras.layers import LSTM, Input\n",
    "from keras.utils.np_utils import to_categorical\n",
    "from PointerLSTM import PointerLSTM as Pointerv0\n",
    "import numpy as np\n",
    "\n",
    "from matplotlib import pyplot as plt"
   ]
  },
  {
   "cell_type": "code",
   "execution_count": 2,
   "metadata": {},
   "outputs": [
    {
     "data": {
      "text/plain": [
       "'2.7.0'"
      ]
     },
     "execution_count": 2,
     "metadata": {},
     "output_type": "execute_result"
    }
   ],
   "source": [
    "import tensorflow as tf\n",
    "tf.__version__"
   ]
  },
  {
   "cell_type": "code",
   "execution_count": 3,
   "metadata": {},
   "outputs": [],
   "source": [
    "%reload_ext autoreload\n",
    "%autoreload 2"
   ]
  },
  {
   "cell_type": "code",
   "execution_count": 141,
   "metadata": {},
   "outputs": [],
   "source": [
    "import keras.backend as K\n",
    "from keras.activations import tanh, softmax\n",
    "from keras.layers import RNN, LSTM, LSTMCell, Dense, Layer, Masking, Lambda\n",
    "import keras"
   ]
  },
  {
   "cell_type": "code",
   "execution_count": null,
   "metadata": {},
   "outputs": [],
   "source": []
  },
  {
   "cell_type": "code",
   "execution_count": 5,
   "metadata": {},
   "outputs": [],
   "source": [
    "def order(X, by_idx=False):\n",
    "    # Are these the same?!\n",
    "    # Ip => Index I occupying pth position\n",
    "    y = X.argsort()\n",
    "\n",
    "    if not by_idx:\n",
    "        return y\n",
    "\n",
    "    # Pi => Position P for ith index\n",
    "    return y.argsort()"
   ]
  },
  {
   "cell_type": "code",
   "execution_count": 6,
   "metadata": {},
   "outputs": [],
   "source": [
    "def gen_seq(**kwargs):\n",
    "    X = np.random.randint(**kwargs)\n",
    "\n",
    "    def _order(order_by_idx=False):\n",
    "        y = order(X, order_by_idx)\n",
    "        return X, y\n",
    "\n",
    "    return _order"
   ]
  },
  {
   "cell_type": "code",
   "execution_count": 7,
   "metadata": {},
   "outputs": [],
   "source": [
    "def gen_data(N, seq_len, order_by_idx=False, low=0, high=100):\n",
    "    seq_gen = gen_seq(low=low, high=high, size=(N, seq_len))\n",
    "\n",
    "    X, y = seq_gen(order_by_idx=False)\n",
    "    return X, y"
   ]
  },
  {
   "cell_type": "code",
   "execution_count": null,
   "metadata": {},
   "outputs": [],
   "source": []
  },
  {
   "cell_type": "code",
   "execution_count": 243,
   "metadata": {},
   "outputs": [],
   "source": [
    "class PointerAttention(Layer):\n",
    "    def __init__(self, units, **kwargs):\n",
    "        super(PointerAttention, self).__init__(**kwargs)\n",
    "        self.W1 = Dense(units, use_bias=False)\n",
    "        self.W2 = Dense(units, use_bias=False)\n",
    "        self.V = Dense(1, use_bias=False)\n",
    "        self.supports_masking = True\n",
    "\n",
    "    def _extract_context_vector(self, value, weights):\n",
    "        idx = K.expand_dims( K.argmax(weights) )\n",
    "        r = K.expand_dims( K.arange(idx.shape[0], dtype=idx.dtype) )\n",
    "        indices = K.concatenate( [r, idx] )\n",
    "        return tf.gather_nd(value, indices)\n",
    "        \n",
    "    def call(self, value, query, mask=None):\n",
    "        w1_key = self.W1(value)\n",
    "        w2_query = self.W2(query)\n",
    "        w2_query = K.repeat(w2_query, w1_key.shape[1])\n",
    "\n",
    "        u = self.V( tanh(w1_key + w2_query) )\n",
    "        u = K.squeeze(u, axis=2)\n",
    "\n",
    "        if mask is not None:\n",
    "            mask_values = K.cast(mask[0], u.dtype)\n",
    "            u += (1-mask_values) * K.constant(-1e20) # -np.infty\n",
    "                \n",
    "        a = softmax(u, axis=1)\n",
    "        context = self._extract_context_vector(value, a)\n",
    "        return context, a"
   ]
  },
  {
   "cell_type": "code",
   "execution_count": 244,
   "metadata": {},
   "outputs": [],
   "source": [
    "class PointerDecoder(Layer):\n",
    "    '''\n",
    "    The cell abstraction, together with the generic keras.layers.RNN class, make it very easy to implement custom RNN architectures for your research.\n",
    "    https://www.tensorflow.org/guide/keras/rnn\n",
    "    '''\n",
    "    def __init__(self, units, output_size, **kwargs):\n",
    "        super(PointerDecoder, self).__init__(**kwargs)\n",
    "        self.units = units\n",
    "        self.output_size = output_size\n",
    "        self.lstm = LSTM(self.units, return_sequences=True, return_state=True)\n",
    "        self.attention = self.attention = PointerAttention(units)\n",
    "        self.supports_masking = True\n",
    "\n",
    "    def call(self, enc_outputs, initial_state=None, mask=None, *args, **kwargs):\n",
    "        probs_outputs = []\n",
    "        # Use the last state of the encoder as the first inputs and use its states as initial states\n",
    "        inputs = enc_outputs[:, -1:]\n",
    "        states = initial_state\n",
    "        for _ in range(self.output_size):\n",
    "            # Run the decoder on one timestep\n",
    "            outputs, state_h, state_c = self.lstm(inputs, initial_state=states)\n",
    "\n",
    "            # Query with the hidden state and store the current probs\n",
    "            context, probs = self.attention(enc_outputs, state_h, mask)\n",
    "            probs_outputs.append( K.expand_dims(probs, axis=1) )\n",
    "\n",
    "            # Reinject the pointed context as inputs for the next timestep and update the state\n",
    "            inputs = K.expand_dims(context, axis=1)\n",
    "            states = [state_h, state_c]\n",
    "\n",
    "        # Concatenate all probs\n",
    "        concat = Lambda(lambda x: K.concatenate(x, axis=1))\n",
    "        outputs = concat(probs_outputs)\n",
    "        # outputs = K.concatenate(probs_outputs, axis=1)\n",
    "        return outputs\n"
   ]
  },
  {
   "cell_type": "code",
   "execution_count": 307,
   "metadata": {},
   "outputs": [],
   "source": [
    "N = 10000\n",
    "seq_len = 5\n",
    "X, y = gen_data(N, seq_len, low=0, high=1000)"
   ]
  },
  {
   "cell_type": "code",
   "execution_count": 308,
   "metadata": {},
   "outputs": [
    {
     "data": {
      "text/plain": [
       "((8000, 5, 1), (8000, 1, 5))"
      ]
     },
     "execution_count": 308,
     "metadata": {},
     "output_type": "execute_result"
    }
   ],
   "source": [
    "split = int(0.8 * N)\n",
    "\n",
    "_X = X / np.expand_dims(X.max(axis=1), axis=1)\n",
    "_X = np.expand_dims(_X, axis=2)\n",
    "# _X = np.repeat(_X, 4, axis=2)\n",
    "\n",
    "_y = to_categorical(y)\n",
    "_y = _y[:, :1]\n",
    "\n",
    "X_train = _X[:split]\n",
    "y_train = _y[:split]\n",
    "\n",
    "X_test = _X[split:]\n",
    "y_test = _y[split:]\n",
    "\n",
    "X_train.shape, y_train.shape"
   ]
  },
  {
   "cell_type": "code",
   "execution_count": 309,
   "metadata": {},
   "outputs": [],
   "source": [
    "# X_train[:2], X_test[:2]"
   ]
  },
  {
   "cell_type": "code",
   "execution_count": 310,
   "metadata": {},
   "outputs": [
    {
     "name": "stdout",
     "output_type": "stream",
     "text": [
      "Model: \"model_27\"\n",
      "__________________________________________________________________________________________________\n",
      " Layer (type)                   Output Shape         Param #     Connected to                     \n",
      "==================================================================================================\n",
      " input (InputLayer)             [(32, 5, 1)]         0           []                               \n",
      "                                                                                                  \n",
      " masking (Masking)              (32, 5, 1)           0           ['input[0][0]']                  \n",
      "                                                                                                  \n",
      " encoder (LSTM)                 [(32, 5, 64),        16896       ['masking[0][0]']                \n",
      "                                 (32, 64),                                                        \n",
      "                                 (32, 64)]                                                        \n",
      "                                                                                                  \n",
      " decoder (PointerDecoder)       (32, 1, 5)           41280       ['encoder[0][0]',                \n",
      "                                                                  'encoder[0][1]',                \n",
      "                                                                  'encoder[0][2]']                \n",
      "                                                                                                  \n",
      "==================================================================================================\n",
      "Total params: 58,176\n",
      "Trainable params: 58,176\n",
      "Non-trainable params: 0\n",
      "__________________________________________________________________________________________________\n"
     ]
    }
   ],
   "source": [
    "seq_shape = X_train.shape[1:]\n",
    "hidden_units = 64\n",
    "batch_size = 32\n",
    "output_size = 1 #X_train.shape[1]\n",
    "\n",
    "inputs = Input(shape=seq_shape, name='input', batch_size=batch_size)\n",
    "masked = Masking(mask_value=-1, name='masking') (inputs)\n",
    "encoder = LSTM(hidden_units, name='encoder', return_sequences=True, return_state=True)\n",
    "enc, state_h, state_c =  encoder(masked)\n",
    "\n",
    "decoder = PointerDecoder(hidden_units, output_size=output_size, name='decoder')\n",
    "dec = decoder(enc, initial_state=[state_h, state_c])\n",
    "\n",
    "model = Model(inputs, dec)\n",
    "model.summary()"
   ]
  },
  {
   "cell_type": "code",
   "execution_count": 311,
   "metadata": {},
   "outputs": [],
   "source": [
    "model.compile(optimizer='adam',\n",
    "              loss='categorical_crossentropy',\n",
    "              metrics=['accuracy'])"
   ]
  },
  {
   "cell_type": "code",
   "execution_count": 312,
   "metadata": {},
   "outputs": [
    {
     "name": "stdout",
     "output_type": "stream",
     "text": [
      "Epoch 1/20\n",
      "250/250 [==============================] - 5s 4ms/step - loss: 0.5921 - accuracy: 0.8406\n",
      "Epoch 2/20\n",
      "250/250 [==============================] - 1s 4ms/step - loss: 0.1501 - accuracy: 0.9582\n",
      "Epoch 3/20\n",
      "250/250 [==============================] - 1s 4ms/step - loss: 0.1022 - accuracy: 0.9714\n",
      "Epoch 4/20\n",
      "250/250 [==============================] - 1s 4ms/step - loss: 0.0749 - accuracy: 0.9804\n",
      "Epoch 5/20\n",
      "250/250 [==============================] - 1s 4ms/step - loss: 0.0624 - accuracy: 0.9822\n",
      "Epoch 6/20\n",
      "250/250 [==============================] - 1s 4ms/step - loss: 0.0568 - accuracy: 0.9834\n",
      "Epoch 7/20\n",
      "250/250 [==============================] - 1s 4ms/step - loss: 0.0500 - accuracy: 0.9836\n",
      "Epoch 8/20\n",
      "250/250 [==============================] - 1s 5ms/step - loss: 0.0448 - accuracy: 0.9861\n",
      "Epoch 9/20\n",
      "250/250 [==============================] - 1s 4ms/step - loss: 0.0429 - accuracy: 0.9858\n",
      "Epoch 10/20\n",
      "250/250 [==============================] - 1s 4ms/step - loss: 0.0342 - accuracy: 0.9899\n",
      "Epoch 11/20\n",
      "250/250 [==============================] - 1s 4ms/step - loss: 0.0364 - accuracy: 0.9877\n",
      "Epoch 12/20\n",
      "250/250 [==============================] - 1s 6ms/step - loss: 0.0333 - accuracy: 0.9881\n",
      "Epoch 13/20\n",
      "250/250 [==============================] - 1s 5ms/step - loss: 0.0299 - accuracy: 0.9902\n",
      "Epoch 14/20\n",
      "250/250 [==============================] - 1s 4ms/step - loss: 0.0390 - accuracy: 0.9861\n",
      "Epoch 15/20\n",
      "250/250 [==============================] - 1s 5ms/step - loss: 0.0345 - accuracy: 0.9877\n",
      "Epoch 16/20\n",
      "250/250 [==============================] - 1s 4ms/step - loss: 0.0294 - accuracy: 0.9899\n",
      "Epoch 17/20\n",
      "250/250 [==============================] - 1s 4ms/step - loss: 0.0262 - accuracy: 0.9918\n",
      "Epoch 18/20\n",
      "250/250 [==============================] - 1s 4ms/step - loss: 0.0258 - accuracy: 0.9906\n",
      "Epoch 19/20\n",
      "250/250 [==============================] - 1s 4ms/step - loss: 0.0279 - accuracy: 0.9890\n",
      "Epoch 20/20\n",
      "250/250 [==============================] - 1s 4ms/step - loss: 0.0260 - accuracy: 0.9906\n"
     ]
    }
   ],
   "source": [
    "nb_epochs = 20\n",
    "h = model.fit(X_train, y_train,\n",
    "            epochs=nb_epochs, batch_size=batch_size)"
   ]
  },
  {
   "cell_type": "code",
   "execution_count": 313,
   "metadata": {},
   "outputs": [
    {
     "data": {
      "text/plain": [
       "[<matplotlib.lines.Line2D at 0x7fe8b0fb5ad0>]"
      ]
     },
     "execution_count": 313,
     "metadata": {},
     "output_type": "execute_result"
    },
    {
     "data": {
      "image/png": "[encoded data removed]",
      "text/plain": [
       "<Figure size 432x288 with 1 Axes>"
      ]
     },
     "metadata": {
      "needs_background": "light"
     },
     "output_type": "display_data"
    }
   ],
   "source": [
    "plt.plot(h.history['accuracy'])"
   ]
  },
  {
   "cell_type": "code",
   "execution_count": 314,
   "metadata": {},
   "outputs": [
    {
     "data": {
      "text/plain": [
       "[<matplotlib.lines.Line2D at 0x7fe8aed6fdd0>]"
      ]
     },
     "execution_count": 314,
     "metadata": {},
     "output_type": "execute_result"
    },
    {
     "data": {
      "image/png": "[encoded data removed]",
      "text/plain": [
       "<Figure size 432x288 with 1 Axes>"
      ]
     },
     "metadata": {
      "needs_background": "light"
     },
     "output_type": "display_data"
    }
   ],
   "source": [
    "plt.plot(h.history['loss'])"
   ]
  },
  {
   "cell_type": "code",
   "execution_count": 315,
   "metadata": {},
   "outputs": [
    {
     "name": "stdout",
     "output_type": "stream",
     "text": [
      "62/62 [==============================] - 1s 2ms/step - loss: 0.0391 - accuracy: 0.9808\n"
     ]
    },
    {
     "data": {
      "text/plain": [
       "[0.03910887986421585, 0.9808467626571655]"
      ]
     },
     "execution_count": 315,
     "metadata": {},
     "output_type": "execute_result"
    }
   ],
   "source": [
    "model.evaluate(X_test[:-16], y_test[:-16], batch_size=batch_size)"
   ]
  },
  {
   "cell_type": "code",
   "execution_count": 316,
   "metadata": {},
   "outputs": [
    {
     "data": {
      "text/plain": [
       "array([[3],\n",
       "       [2]])"
      ]
     },
     "execution_count": 316,
     "metadata": {},
     "output_type": "execute_result"
    }
   ],
   "source": [
    "y_pred = model.predict(X_test[:-16])\n",
    "y_pred.argmax(axis=2)[:2]"
   ]
  },
  {
   "cell_type": "code",
   "execution_count": 317,
   "metadata": {},
   "outputs": [
    {
     "data": {
      "text/plain": [
       "array([[0, 0, 0, 0, 0],\n",
       "       [0, 0, 0, 0, 0]])"
      ]
     },
     "execution_count": 317,
     "metadata": {},
     "output_type": "execute_result"
    }
   ],
   "source": [
    "y_pred.argmax(axis=1)[:2]"
   ]
  },
  {
   "cell_type": "code",
   "execution_count": 327,
   "metadata": {},
   "outputs": [],
   "source": [
    "# y_pred[:2]#.sum(axis=2)"
   ]
  },
  {
   "cell_type": "code",
   "execution_count": 328,
   "metadata": {},
   "outputs": [
    {
     "data": {
      "text/plain": [
       "array([[3],\n",
       "       [2]])"
      ]
     },
     "execution_count": 328,
     "metadata": {},
     "output_type": "execute_result"
    }
   ],
   "source": [
    "y_test.argmax(axis=2)[:2]"
   ]
  },
  {
   "cell_type": "code",
   "execution_count": 329,
   "metadata": {},
   "outputs": [
    {
     "data": {
      "text/plain": [
       "array([[[0.52873563],\n",
       "        [0.64785789],\n",
       "        [0.74712644],\n",
       "        [0.45036573],\n",
       "        [1.        ]],\n",
       "\n",
       "       [[0.32320162],\n",
       "        [1.        ],\n",
       "        [0.23910841],\n",
       "        [0.45997974],\n",
       "        [0.62006079]]])"
      ]
     },
     "execution_count": 329,
     "metadata": {},
     "output_type": "execute_result"
    }
   ],
   "source": [
    "X_test[:2]"
   ]
  },
  {
   "cell_type": "code",
   "execution_count": 301,
   "metadata": {},
   "outputs": [],
   "source": [
    "y_pos = order(X_test[..., 0])\n",
    "y_idx = order(X_test[..., 0], True)"
   ]
  },
  {
   "cell_type": "code",
   "execution_count": 302,
   "metadata": {},
   "outputs": [
    {
     "data": {
      "text/plain": [
       "3999006"
      ]
     },
     "execution_count": 302,
     "metadata": {},
     "output_type": "execute_result"
    }
   ],
   "source": [
    "np.equal(y_pos, y_test).sum()"
   ]
  },
  {
   "cell_type": "code",
   "execution_count": 37,
   "metadata": {},
   "outputs": [],
   "source": [
    "# y_pred = model.predict(X_test)"
   ]
  },
  {
   "cell_type": "code",
   "execution_count": 588,
   "metadata": {},
   "outputs": [
    {
     "data": {
      "text/plain": [
       "0.9685"
      ]
     },
     "execution_count": 588,
     "metadata": {},
     "output_type": "execute_result"
    }
   ],
   "source": [
    "# np.equal(y_idx, y_pred.argmax(axis=1)).sum() / np.product(y_test.shape) "
   ]
  },
  {
   "cell_type": "code",
   "execution_count": 38,
   "metadata": {},
   "outputs": [],
   "source": [
    "# np.equal(y_pos, y_pred.argmax(axis=2)).sum() / np.product(y_test.shape)"
   ]
  },
  {
   "cell_type": "code",
   "execution_count": null,
   "metadata": {},
   "outputs": [],
   "source": []
  },
  {
   "cell_type": "code",
   "execution_count": 39,
   "metadata": {},
   "outputs": [],
   "source": [
    "# y_pred = model.predict([[[1.0], [1.0], [0.5], [0.2], [0.2]]])\n",
    "# y_pred.argmax(axis=2), y_pred.argmax(axis=1)"
   ]
  },
  {
   "cell_type": "code",
   "execution_count": 40,
   "metadata": {},
   "outputs": [],
   "source": [
    "# y_pred = model.predict([[[1.0], [1.0], [1.0], [1.0], [1.0]]])\n",
    "# y_pred.argmax(axis=2), y_pred.argmax(axis=1)"
   ]
  },
  {
   "cell_type": "code",
   "execution_count": null,
   "metadata": {},
   "outputs": [],
   "source": []
  },
  {
   "cell_type": "code",
   "execution_count": 28,
   "metadata": {},
   "outputs": [],
   "source": [
    "# cell = PointerLSTMCell(hidden_units)\n",
    "# dec, _, _ = RNN(cell, name='decoder', return_sequences=True, return_state=True) \\\n",
    "#                     (enc, initial_state=[state_h, state_c], constants=enc)"
   ]
  },
  {
   "cell_type": "code",
   "execution_count": 29,
   "metadata": {},
   "outputs": [],
   "source": [
    "# enc, state = K.zeros((32, 5, 64)), [K.zeros((32, 64)), K.zeros((32, 64))]\n",
    "# p = PointerLSTM(64, return_sequences=True, return_state=True, name='decoder')\n",
    "# _ = p.call(enc, initial_state=state, constants=[enc])"
   ]
  },
  {
   "cell_type": "code",
   "execution_count": 91,
   "metadata": {},
   "outputs": [
    {
     "data": {
      "text/plain": [
       "<tf.Tensor: shape=(1, 5), dtype=float32, numpy=\n",
       "array([[0.24137056, 0.22950119, 0.10816344, 0.2227062 , 0.19825862]],\n",
       "      dtype=float32)>"
      ]
     },
     "execution_count": 91,
     "metadata": {},
     "output_type": "execute_result"
    }
   ],
   "source": [
    "units = 2\n",
    "att = Attention(units)\n",
    "X_enc = K.constant( np.random.random((1, 5, units)) )\n",
    "X_dec = K.constant( np.random.random((1, units)) )\n",
    "\n",
    "# mask =  K.constant( [[False, False, False, True, True]] )\n",
    "scores = att(X_enc, X_dec, mask=None)\n",
    "scores"
   ]
  },
  {
   "cell_type": "code",
   "execution_count": 92,
   "metadata": {},
   "outputs": [],
   "source": [
    "l = LSTM(hidden_units, name='encoder', return_sequences=True, return_state=True)"
   ]
  },
  {
   "cell_type": "code",
   "execution_count": 93,
   "metadata": {},
   "outputs": [],
   "source": [
    "enc, state_h, state_c = l(X_enc)"
   ]
  },
  {
   "cell_type": "code",
   "execution_count": 95,
   "metadata": {},
   "outputs": [
    {
     "data": {
      "text/plain": [
       "<tf.Tensor: shape=(1, 64), dtype=bool, numpy=\n",
       "array([[ True,  True,  True,  True,  True,  True,  True,  True,  True,\n",
       "         True,  True,  True,  True,  True,  True,  True,  True,  True,\n",
       "         True,  True,  True,  True,  True,  True,  True,  True,  True,\n",
       "         True,  True,  True,  True,  True,  True,  True,  True,  True,\n",
       "         True,  True,  True,  True,  True,  True,  True,  True,  True,\n",
       "         True,  True,  True,  True,  True,  True,  True,  True,  True,\n",
       "         True,  True,  True,  True,  True,  True,  True,  True,  True,\n",
       "         True]])>"
      ]
     },
     "execution_count": 95,
     "metadata": {},
     "output_type": "execute_result"
    }
   ],
   "source": [
    "state_h == enc[:, -1]"
   ]
  },
  {
   "cell_type": "code",
   "execution_count": null,
   "metadata": {},
   "outputs": [],
   "source": []
  },
  {
   "cell_type": "code",
   "execution_count": null,
   "metadata": {},
   "outputs": [],
   "source": []
  }
 ],
 "metadata": {
  "interpreter": {
   "hash": "3cb2bdb0a6209896b2c08e350958f92213a3044df550f2817f068195d36b5650"
  },
  "kernelspec": {
   "display_name": "Python 3.6.8 64-bit ('base': conda)",
   "language": "python",
   "name": "python3"
  },
  "language_info": {
   "codemirror_mode": {
    "name": "ipython",
    "version": 3
   },
   "file_extension": ".py",
   "mimetype": "text/x-python",
   "name": "python",
   "nbconvert_exporter": "python",
   "pygments_lexer": "ipython3",
   "version": "3.7.11"
  },
  "orig_nbformat": 4
 },
 "nbformat": 4,
 "nbformat_minor": 2
}
