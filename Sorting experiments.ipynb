{
 "cells": [
  {
   "cell_type": "code",
   "execution_count": 1,
   "metadata": {},
   "outputs": [],
   "source": [
    "import numpy as np\n",
    "from matplotlib import pyplot as plt\n",
    "\n",
    "from keras.models import Model\n",
    "from keras.layers import LSTM, Input, Masking\n",
    "from keras.utils.np_utils import to_categorical\n",
    "from keras.preprocessing.sequence import pad_sequences\n",
    "import keras"
   ]
  },
  {
   "cell_type": "code",
   "execution_count": 2,
   "metadata": {},
   "outputs": [],
   "source": [
    "from pointer_lstm import PointerDecoder\n",
    "from sorting_dataset import gen_data, gen_jagged_data"
   ]
  },
  {
   "cell_type": "code",
   "execution_count": 3,
   "metadata": {},
   "outputs": [
    {
     "data": {
      "text/plain": [
       "'2.7.0'"
      ]
     },
     "execution_count": 3,
     "metadata": {},
     "output_type": "execute_result"
    }
   ],
   "source": [
    "import tensorflow as tf\n",
    "tf.__version__"
   ]
  },
  {
   "cell_type": "code",
   "execution_count": 4,
   "metadata": {},
   "outputs": [],
   "source": [
    "%reload_ext autoreload\n",
    "%autoreload 2\n",
    "\n",
    "np.random.seed(17)"
   ]
  },
  {
   "cell_type": "code",
   "execution_count": null,
   "metadata": {},
   "outputs": [],
   "source": []
  },
  {
   "cell_type": "code",
   "execution_count": 5,
   "metadata": {},
   "outputs": [
    {
     "data": {
      "text/plain": [
       "((10000, 6), (10000, 6))"
      ]
     },
     "execution_count": 5,
     "metadata": {},
     "output_type": "execute_result"
    }
   ],
   "source": [
    "N = 10000\n",
    "max_seq_len = 5\n",
    "output_size = max_seq_len + 1\n",
    "\n",
    "# X, y = gen_data(N, max_seq_len, low=0, high=1000)\n",
    "X, y = gen_jagged_data(N, max_seq_len, low=1)\n",
    "\n",
    "# Pad the jagged sequences\n",
    "X = pad_sequences(X, maxlen=max_seq_len + 1, value=-1, padding='post', truncating='post', dtype=np.float32)\n",
    "y = pad_sequences(y, value=0, padding='post', truncating='post') # maxlen=output_size, \n",
    "\n",
    "# Shuffle the sequences\n",
    "idx = np.arange(X.shape[0])\n",
    "np.random.shuffle(idx)\n",
    "X = X[idx]\n",
    "y = y[idx]\n",
    "\n",
    "X.shape, y.shape"
   ]
  },
  {
   "cell_type": "code",
   "execution_count": 6,
   "metadata": {},
   "outputs": [
    {
     "data": {
      "text/plain": [
       "(array([[16., 37., 23., 58., -1., -1.],\n",
       "        [ 7., 71., 73., 33., -1., -1.]], dtype=float32),\n",
       " array([[1, 3, 2, 4, 0, 0],\n",
       "        [1, 4, 2, 3, 0, 0]], dtype=int32))"
      ]
     },
     "execution_count": 6,
     "metadata": {},
     "output_type": "execute_result"
    }
   ],
   "source": [
    "X[:2], y[:2]"
   ]
  },
  {
   "cell_type": "code",
   "execution_count": 7,
   "metadata": {},
   "outputs": [
    {
     "data": {
      "text/plain": [
       "((8000, 6, 1), (8000, 6, 6), (2000, 6, 1), (2000, 6, 6))"
      ]
     },
     "execution_count": 7,
     "metadata": {},
     "output_type": "execute_result"
    }
   ],
   "source": [
    "split = int(0.8 * N)\n",
    "\n",
    "_X = X / np.expand_dims(X.max(axis=1), axis=1)\n",
    "_X = np.expand_dims(_X, axis=2)\n",
    "# _X = np.repeat(_X, 4, axis=2)\n",
    "\n",
    "# OHE the labels\n",
    "_y = to_categorical(y, num_classes=output_size)\n",
    "# _y = _y[:, :output_size]\n",
    "\n",
    "X_train = _X[:split]\n",
    "y_train = _y[:split]\n",
    "\n",
    "X_test = _X[split:]\n",
    "y_test = _y[split:]\n",
    "\n",
    "X_train.shape, y_train.shape, X_test.shape, y_test.shape"
   ]
  },
  {
   "cell_type": "code",
   "execution_count": 8,
   "metadata": {},
   "outputs": [
    {
     "data": {
      "text/plain": [
       "array([[2, 1, 0, 0, 0, 0],\n",
       "       [1, 0, 0, 0, 0, 0]])"
      ]
     },
     "execution_count": 8,
     "metadata": {},
     "output_type": "execute_result"
    }
   ],
   "source": [
    "y_test.argmax(axis=2)[:2]"
   ]
  },
  {
   "cell_type": "code",
   "execution_count": 9,
   "metadata": {},
   "outputs": [
    {
     "data": {
      "text/plain": [
       "array([[[0., 0., 1., 0., 0., 0.],\n",
       "        [0., 1., 0., 0., 0., 0.],\n",
       "        [1., 0., 0., 0., 0., 0.],\n",
       "        [1., 0., 0., 0., 0., 0.],\n",
       "        [1., 0., 0., 0., 0., 0.],\n",
       "        [1., 0., 0., 0., 0., 0.]],\n",
       "\n",
       "       [[0., 1., 0., 0., 0., 0.],\n",
       "        [1., 0., 0., 0., 0., 0.],\n",
       "        [1., 0., 0., 0., 0., 0.],\n",
       "        [1., 0., 0., 0., 0., 0.],\n",
       "        [1., 0., 0., 0., 0., 0.],\n",
       "        [1., 0., 0., 0., 0., 0.]]], dtype=float32)"
      ]
     },
     "execution_count": 9,
     "metadata": {},
     "output_type": "execute_result"
    }
   ],
   "source": [
    "y_test[:2]"
   ]
  },
  {
   "cell_type": "code",
   "execution_count": null,
   "metadata": {},
   "outputs": [],
   "source": []
  },
  {
   "cell_type": "code",
   "execution_count": 10,
   "metadata": {},
   "outputs": [
    {
     "name": "stderr",
     "output_type": "stream",
     "text": [
      "2021-12-20 10:56:59.435077: I tensorflow/core/platform/cpu_feature_guard.cc:151] This TensorFlow binary is optimized with oneAPI Deep Neural Network Library (oneDNN) to use the following CPU instructions in performance-critical operations:  AVX2 FMA\n",
      "To enable them in other operations, rebuild TensorFlow with the appropriate compiler flags.\n"
     ]
    },
    {
     "name": "stdout",
     "output_type": "stream",
     "text": [
      "Model: \"model\"\n",
      "__________________________________________________________________________________________________\n",
      " Layer (type)                   Output Shape         Param #     Connected to                     \n",
      "==================================================================================================\n",
      " input (InputLayer)             [(16, 6, 1)]         0           []                               \n",
      "                                                                                                  \n",
      " masking (Masking)              (16, 6, 1)           0           ['input[0][0]']                  \n",
      "                                                                                                  \n",
      " encoder (LSTM)                 [(16, 6, 32),        4352        ['masking[0][0]']                \n",
      "                                 (16, 32),                                                        \n",
      "                                 (16, 32)]                                                        \n",
      "                                                                                                  \n",
      " decoder (PointerDecoder)       (16, 6, 6)           10400       ['encoder[0][0]',                \n",
      "                                                                  'encoder[0][1]',                \n",
      "                                                                  'encoder[0][2]']                \n",
      "                                                                                                  \n",
      "==================================================================================================\n",
      "Total params: 14,752\n",
      "Trainable params: 14,752\n",
      "Non-trainable params: 0\n",
      "__________________________________________________________________________________________________\n"
     ]
    }
   ],
   "source": [
    "seq_shape = X_train.shape[1:]\n",
    "hidden_units = 32\n",
    "batch_size = 16\n",
    "\n",
    "inputs = Input(shape=seq_shape, name='input', batch_size=batch_size)\n",
    "masking = Masking(mask_value=-1, name='masking') \n",
    "masked = masking(inputs)\n",
    "encoder = LSTM(hidden_units, name='encoder', return_sequences=True, return_state=True)\n",
    "enc, state_h, state_c =  encoder(masked)\n",
    "\n",
    "decoder = PointerDecoder(hidden_units, output_size=output_size, name='decoder')\n",
    "dec = decoder(enc, initial_state=[state_h, state_c])\n",
    "\n",
    "model = Model(inputs, dec)\n",
    "model.summary()"
   ]
  },
  {
   "cell_type": "code",
   "execution_count": 11,
   "metadata": {},
   "outputs": [],
   "source": [
    "model.compile(optimizer='adam',\n",
    "              loss='categorical_crossentropy',\n",
    "              metrics=['accuracy'])"
   ]
  },
  {
   "cell_type": "code",
   "execution_count": 12,
   "metadata": {},
   "outputs": [
    {
     "name": "stdout",
     "output_type": "stream",
     "text": [
      "Epoch 1/20\n",
      "500/500 [==============================] - 12s 6ms/step - loss: 1.0274 - accuracy: 0.5825\n",
      "Epoch 2/20\n",
      "500/500 [==============================] - 3s 6ms/step - loss: 0.7505 - accuracy: 0.6612\n",
      "Epoch 3/20\n",
      "500/500 [==============================] - 3s 6ms/step - loss: 0.6567 - accuracy: 0.6627\n",
      "Epoch 4/20\n",
      "500/500 [==============================] - 3s 6ms/step - loss: 0.5997 - accuracy: 0.6694\n",
      "Epoch 5/20\n",
      "500/500 [==============================] - 3s 6ms/step - loss: 0.5421 - accuracy: 0.6692\n",
      "Epoch 6/20\n",
      "500/500 [==============================] - 3s 6ms/step - loss: 0.5261 - accuracy: 0.6620\n",
      "Epoch 7/20\n",
      "500/500 [==============================] - 3s 6ms/step - loss: 0.5307 - accuracy: 0.6646\n",
      "Epoch 8/20\n",
      "500/500 [==============================] - 3s 6ms/step - loss: 0.4903 - accuracy: 0.6696\n",
      "Epoch 9/20\n",
      "500/500 [==============================] - 3s 6ms/step - loss: 0.4095 - accuracy: 0.8181\n",
      "Epoch 10/20\n",
      "500/500 [==============================] - 3s 6ms/step - loss: 0.2488 - accuracy: 0.9162\n",
      "Epoch 11/20\n",
      "500/500 [==============================] - 3s 7ms/step - loss: 0.2195 - accuracy: 0.9320\n",
      "Epoch 12/20\n",
      "500/500 [==============================] - 3s 7ms/step - loss: 0.1959 - accuracy: 0.9407\n",
      "Epoch 13/20\n",
      "500/500 [==============================] - 3s 6ms/step - loss: 0.1936 - accuracy: 0.9446\n",
      "Epoch 14/20\n",
      "500/500 [==============================] - 3s 7ms/step - loss: 0.1651 - accuracy: 0.9481\n",
      "Epoch 15/20\n",
      "500/500 [==============================] - 3s 6ms/step - loss: 0.1797 - accuracy: 0.9515\n",
      "Epoch 16/20\n",
      "500/500 [==============================] - 3s 7ms/step - loss: 0.1419 - accuracy: 0.9571\n",
      "Epoch 17/20\n",
      "500/500 [==============================] - 4s 7ms/step - loss: 0.1235 - accuracy: 0.9578\n",
      "Epoch 18/20\n",
      "500/500 [==============================] - 4s 7ms/step - loss: 0.1130 - accuracy: 0.9614\n",
      "Epoch 19/20\n",
      "500/500 [==============================] - 3s 7ms/step - loss: 0.1217 - accuracy: 0.9620\n",
      "Epoch 20/20\n",
      "500/500 [==============================] - 3s 5ms/step - loss: 0.1352 - accuracy: 0.9638\n"
     ]
    }
   ],
   "source": [
    "nb_epochs = 20\n",
    "h = model.fit(X_train, y_train,\n",
    "            epochs=nb_epochs, batch_size=batch_size)"
   ]
  },
  {
   "cell_type": "code",
   "execution_count": 13,
   "metadata": {},
   "outputs": [
    {
     "data": {
      "text/plain": [
       "[<matplotlib.lines.Line2D at 0x7ff425941bd0>]"
      ]
     },
     "execution_count": 13,
     "metadata": {},
     "output_type": "execute_result"
    },
    {
     "data": {
      "image/png": "[encoded data removed]",
      "text/plain": [
       "<Figure size 432x288 with 1 Axes>"
      ]
     },
     "metadata": {
      "needs_background": "light"
     },
     "output_type": "display_data"
    }
   ],
   "source": [
    "plt.plot(h.history['accuracy'])"
   ]
  },
  {
   "cell_type": "code",
   "execution_count": 14,
   "metadata": {},
   "outputs": [
    {
     "data": {
      "text/plain": [
       "[<matplotlib.lines.Line2D at 0x7ff425d6ca10>]"
      ]
     },
     "execution_count": 14,
     "metadata": {},
     "output_type": "execute_result"
    },
    {
     "data": {
      "image/png": "[encoded data removed]",
      "text/plain": [
       "<Figure size 432x288 with 1 Axes>"
      ]
     },
     "metadata": {
      "needs_background": "light"
     },
     "output_type": "display_data"
    }
   ],
   "source": [
    "plt.plot(h.history['loss'])"
   ]
  },
  {
   "cell_type": "code",
   "execution_count": 15,
   "metadata": {},
   "outputs": [
    {
     "name": "stdout",
     "output_type": "stream",
     "text": [
      "124/124 [==============================] - 3s 3ms/step - loss: 0.0846 - accuracy: 0.9708\n"
     ]
    },
    {
     "data": {
      "text/plain": [
       "[0.0846443846821785, 0.9708256125450134]"
      ]
     },
     "execution_count": 15,
     "metadata": {},
     "output_type": "execute_result"
    }
   ],
   "source": [
    "model.evaluate(X_test[:-16], y_test[:-16], batch_size=batch_size)"
   ]
  },
  {
   "cell_type": "code",
   "execution_count": 16,
   "metadata": {},
   "outputs": [
    {
     "data": {
      "text/plain": [
       "array([[[ 1.        ],\n",
       "        [ 0.4512195 ],\n",
       "        [-0.01219512],\n",
       "        [-0.01219512],\n",
       "        [-0.01219512],\n",
       "        [-0.01219512]],\n",
       "\n",
       "       [[ 1.        ],\n",
       "        [-0.01123596],\n",
       "        [-0.01123596],\n",
       "        [-0.01123596],\n",
       "        [-0.01123596],\n",
       "        [-0.01123596]]], dtype=float32)"
      ]
     },
     "execution_count": 16,
     "metadata": {},
     "output_type": "execute_result"
    }
   ],
   "source": [
    "X_test[:2]"
   ]
  },
  {
   "cell_type": "code",
   "execution_count": 17,
   "metadata": {},
   "outputs": [
    {
     "name": "stdout",
     "output_type": "stream",
     "text": [
      "WARNING:tensorflow:Model was constructed with shape (16, 6, 1) for input KerasTensor(type_spec=TensorSpec(shape=(16, 6, 1), dtype=tf.float32, name='input'), name='input', description=\"created by layer 'input'\"), but it was called on an input with incompatible shape (32, 6, 1).\n"
     ]
    }
   ],
   "source": [
    "y_pred = model.predict(X_test[:-16])"
   ]
  },
  {
   "cell_type": "code",
   "execution_count": 20,
   "metadata": {},
   "outputs": [
    {
     "data": {
      "text/plain": [
       "array([[2, 1, 0, 0, 0, 0],\n",
       "       [1, 0, 0, 0, 0, 0],\n",
       "       [1, 2, 0, 0, 0, 0],\n",
       "       [3, 2, 1, 0, 0, 0],\n",
       "       [1, 2, 0, 0, 0, 0],\n",
       "       [1, 0, 0, 0, 0, 0],\n",
       "       [1, 0, 0, 0, 0, 0],\n",
       "       [3, 5, 2, 4, 1, 0],\n",
       "       [2, 1, 0, 0, 0, 0],\n",
       "       [1, 2, 0, 0, 0, 0]])"
      ]
     },
     "execution_count": 20,
     "metadata": {},
     "output_type": "execute_result"
    }
   ],
   "source": [
    "y_pred_pos = y_pred.argmax(axis=2)\n",
    "y_pred_idx = y_pred.argmax(axis=1)\n",
    "y_pred_pos[:10] #, y_pred_idx[:2]"
   ]
  },
  {
   "cell_type": "code",
   "execution_count": 24,
   "metadata": {},
   "outputs": [
    {
     "data": {
      "text/plain": [
       "array([[2, 1, 0, 0, 0, 0],\n",
       "       [1, 0, 0, 0, 0, 0],\n",
       "       [1, 2, 0, 0, 0, 0],\n",
       "       [3, 2, 1, 0, 0, 0],\n",
       "       [1, 2, 0, 0, 0, 0],\n",
       "       [1, 0, 0, 0, 0, 0],\n",
       "       [1, 0, 0, 0, 0, 0],\n",
       "       [3, 5, 2, 4, 1, 0],\n",
       "       [2, 1, 0, 0, 0, 0],\n",
       "       [1, 2, 0, 0, 0, 0]])"
      ]
     },
     "execution_count": 24,
     "metadata": {},
     "output_type": "execute_result"
    }
   ],
   "source": [
    "y_test_pos = y_test.argmax(axis=2)\n",
    "y_test_idx = y_test.argmax(axis=1)\n",
    "y_test_pos[:10] #, y_test_idx[:2]"
   ]
  },
  {
   "cell_type": "code",
   "execution_count": null,
   "metadata": {},
   "outputs": [],
   "source": []
  },
  {
   "cell_type": "code",
   "execution_count": 25,
   "metadata": {},
   "outputs": [],
   "source": [
    "def compute_accuracy(_y_true, _y_pred):\n",
    "    acc = keras.metrics.Accuracy()\n",
    "    return acc(_y_true, _y_pred).numpy()"
   ]
  },
  {
   "cell_type": "code",
   "execution_count": 26,
   "metadata": {},
   "outputs": [
    {
     "data": {
      "text/plain": [
       "0.46144155"
      ]
     },
     "execution_count": 26,
     "metadata": {},
     "output_type": "execute_result"
    }
   ],
   "source": [
    "compute_accuracy(y_pred_idx.argsort(), y_pred_pos)"
   ]
  },
  {
   "cell_type": "code",
   "execution_count": 27,
   "metadata": {},
   "outputs": [
    {
     "data": {
      "text/plain": [
       "0.472"
      ]
     },
     "execution_count": 27,
     "metadata": {},
     "output_type": "execute_result"
    }
   ],
   "source": [
    "compute_accuracy(y_test_idx.argsort(), y_test_pos)"
   ]
  },
  {
   "cell_type": "code",
   "execution_count": 28,
   "metadata": {},
   "outputs": [
    {
     "data": {
      "text/plain": [
       "0.9708501"
      ]
     },
     "execution_count": 28,
     "metadata": {},
     "output_type": "execute_result"
    }
   ],
   "source": [
    "compute_accuracy(y_pred_pos, y_test_pos[:-16])"
   ]
  },
  {
   "cell_type": "code",
   "execution_count": 29,
   "metadata": {},
   "outputs": [
    {
     "data": {
      "text/plain": [
       "0.8159442"
      ]
     },
     "execution_count": 29,
     "metadata": {},
     "output_type": "execute_result"
    }
   ],
   "source": [
    "compute_accuracy(y_pred_idx, y_test_idx[:-16])"
   ]
  },
  {
   "cell_type": "code",
   "execution_count": 31,
   "metadata": {},
   "outputs": [
    {
     "data": {
      "text/plain": [
       "array([[16., 37., 23., 58., -1., -1.],\n",
       "       [ 7., 71., 73., 33., -1., -1.],\n",
       "       [21., 95., -1., -1., -1., -1.]], dtype=float32)"
      ]
     },
     "execution_count": 31,
     "metadata": {},
     "output_type": "execute_result"
    }
   ],
   "source": [
    "X_ = X_test[:batch_size]\n",
    "X_[0] = [[0.2], [1.0], [-1], [-1], [-1], [-1]]\n",
    "X_[1] = [[1.0], [1.0], [1.0], [1.0], [1.0], [-1]]\n",
    "X_[2] = [[1], [0.1], [0.1], [1], [0.1], [-1]]\n",
    "\n",
    "X[:3]"
   ]
  },
  {
   "cell_type": "code",
   "execution_count": 32,
   "metadata": {},
   "outputs": [
    {
     "data": {
      "text/plain": [
       "(array([[1, 1, 1, 0, 0, 0],\n",
       "        [1, 1, 1, 1, 1, 1],\n",
       "        [1, 1, 1, 1, 1, 0]]),\n",
       " array([[4, 1, 0, 0, 0, 0],\n",
       "        [0, 4, 0, 0, 0, 0],\n",
       "        [5, 4, 0, 0, 0, 0]]))"
      ]
     },
     "execution_count": 32,
     "metadata": {},
     "output_type": "execute_result"
    }
   ],
   "source": [
    "y_pred = model.predict(X_)\n",
    "y_pred_pos = y_pred.argmax(axis=2)\n",
    "y_pred_idx = y_pred.argmax(axis=1)\n",
    "y_pred_pos[:3], y_pred_idx[:3]"
   ]
  },
  {
   "cell_type": "code",
   "execution_count": 31,
   "metadata": {},
   "outputs": [
    {
     "data": {
      "text/plain": [
       "array([[[1.0000000e+00, 9.0080521e-10, 0.0000000e+00, 0.0000000e+00,\n",
       "         0.0000000e+00],\n",
       "        [1.0000000e+00, 1.7694397e-16, 0.0000000e+00, 0.0000000e+00,\n",
       "         0.0000000e+00],\n",
       "        [9.9555439e-01, 4.4456460e-03, 0.0000000e+00, 0.0000000e+00,\n",
       "         0.0000000e+00],\n",
       "        [1.4198830e-15, 1.0000000e+00, 0.0000000e+00, 0.0000000e+00,\n",
       "         0.0000000e+00],\n",
       "        [2.6467728e-07, 9.9999976e-01, 0.0000000e+00, 0.0000000e+00,\n",
       "         0.0000000e+00]],\n",
       "\n",
       "       [[5.7554233e-01, 4.2445764e-01, 0.0000000e+00, 0.0000000e+00,\n",
       "         0.0000000e+00],\n",
       "        [5.1545984e-01, 4.8454013e-01, 0.0000000e+00, 0.0000000e+00,\n",
       "         0.0000000e+00],\n",
       "        [4.0086201e-01, 5.9913790e-01, 0.0000000e+00, 0.0000000e+00,\n",
       "         0.0000000e+00],\n",
       "        [3.7969685e-01, 6.2030315e-01, 0.0000000e+00, 0.0000000e+00,\n",
       "         0.0000000e+00],\n",
       "        [4.2294499e-01, 5.7705510e-01, 0.0000000e+00, 0.0000000e+00,\n",
       "         0.0000000e+00]],\n",
       "\n",
       "       [[2.3220254e-11, 1.0000000e+00, 0.0000000e+00, 0.0000000e+00,\n",
       "         0.0000000e+00],\n",
       "        [6.4852606e-18, 1.0000000e+00, 0.0000000e+00, 0.0000000e+00,\n",
       "         0.0000000e+00],\n",
       "        [1.7819194e-04, 9.9982184e-01, 0.0000000e+00, 0.0000000e+00,\n",
       "         0.0000000e+00],\n",
       "        [9.9986398e-01, 1.3604647e-04, 0.0000000e+00, 0.0000000e+00,\n",
       "         0.0000000e+00],\n",
       "        [1.0000000e+00, 1.5636093e-11, 0.0000000e+00, 0.0000000e+00,\n",
       "         0.0000000e+00]]], dtype=float32)"
      ]
     },
     "execution_count": 31,
     "metadata": {},
     "output_type": "execute_result"
    }
   ],
   "source": [
    "y_pred[:3]"
   ]
  },
  {
   "cell_type": "code",
   "execution_count": null,
   "metadata": {},
   "outputs": [],
   "source": []
  },
  {
   "cell_type": "code",
   "execution_count": null,
   "metadata": {},
   "outputs": [],
   "source": []
  },
  {
   "cell_type": "code",
   "execution_count": null,
   "metadata": {},
   "outputs": [],
   "source": []
  }
 ],
 "metadata": {
  "interpreter": {
   "hash": "3cb2bdb0a6209896b2c08e350958f92213a3044df550f2817f068195d36b5650"
  },
  "kernelspec": {
   "display_name": "Python 3.6.8 64-bit ('base': conda)",
   "language": "python",
   "name": "python3"
  },
  "language_info": {
   "codemirror_mode": {
    "name": "ipython",
    "version": 3
   },
   "file_extension": ".py",
   "mimetype": "text/x-python",
   "name": "python",
   "nbconvert_exporter": "python",
   "pygments_lexer": "ipython3",
   "version": "3.7.11"
  },
  "orig_nbformat": 4
 },
 "nbformat": 4,
 "nbformat_minor": 2
}
