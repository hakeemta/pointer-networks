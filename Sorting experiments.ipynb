{
 "cells": [
  {
   "cell_type": "code",
   "execution_count": 1,
   "metadata": {},
   "outputs": [],
   "source": [
    "from keras.models import Model\n",
    "from keras.layers import LSTM, Input\n",
    "from keras.utils.np_utils import to_categorical\n",
    "from PointerLSTM import PointerLSTM as Pointerv0\n",
    "import numpy as np\n",
    "\n",
    "from matplotlib import pyplot as plt"
   ]
  },
  {
   "cell_type": "code",
   "execution_count": 2,
   "metadata": {},
   "outputs": [
    {
     "data": {
      "text/plain": [
       "'2.7.0'"
      ]
     },
     "execution_count": 2,
     "metadata": {},
     "output_type": "execute_result"
    }
   ],
   "source": [
    "import tensorflow as tf\n",
    "tf.__version__"
   ]
  },
  {
   "cell_type": "code",
   "execution_count": 3,
   "metadata": {},
   "outputs": [],
   "source": [
    "%reload_ext autoreload\n",
    "%autoreload 2"
   ]
  },
  {
   "cell_type": "code",
   "execution_count": 8,
   "metadata": {},
   "outputs": [],
   "source": [
    "import keras.backend as K\n",
    "from keras.activations import tanh, softmax\n",
    "from keras.layers import RNN, LSTM, LSTMCell, Dense, Layer, Masking\n",
    "import keras"
   ]
  },
  {
   "cell_type": "code",
   "execution_count": null,
   "metadata": {},
   "outputs": [],
   "source": []
  },
  {
   "cell_type": "code",
   "execution_count": 9,
   "metadata": {},
   "outputs": [],
   "source": [
    "def order(X, by_idx=False):\n",
    "    # Are these the same?!\n",
    "    # Ip => Index I occupying pth position\n",
    "    y = X.argsort()\n",
    "\n",
    "    if not by_idx:\n",
    "        return y\n",
    "\n",
    "    # Pi => Position P for ith index\n",
    "    return y.argsort()"
   ]
  },
  {
   "cell_type": "code",
   "execution_count": 10,
   "metadata": {},
   "outputs": [],
   "source": [
    "def gen_seq(**kwargs):\n",
    "    X = np.random.randint(**kwargs)\n",
    "\n",
    "    def _order(order_by_idx=False):\n",
    "        y = order(X, order_by_idx)\n",
    "        return X, y\n",
    "\n",
    "    return _order"
   ]
  },
  {
   "cell_type": "code",
   "execution_count": 19,
   "metadata": {},
   "outputs": [],
   "source": [
    "def gen_data(N, seq_len, order_by_idx=False, low=0, high=100):\n",
    "    seq_gen = gen_seq(low=low, high=high, size=(N, seq_len))\n",
    "\n",
    "    X, y = seq_gen(order_by_idx=False)\n",
    "    return X, y"
   ]
  },
  {
   "cell_type": "code",
   "execution_count": null,
   "metadata": {},
   "outputs": [],
   "source": []
  },
  {
   "cell_type": "code",
   "execution_count": 41,
   "metadata": {},
   "outputs": [],
   "source": [
    "class Attention(Layer):\n",
    "    def __init__(self, units, **kwargs):\n",
    "        super(Attention, self).__init__(**kwargs)\n",
    "        self.W1 = Dense(units, use_bias=False)\n",
    "        self.W2 = Dense(units, use_bias=False)\n",
    "        self.V = Dense(1, use_bias=False)\n",
    "\n",
    "    def call(self, X_enc, X_dec, mask=None):\n",
    "        print('mask:', mask)\n",
    "        h_enc = self.W1(X_enc)\n",
    "        h_dec = self.W1(X_dec)\n",
    "        h_dec = K.repeat(h_dec, h_enc.shape[1])\n",
    "\n",
    "        u = tanh(h_enc + h_dec)\n",
    "        u = self.V(u)\n",
    "        u = K.squeeze(u, axis=2)\n",
    "\n",
    "        if mask is not None:\n",
    "            mask_values = K.cast(mask[0], u.dtype)\n",
    "            u += mask_values * -np.infty\n",
    "                \n",
    "        a = softmax(u, axis=1)\n",
    "        return a"
   ]
  },
  {
   "cell_type": "code",
   "execution_count": 158,
   "metadata": {},
   "outputs": [],
   "source": [
    "class PointerLSTMCell(LSTMCell):\n",
    "    def __init__(self, units, **kwargs):\n",
    "        super(PointerLSTMCell, self).__init__(units, **kwargs)\n",
    "        self.attention = Attention(units)\n",
    "\n",
    "    def call(self, inputs, states, constants=None, mask=None, training=None):\n",
    "        print('mask:', mask)\n",
    "        \n",
    "        X_enc = constants[0]\n",
    "        out, [h, c] = super(PointerLSTMCell, self).call(inputs, states, training=training)        \n",
    "        probs = self.attention(X_enc, h)\n",
    "\n",
    "        # Pointing        \n",
    "        idx = K.argmax(probs)\n",
    "        idx = K.expand_dims(idx)\n",
    "        r = K.arange(idx.shape[0], dtype=idx.dtype)\n",
    "        r = K.expand_dims(r)\n",
    "        \n",
    "        indices = K.concatenate((r, idx))\n",
    "        h = tf.gather_nd(X_enc, indices)\n",
    "        return probs, [h, c]\n"
   ]
  },
  {
   "cell_type": "code",
   "execution_count": 159,
   "metadata": {},
   "outputs": [],
   "source": [
    "class PointerLSTM(Layer):\n",
    "    def __init__(self, units, return_sequences=False, return_state=False, go_backwards=False, stateful=False, unroll=False, time_major=False, **kwargs):\n",
    "        cell = PointerLSTMCell(units, **kwargs)\n",
    "        self.rnn = RNN(cell, return_sequences=return_sequences, return_state=return_state, go_backwards=go_backwards, stateful=stateful, unroll=unroll, time_major=time_major, **kwargs)\n",
    "        super(PointerLSTM, self).__init__(**kwargs)\n",
    "    \n",
    "    def call(self, inputs, initial_state=None, constants=None, **kwargs):\n",
    "        print(kwargs)\n",
    "        return self.rnn(inputs, initial_state=initial_state, constants=constants, **kwargs)\n"
   ]
  },
  {
   "cell_type": "code",
   "execution_count": null,
   "metadata": {},
   "outputs": [],
   "source": []
  },
  {
   "cell_type": "code",
   "execution_count": 160,
   "metadata": {},
   "outputs": [],
   "source": [
    "N = 10000\n",
    "seq_len = 5\n",
    "X, y = gen_data(N, seq_len, low=0, high=1000)"
   ]
  },
  {
   "cell_type": "code",
   "execution_count": 161,
   "metadata": {},
   "outputs": [
    {
     "data": {
      "text/plain": [
       "((8000, 5, 1), (8000, 5))"
      ]
     },
     "execution_count": 161,
     "metadata": {},
     "output_type": "execute_result"
    }
   ],
   "source": [
    "split = int(0.8 * N)\n",
    "\n",
    "_X = X / np.expand_dims(X.max(axis=1), axis=1)\n",
    "_X = np.expand_dims(_X, axis=2)\n",
    "\n",
    "X_train = _X[:split]\n",
    "y_train = y[:split]\n",
    "\n",
    "X_test = _X[split:]\n",
    "y_test = y[split:]\n",
    "\n",
    "X_train.shape, y_train.shape"
   ]
  },
  {
   "cell_type": "code",
   "execution_count": 162,
   "metadata": {},
   "outputs": [
    {
     "data": {
      "text/plain": [
       "(8000, 5, 5)"
      ]
     },
     "execution_count": 162,
     "metadata": {},
     "output_type": "execute_result"
    }
   ],
   "source": [
    "y_train_cat = to_categorical(y_train)\n",
    "y_train_cat.shape"
   ]
  },
  {
   "cell_type": "code",
   "execution_count": 163,
   "metadata": {},
   "outputs": [],
   "source": [
    "X_train[:2, -2:] = -1\n",
    "# X_train"
   ]
  },
  {
   "cell_type": "code",
   "execution_count": 164,
   "metadata": {},
   "outputs": [
    {
     "name": "stdout",
     "output_type": "stream",
     "text": [
      "{'mask': <tf.Tensor 'Placeholder_4:0' shape=(32, 5) dtype=bool>, 'training': None}\n",
      "mask: None\n",
      "mask: None\n",
      "mask: None\n",
      "mask: None\n",
      "Model: \"model_18\"\n",
      "__________________________________________________________________________________________________\n",
      " Layer (type)                   Output Shape         Param #     Connected to                     \n",
      "==================================================================================================\n",
      " input_18 (InputLayer)          [(32, 5, 1)]         0           []                               \n",
      "                                                                                                  \n",
      " encoder (LSTM)                 [(32, 5, 64),        16896       ['input_18[0][0]']               \n",
      "                                 (32, 64),                                                        \n",
      "                                 (32, 64)]                                                        \n",
      "                                                                                                  \n",
      " decoder (PointerLSTM)          [(32, 5, 5),         37184       ['encoder[1][0]',                \n",
      "                                 (32, 64),                        'encoder[1][0]',                \n",
      "                                 (32, 64)]                        'encoder[1][1]',                \n",
      "                                                                  'encoder[1][2]']                \n",
      "                                                                                                  \n",
      "==================================================================================================\n",
      "Total params: 54,080\n",
      "Trainable params: 54,080\n",
      "Non-trainable params: 0\n",
      "__________________________________________________________________________________________________\n"
     ]
    }
   ],
   "source": [
    "seq_shape = X_train.shape[1:]\n",
    "hidden_units = 64\n",
    "batch_size = 32\n",
    "\n",
    "inputs = Input(shape=seq_shape, name='main_input', batch_size=batch_size)\n",
    "inputs = Masking(mask_value=-1) (inputs)\n",
    "enc, state_h, state_c = LSTM(hidden_units, name='encoder', \n",
    "                            return_sequences=True, return_state=True) (inputs)\n",
    "dec, _, _ = PointerLSTM(hidden_units, name='decoder', return_sequences=True, return_state=True) \\\n",
    "                    (enc, initial_state=[state_h, state_c], constants=enc)\n",
    "\n",
    "# cell = PointerLSTMCell(hidden_units)\n",
    "# dec, _, _ = RNN(cell, name='decoder', return_sequences=True, return_state=True) \\\n",
    "#                     (enc, initial_state=[state_h, state_c], constants=enc)\n",
    "\n",
    "\n",
    "model = Model(inputs, dec)\n",
    "model.summary()"
   ]
  },
  {
   "cell_type": "code",
   "execution_count": 165,
   "metadata": {},
   "outputs": [],
   "source": [
    "model.compile(optimizer='adam',\n",
    "              loss='categorical_crossentropy',\n",
    "              metrics=['accuracy'])"
   ]
  },
  {
   "cell_type": "code",
   "execution_count": 166,
   "metadata": {},
   "outputs": [
    {
     "name": "stdout",
     "output_type": "stream",
     "text": [
      "Epoch 1/2\n",
      "{'training': True}\n",
      "mask: None\n",
      "mask: None\n",
      "mask: None\n",
      "mask: None\n",
      "{'training': True}\n",
      "mask: None\n",
      "mask: None\n",
      "mask: None\n",
      "mask: None\n",
      "250/250 [==============================] - 4s 5ms/step - loss: 1.2111 - accuracy: 0.4394\n",
      "Epoch 2/2\n",
      "250/250 [==============================] - 1s 5ms/step - loss: 0.4557 - accuracy: 0.8336\n"
     ]
    }
   ],
   "source": [
    "nb_epochs = 2\n",
    "h = model.fit(X_train, y_train_cat,\n",
    "            epochs=nb_epochs, batch_size=batch_size)"
   ]
  },
  {
   "cell_type": "code",
   "execution_count": 130,
   "metadata": {},
   "outputs": [
    {
     "data": {
      "text/plain": [
       "[<matplotlib.lines.Line2D at 0x7f849ed1c210>]"
      ]
     },
     "execution_count": 130,
     "metadata": {},
     "output_type": "execute_result"
    },
    {
     "data": {
      "image/png": "[encoded data removed]",
      "text/plain": [
       "<Figure size 432x288 with 1 Axes>"
      ]
     },
     "metadata": {
      "needs_background": "light"
     },
     "output_type": "display_data"
    }
   ],
   "source": [
    "plt.plot(h.history['accuracy'])"
   ]
  },
  {
   "cell_type": "code",
   "execution_count": 131,
   "metadata": {},
   "outputs": [
    {
     "data": {
      "text/plain": [
       "[<matplotlib.lines.Line2D at 0x7f84a1619950>]"
      ]
     },
     "execution_count": 131,
     "metadata": {},
     "output_type": "execute_result"
    },
    {
     "data": {
      "image/png": "[encoded data removed]",
      "text/plain": [
       "<Figure size 432x288 with 1 Axes>"
      ]
     },
     "metadata": {
      "needs_background": "light"
     },
     "output_type": "display_data"
    }
   ],
   "source": [
    "plt.plot(h.history['loss'])"
   ]
  },
  {
   "cell_type": "code",
   "execution_count": 132,
   "metadata": {},
   "outputs": [
    {
     "name": "stdout",
     "output_type": "stream",
     "text": [
      "mask: None\n",
      "mask: None\n",
      "mask: None\n",
      "mask: None\n",
      "42/63 [===================>..........] - ETA: 0s - loss: 0.3703 - accuracy: 0.8677"
     ]
    },
    {
     "ename": "CancelledError",
     "evalue": " Loop execution was cancelled.\n\t [[{{node model_14/decoder/while/LoopCond/_25}}]] [Op:__inference_test_function_107973]",
     "output_type": "error",
     "traceback": [
      "\u001b[0;31m---------------------------------------------------------------------------\u001b[0m",
      "\u001b[0;31mCancelledError\u001b[0m                            Traceback (most recent call last)",
      "\u001b[0;32m/var/folders/dn/w4zvyvvs1gl1zhr1dmd_92th0000gn/T/ipykernel_54560/2029148406.py\u001b[0m in \u001b[0;36m<module>\u001b[0;34m\u001b[0m\n\u001b[0;32m----> 1\u001b[0;31m \u001b[0mmodel\u001b[0m\u001b[0;34m.\u001b[0m\u001b[0mevaluate\u001b[0m\u001b[0;34m(\u001b[0m\u001b[0mX_test\u001b[0m\u001b[0;34m,\u001b[0m \u001b[0mto_categorical\u001b[0m\u001b[0;34m(\u001b[0m\u001b[0my_test\u001b[0m\u001b[0;34m)\u001b[0m\u001b[0;34m)\u001b[0m\u001b[0;34m\u001b[0m\u001b[0;34m\u001b[0m\u001b[0m\n\u001b[0m",
      "\u001b[0;32m~/anaconda3/envs/RTS/lib/python3.7/site-packages/keras/utils/traceback_utils.py\u001b[0m in \u001b[0;36merror_handler\u001b[0;34m(*args, **kwargs)\u001b[0m\n\u001b[1;32m     65\u001b[0m     \u001b[0;32mexcept\u001b[0m \u001b[0mException\u001b[0m \u001b[0;32mas\u001b[0m \u001b[0me\u001b[0m\u001b[0;34m:\u001b[0m  \u001b[0;31m# pylint: disable=broad-except\u001b[0m\u001b[0;34m\u001b[0m\u001b[0;34m\u001b[0m\u001b[0m\n\u001b[1;32m     66\u001b[0m       \u001b[0mfiltered_tb\u001b[0m \u001b[0;34m=\u001b[0m \u001b[0m_process_traceback_frames\u001b[0m\u001b[0;34m(\u001b[0m\u001b[0me\u001b[0m\u001b[0;34m.\u001b[0m\u001b[0m__traceback__\u001b[0m\u001b[0;34m)\u001b[0m\u001b[0;34m\u001b[0m\u001b[0;34m\u001b[0m\u001b[0m\n\u001b[0;32m---> 67\u001b[0;31m       \u001b[0;32mraise\u001b[0m \u001b[0me\u001b[0m\u001b[0;34m.\u001b[0m\u001b[0mwith_traceback\u001b[0m\u001b[0;34m(\u001b[0m\u001b[0mfiltered_tb\u001b[0m\u001b[0;34m)\u001b[0m \u001b[0;32mfrom\u001b[0m \u001b[0;32mNone\u001b[0m\u001b[0;34m\u001b[0m\u001b[0;34m\u001b[0m\u001b[0m\n\u001b[0m\u001b[1;32m     68\u001b[0m     \u001b[0;32mfinally\u001b[0m\u001b[0;34m:\u001b[0m\u001b[0;34m\u001b[0m\u001b[0;34m\u001b[0m\u001b[0m\n\u001b[1;32m     69\u001b[0m       \u001b[0;32mdel\u001b[0m \u001b[0mfiltered_tb\u001b[0m\u001b[0;34m\u001b[0m\u001b[0;34m\u001b[0m\u001b[0m\n",
      "\u001b[0;32m~/anaconda3/envs/RTS/lib/python3.7/site-packages/tensorflow/python/eager/execute.py\u001b[0m in \u001b[0;36mquick_execute\u001b[0;34m(op_name, num_outputs, inputs, attrs, ctx, name)\u001b[0m\n\u001b[1;32m     57\u001b[0m     \u001b[0mctx\u001b[0m\u001b[0;34m.\u001b[0m\u001b[0mensure_initialized\u001b[0m\u001b[0;34m(\u001b[0m\u001b[0;34m)\u001b[0m\u001b[0;34m\u001b[0m\u001b[0;34m\u001b[0m\u001b[0m\n\u001b[1;32m     58\u001b[0m     tensors = pywrap_tfe.TFE_Py_Execute(ctx._handle, device_name, op_name,\n\u001b[0;32m---> 59\u001b[0;31m                                         inputs, attrs, num_outputs)\n\u001b[0m\u001b[1;32m     60\u001b[0m   \u001b[0;32mexcept\u001b[0m \u001b[0mcore\u001b[0m\u001b[0;34m.\u001b[0m\u001b[0m_NotOkStatusException\u001b[0m \u001b[0;32mas\u001b[0m \u001b[0me\u001b[0m\u001b[0;34m:\u001b[0m\u001b[0;34m\u001b[0m\u001b[0;34m\u001b[0m\u001b[0m\n\u001b[1;32m     61\u001b[0m     \u001b[0;32mif\u001b[0m \u001b[0mname\u001b[0m \u001b[0;32mis\u001b[0m \u001b[0;32mnot\u001b[0m \u001b[0;32mNone\u001b[0m\u001b[0;34m:\u001b[0m\u001b[0;34m\u001b[0m\u001b[0;34m\u001b[0m\u001b[0m\n",
      "\u001b[0;31mCancelledError\u001b[0m:  Loop execution was cancelled.\n\t [[{{node model_14/decoder/while/LoopCond/_25}}]] [Op:__inference_test_function_107973]"
     ]
    }
   ],
   "source": [
    "model.evaluate(X_test, to_categorical(y_test))"
   ]
  },
  {
   "cell_type": "code",
   "execution_count": 133,
   "metadata": {},
   "outputs": [
    {
     "name": "stdout",
     "output_type": "stream",
     "text": [
      "mask: None\n",
      "mask: None\n",
      "mask: None\n",
      "mask: None\n"
     ]
    },
    {
     "ename": "CancelledError",
     "evalue": " Loop execution was cancelled.\n\t [[{{node model_14/decoder/while/LoopCond/_25}}]] [Op:__inference_predict_function_108923]",
     "output_type": "error",
     "traceback": [
      "\u001b[0;31m---------------------------------------------------------------------------\u001b[0m",
      "\u001b[0;31mCancelledError\u001b[0m                            Traceback (most recent call last)",
      "\u001b[0;32m/var/folders/dn/w4zvyvvs1gl1zhr1dmd_92th0000gn/T/ipykernel_54560/2354401369.py\u001b[0m in \u001b[0;36m<module>\u001b[0;34m\u001b[0m\n\u001b[0;32m----> 1\u001b[0;31m \u001b[0my_pred\u001b[0m \u001b[0;34m=\u001b[0m \u001b[0mmodel\u001b[0m\u001b[0;34m.\u001b[0m\u001b[0mpredict\u001b[0m\u001b[0;34m(\u001b[0m\u001b[0mX_test\u001b[0m\u001b[0;34m)\u001b[0m\u001b[0;34m\u001b[0m\u001b[0;34m\u001b[0m\u001b[0m\n\u001b[0m\u001b[1;32m      2\u001b[0m \u001b[0my_pred\u001b[0m\u001b[0;34m.\u001b[0m\u001b[0margmax\u001b[0m\u001b[0;34m(\u001b[0m\u001b[0maxis\u001b[0m\u001b[0;34m=\u001b[0m\u001b[0;36m2\u001b[0m\u001b[0;34m)\u001b[0m\u001b[0;34m\u001b[0m\u001b[0;34m\u001b[0m\u001b[0m\n",
      "\u001b[0;32m~/anaconda3/envs/RTS/lib/python3.7/site-packages/keras/utils/traceback_utils.py\u001b[0m in \u001b[0;36merror_handler\u001b[0;34m(*args, **kwargs)\u001b[0m\n\u001b[1;32m     65\u001b[0m     \u001b[0;32mexcept\u001b[0m \u001b[0mException\u001b[0m \u001b[0;32mas\u001b[0m \u001b[0me\u001b[0m\u001b[0;34m:\u001b[0m  \u001b[0;31m# pylint: disable=broad-except\u001b[0m\u001b[0;34m\u001b[0m\u001b[0;34m\u001b[0m\u001b[0m\n\u001b[1;32m     66\u001b[0m       \u001b[0mfiltered_tb\u001b[0m \u001b[0;34m=\u001b[0m \u001b[0m_process_traceback_frames\u001b[0m\u001b[0;34m(\u001b[0m\u001b[0me\u001b[0m\u001b[0;34m.\u001b[0m\u001b[0m__traceback__\u001b[0m\u001b[0;34m)\u001b[0m\u001b[0;34m\u001b[0m\u001b[0;34m\u001b[0m\u001b[0m\n\u001b[0;32m---> 67\u001b[0;31m       \u001b[0;32mraise\u001b[0m \u001b[0me\u001b[0m\u001b[0;34m.\u001b[0m\u001b[0mwith_traceback\u001b[0m\u001b[0;34m(\u001b[0m\u001b[0mfiltered_tb\u001b[0m\u001b[0;34m)\u001b[0m \u001b[0;32mfrom\u001b[0m \u001b[0;32mNone\u001b[0m\u001b[0;34m\u001b[0m\u001b[0;34m\u001b[0m\u001b[0m\n\u001b[0m\u001b[1;32m     68\u001b[0m     \u001b[0;32mfinally\u001b[0m\u001b[0;34m:\u001b[0m\u001b[0;34m\u001b[0m\u001b[0;34m\u001b[0m\u001b[0m\n\u001b[1;32m     69\u001b[0m       \u001b[0;32mdel\u001b[0m \u001b[0mfiltered_tb\u001b[0m\u001b[0;34m\u001b[0m\u001b[0;34m\u001b[0m\u001b[0m\n",
      "\u001b[0;32m~/anaconda3/envs/RTS/lib/python3.7/site-packages/tensorflow/python/eager/execute.py\u001b[0m in \u001b[0;36mquick_execute\u001b[0;34m(op_name, num_outputs, inputs, attrs, ctx, name)\u001b[0m\n\u001b[1;32m     57\u001b[0m     \u001b[0mctx\u001b[0m\u001b[0;34m.\u001b[0m\u001b[0mensure_initialized\u001b[0m\u001b[0;34m(\u001b[0m\u001b[0;34m)\u001b[0m\u001b[0;34m\u001b[0m\u001b[0;34m\u001b[0m\u001b[0m\n\u001b[1;32m     58\u001b[0m     tensors = pywrap_tfe.TFE_Py_Execute(ctx._handle, device_name, op_name,\n\u001b[0;32m---> 59\u001b[0;31m                                         inputs, attrs, num_outputs)\n\u001b[0m\u001b[1;32m     60\u001b[0m   \u001b[0;32mexcept\u001b[0m \u001b[0mcore\u001b[0m\u001b[0;34m.\u001b[0m\u001b[0m_NotOkStatusException\u001b[0m \u001b[0;32mas\u001b[0m \u001b[0me\u001b[0m\u001b[0;34m:\u001b[0m\u001b[0;34m\u001b[0m\u001b[0;34m\u001b[0m\u001b[0m\n\u001b[1;32m     61\u001b[0m     \u001b[0;32mif\u001b[0m \u001b[0mname\u001b[0m \u001b[0;32mis\u001b[0m \u001b[0;32mnot\u001b[0m \u001b[0;32mNone\u001b[0m\u001b[0;34m:\u001b[0m\u001b[0;34m\u001b[0m\u001b[0;34m\u001b[0m\u001b[0m\n",
      "\u001b[0;31mCancelledError\u001b[0m:  Loop execution was cancelled.\n\t [[{{node model_14/decoder/while/LoopCond/_25}}]] [Op:__inference_predict_function_108923]"
     ]
    }
   ],
   "source": [
    "y_pred = model.predict(X_test)\n",
    "y_pred.argmax(axis=2)"
   ]
  },
  {
   "cell_type": "code",
   "execution_count": 617,
   "metadata": {},
   "outputs": [
    {
     "data": {
      "text/plain": [
       "array([[1, 4, 2, 0, 3],\n",
       "       [1, 3, 4, 2, 0]])"
      ]
     },
     "execution_count": 617,
     "metadata": {},
     "output_type": "execute_result"
    }
   ],
   "source": [
    "y_pred.argmax(axis=1)"
   ]
  },
  {
   "cell_type": "code",
   "execution_count": 618,
   "metadata": {},
   "outputs": [
    {
     "data": {
      "text/plain": [
       "array([[[1.1552392e-20, 4.2896540e-25, 6.6231989e-24, 1.0000000e+00,\n",
       "         1.8110539e-25],\n",
       "        [1.0000000e+00, 6.2883201e-18, 3.7587857e-09, 1.8930853e-12,\n",
       "         5.9332793e-18],\n",
       "        [1.7274615e-09, 2.2749619e-13, 1.0000000e+00, 1.3627531e-12,\n",
       "         6.8411477e-13],\n",
       "        [1.6683276e-15, 4.6446465e-11, 2.1712000e-15, 1.6277672e-15,\n",
       "         1.0000000e+00],\n",
       "        [1.6031254e-21, 1.0000000e+00, 1.8016862e-21, 1.4586381e-21,\n",
       "         6.7732348e-12]],\n",
       "\n",
       "       [[3.2948769e-20, 9.1745835e-25, 1.0528925e-21, 1.0848638e-24,\n",
       "         1.0000000e+00],\n",
       "        [1.0000000e+00, 8.0538791e-17, 6.4855116e-17, 2.5595385e-15,\n",
       "         1.0554941e-14],\n",
       "        [6.6852956e-14, 2.1494835e-09, 2.5511805e-18, 1.0000000e+00,\n",
       "         1.5633183e-17],\n",
       "        [1.2325668e-15, 1.0000000e+00, 1.3090109e-15, 1.3575859e-11,\n",
       "         1.0564523e-15],\n",
       "        [5.4883020e-20, 4.2644102e-19, 1.0000000e+00, 7.9029740e-20,\n",
       "         5.4938532e-20]]], dtype=float32)"
      ]
     },
     "execution_count": 618,
     "metadata": {},
     "output_type": "execute_result"
    }
   ],
   "source": [
    "y_pred"
   ]
  },
  {
   "cell_type": "code",
   "execution_count": 582,
   "metadata": {},
   "outputs": [
    {
     "data": {
      "text/plain": [
       "array([[3, 2, 4, 0, 1],\n",
       "       [1, 3, 0, 4, 2]])"
      ]
     },
     "execution_count": 582,
     "metadata": {},
     "output_type": "execute_result"
    }
   ],
   "source": [
    "y_test[:2]"
   ]
  },
  {
   "cell_type": "code",
   "execution_count": 584,
   "metadata": {},
   "outputs": [
    {
     "data": {
      "text/plain": [
       "array([[[0.97341211],\n",
       "        [1.        ],\n",
       "        [0.79615953],\n",
       "        [0.42245199],\n",
       "        [0.79615953]],\n",
       "\n",
       "       [[0.49612403],\n",
       "        [0.45847176],\n",
       "        [1.        ],\n",
       "        [0.46290144],\n",
       "        [0.9944629 ]]])"
      ]
     },
     "execution_count": 584,
     "metadata": {},
     "output_type": "execute_result"
    }
   ],
   "source": [
    "X_test[:2]"
   ]
  },
  {
   "cell_type": "code",
   "execution_count": 585,
   "metadata": {},
   "outputs": [],
   "source": [
    "y_pos = order(X_test[..., 0])\n",
    "y_idx = order(X_test[..., 0], True)"
   ]
  },
  {
   "cell_type": "code",
   "execution_count": 586,
   "metadata": {},
   "outputs": [
    {
     "data": {
      "text/plain": [
       "10000"
      ]
     },
     "execution_count": 586,
     "metadata": {},
     "output_type": "execute_result"
    }
   ],
   "source": [
    "np.equal(y_pos, y_test).sum()"
   ]
  },
  {
   "cell_type": "code",
   "execution_count": 587,
   "metadata": {},
   "outputs": [],
   "source": [
    "y_pred = model.predict(X_test)"
   ]
  },
  {
   "cell_type": "code",
   "execution_count": 588,
   "metadata": {},
   "outputs": [
    {
     "data": {
      "text/plain": [
       "0.9685"
      ]
     },
     "execution_count": 588,
     "metadata": {},
     "output_type": "execute_result"
    }
   ],
   "source": [
    "np.equal(y_idx, y_pred.argmax(axis=1)).sum() / np.product(y_test.shape) "
   ]
  },
  {
   "cell_type": "code",
   "execution_count": 589,
   "metadata": {},
   "outputs": [
    {
     "data": {
      "text/plain": [
       "0.9619"
      ]
     },
     "execution_count": 589,
     "metadata": {},
     "output_type": "execute_result"
    }
   ],
   "source": [
    "np.equal(y_pos, y_pred.argmax(axis=2)).sum() / np.product(y_test.shape)"
   ]
  },
  {
   "cell_type": "code",
   "execution_count": null,
   "metadata": {},
   "outputs": [],
   "source": []
  },
  {
   "cell_type": "code",
   "execution_count": 592,
   "metadata": {},
   "outputs": [
    {
     "data": {
      "text/plain": [
       "(array([[3, 4, 2, 0, 1]]), array([[3, 4, 2, 0, 1]]))"
      ]
     },
     "execution_count": 592,
     "metadata": {},
     "output_type": "execute_result"
    }
   ],
   "source": [
    "y_pred = model.predict([[[1.0], [1.0], [0.5], [0.2], [0.2]]])\n",
    "y_pred.argmax(axis=2), y_pred.argmax(axis=1)"
   ]
  },
  {
   "cell_type": "code",
   "execution_count": 593,
   "metadata": {},
   "outputs": [
    {
     "data": {
      "text/plain": [
       "(array([[4, 4, 0, 1, 3]]), array([[1, 3, 2, 4, 1]]))"
      ]
     },
     "execution_count": 593,
     "metadata": {},
     "output_type": "execute_result"
    }
   ],
   "source": [
    "y_pred = model.predict([[[1.0], [1.0], [1.0], [1.0], [1.0]]])\n",
    "y_pred.argmax(axis=2), y_pred.argmax(axis=1)"
   ]
  },
  {
   "cell_type": "code",
   "execution_count": null,
   "metadata": {},
   "outputs": [],
   "source": []
  },
  {
   "cell_type": "code",
   "execution_count": null,
   "metadata": {},
   "outputs": [],
   "source": []
  },
  {
   "cell_type": "code",
   "execution_count": 18,
   "metadata": {},
   "outputs": [
    {
     "name": "stderr",
     "output_type": "stream",
     "text": [
      "2021-12-19 04:13:42.541700: I tensorflow/core/platform/cpu_feature_guard.cc:151] This TensorFlow binary is optimized with oneAPI Deep Neural Network Library (oneDNN) to use the following CPU instructions in performance-critical operations:  AVX2 FMA\n",
      "To enable them in other operations, rebuild TensorFlow with the appropriate compiler flags.\n"
     ]
    }
   ],
   "source": [
    "enc, state = K.zeros((32, 5, 64)), [K.zeros((32, 64)), K.zeros((32, 64))]\n",
    "p = PointerLSTM(64, return_sequences=True, return_state=True, name='decoder')\n",
    "_ = p.call(enc, initial_state=state, constants=[enc])"
   ]
  },
  {
   "cell_type": "code",
   "execution_count": 20,
   "metadata": {},
   "outputs": [],
   "source": [
    "# seq_shape = X_train.shape[1:]\n",
    "# hidden_units = 64\n",
    "\n",
    "# main_input = Input(shape=seq_shape, name='main_input')\n",
    "# encoder, state_h, state_c = LSTM(hidden_units, name='encoder', return_sequences=True, return_state=True) (main_input)\n",
    "# decoder = Pointerv0(hidden_units, name='decoder') (encoder, states=[state_h, state_c])\n",
    "\n",
    "# model2 = Model(main_input, decoder)\n",
    "# model2.summary()"
   ]
  },
  {
   "cell_type": "code",
   "execution_count": null,
   "metadata": {},
   "outputs": [],
   "source": [
    "a = np.array([[[1, 2, 3], [4, 5, 6]]]) \n",
    "b = np.array([[[4, 5, 6]]])\n",
    "a.shape, b.shape\n",
    "\n",
    "c = a + b\n",
    "c.shape"
   ]
  },
  {
   "cell_type": "code",
   "execution_count": null,
   "metadata": {},
   "outputs": [],
   "source": [
    "units = 2\n",
    "att = Attention(units)\n",
    "X_enc = K.constant( np.random.random((10, 5, units)) )\n",
    "X_dec = K.constant( np.random.random((10, units)) )\n",
    "scores = att(X_enc, X_dec)\n",
    "scores.shape"
   ]
  }
 ],
 "metadata": {
  "interpreter": {
   "hash": "3cb2bdb0a6209896b2c08e350958f92213a3044df550f2817f068195d36b5650"
  },
  "kernelspec": {
   "display_name": "Python 3.6.8 64-bit ('base': conda)",
   "language": "python",
   "name": "python3"
  },
  "language_info": {
   "codemirror_mode": {
    "name": "ipython",
    "version": 3
   },
   "file_extension": ".py",
   "mimetype": "text/x-python",
   "name": "python",
   "nbconvert_exporter": "python",
   "pygments_lexer": "ipython3",
   "version": "3.7.11"
  },
  "orig_nbformat": 4
 },
 "nbformat": 4,
 "nbformat_minor": 2
}
