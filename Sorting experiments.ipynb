{
 "cells": [
  {
   "cell_type": "code",
   "execution_count": 1,
   "metadata": {},
   "outputs": [],
   "source": [
    "from keras.models import Model\n",
    "from keras.layers import LSTM, Input\n",
    "from keras.utils.np_utils import to_categorical\n",
    "from PointerLSTM import PointerLSTM as Pointerv0\n",
    "import numpy as np\n",
    "\n",
    "from matplotlib import pyplot as plt"
   ]
  },
  {
   "cell_type": "code",
   "execution_count": 2,
   "metadata": {},
   "outputs": [
    {
     "data": {
      "text/plain": [
       "'2.7.0'"
      ]
     },
     "execution_count": 2,
     "metadata": {},
     "output_type": "execute_result"
    }
   ],
   "source": [
    "import tensorflow as tf\n",
    "tf.__version__"
   ]
  },
  {
   "cell_type": "code",
   "execution_count": 3,
   "metadata": {},
   "outputs": [],
   "source": [
    "%reload_ext autoreload\n",
    "%autoreload 2"
   ]
  },
  {
   "cell_type": "code",
   "execution_count": 4,
   "metadata": {},
   "outputs": [],
   "source": [
    "import keras.backend as K\n",
    "from keras.activations import tanh, softmax\n",
    "from keras.layers import RNN, LSTM, LSTMCell, Dense, Layer, Masking\n",
    "import keras"
   ]
  },
  {
   "cell_type": "code",
   "execution_count": null,
   "metadata": {},
   "outputs": [],
   "source": []
  },
  {
   "cell_type": "code",
   "execution_count": 5,
   "metadata": {},
   "outputs": [],
   "source": [
    "def order(X, by_idx=False):\n",
    "    # Are these the same?!\n",
    "    # Ip => Index I occupying pth position\n",
    "    y = X.argsort()\n",
    "\n",
    "    if not by_idx:\n",
    "        return y\n",
    "\n",
    "    # Pi => Position P for ith index\n",
    "    return y.argsort()"
   ]
  },
  {
   "cell_type": "code",
   "execution_count": 6,
   "metadata": {},
   "outputs": [],
   "source": [
    "def gen_seq(**kwargs):\n",
    "    X = np.random.randint(**kwargs)\n",
    "\n",
    "    def _order(order_by_idx=False):\n",
    "        y = order(X, order_by_idx)\n",
    "        return X, y\n",
    "\n",
    "    return _order"
   ]
  },
  {
   "cell_type": "code",
   "execution_count": 7,
   "metadata": {},
   "outputs": [],
   "source": [
    "def gen_data(N, seq_len, order_by_idx=False, low=0, high=100):\n",
    "    seq_gen = gen_seq(low=low, high=high, size=(N, seq_len))\n",
    "\n",
    "    X, y = seq_gen(order_by_idx=False)\n",
    "    return X, y"
   ]
  },
  {
   "cell_type": "code",
   "execution_count": null,
   "metadata": {},
   "outputs": [],
   "source": []
  },
  {
   "cell_type": "code",
   "execution_count": 44,
   "metadata": {},
   "outputs": [],
   "source": [
    "class Attention(Layer):\n",
    "    def __init__(self, units, **kwargs):\n",
    "        super(Attention, self).__init__(**kwargs)\n",
    "        self.W1 = Dense(units, use_bias=False)\n",
    "        self.W2 = Dense(units, use_bias=False)\n",
    "        self.V = Dense(1, use_bias=False)\n",
    "        self.supports_masking = True\n",
    "\n",
    "    def call(self, X_enc, X_dec, mask=None):\n",
    "        # print('Att. mask:', mask, self.supports_masking)\n",
    "        h_enc = self.W1(X_enc)\n",
    "        h_dec = self.W1(X_dec)\n",
    "        h_dec = K.repeat(h_dec, h_enc.shape[1])\n",
    "\n",
    "        u = tanh(h_enc + h_dec)\n",
    "        u = self.V(u)\n",
    "        u = K.squeeze(u, axis=2)\n",
    "\n",
    "        if mask is not None:\n",
    "            mask_values = K.cast(mask[0], u.dtype)\n",
    "            u += (1-mask_values) * K.constant(-1e20) # -np.infty\n",
    "                \n",
    "        a = softmax(u, axis=1)\n",
    "        return a"
   ]
  },
  {
   "cell_type": "code",
   "execution_count": 45,
   "metadata": {},
   "outputs": [],
   "source": [
    "class PointerLSTMCell(LSTMCell):\n",
    "    def __init__(self, units, **kwargs):\n",
    "        super(PointerLSTMCell, self).__init__(units, **kwargs)\n",
    "        self.attention = Attention(units)\n",
    "        self.supports_masking = True\n",
    "\n",
    "    def call(self, inputs, states, constants=None, mask=None, training=None):\n",
    "        # print('C:', mask, self.supports_masking)\n",
    "        X_enc = constants[0]\n",
    "        mask = constants[1]\n",
    "        out, [h, c] = super(PointerLSTMCell, self).call(inputs, states, training=training)        \n",
    "        \n",
    "        # Pointing\n",
    "        probs = self.attention(X_enc, h, mask)    \n",
    "        idx = K.argmax(probs)\n",
    "        idx = K.expand_dims(idx)\n",
    "        r = K.arange(idx.shape[0], dtype=idx.dtype)\n",
    "        r = K.expand_dims(r)\n",
    "        \n",
    "        indices = K.concatenate((r, idx))\n",
    "        h = tf.gather_nd(X_enc, indices)\n",
    "        return probs, [h, c]\n"
   ]
  },
  {
   "cell_type": "code",
   "execution_count": 46,
   "metadata": {},
   "outputs": [],
   "source": [
    "class PointerLSTM(Layer):\n",
    "    def __init__(self, units, return_sequences=False, return_state=False, go_backwards=False, stateful=False, unroll=False, time_major=False, **kwargs):\n",
    "        super(PointerLSTM, self).__init__(**kwargs)\n",
    "        self.supports_masking = True\n",
    "        cell = PointerLSTMCell(units, **kwargs)\n",
    "        self.rnn = RNN(cell, return_sequences=return_sequences, return_state=return_state, \n",
    "                        go_backwards=go_backwards, stateful=stateful, unroll=unroll, time_major=time_major, **kwargs)\n",
    "    \n",
    "    def call(self, inputs, initial_state=None, constants=None, mask=None, **kwargs):\n",
    "        constants = [constants, mask]\n",
    "        return self.rnn(inputs, initial_state=initial_state, \n",
    "                        constants=constants, mask=mask, **kwargs)\n"
   ]
  },
  {
   "cell_type": "code",
   "execution_count": 47,
   "metadata": {},
   "outputs": [],
   "source": [
    "N = 10000\n",
    "seq_len = 5\n",
    "X, y = gen_data(N, seq_len, low=0, high=1000)"
   ]
  },
  {
   "cell_type": "code",
   "execution_count": 48,
   "metadata": {},
   "outputs": [
    {
     "data": {
      "text/plain": [
       "((8000, 5, 4), (8000, 5))"
      ]
     },
     "execution_count": 48,
     "metadata": {},
     "output_type": "execute_result"
    }
   ],
   "source": [
    "split = int(0.8 * N)\n",
    "\n",
    "_X = X / np.expand_dims(X.max(axis=1), axis=1)\n",
    "_X = np.expand_dims(_X, axis=2)\n",
    "_X = np.repeat(_X, 4, axis=2)\n",
    "\n",
    "X_train = _X[:split]\n",
    "y_train = y[:split]\n",
    "\n",
    "X_test = _X[split:]\n",
    "y_test = y[split:]\n",
    "\n",
    "X_train.shape, y_train.shape"
   ]
  },
  {
   "cell_type": "code",
   "execution_count": 49,
   "metadata": {},
   "outputs": [
    {
     "data": {
      "text/plain": [
       "(8000, 5, 5)"
      ]
     },
     "execution_count": 49,
     "metadata": {},
     "output_type": "execute_result"
    }
   ],
   "source": [
    "y_train_cat = to_categorical(y_train)\n",
    "y_train_cat.shape"
   ]
  },
  {
   "cell_type": "code",
   "execution_count": 50,
   "metadata": {},
   "outputs": [
    {
     "name": "stdout",
     "output_type": "stream",
     "text": [
      "Model: \"model_2\"\n",
      "__________________________________________________________________________________________________\n",
      " Layer (type)                   Output Shape         Param #     Connected to                     \n",
      "==================================================================================================\n",
      " input (InputLayer)             [(32, 5, 4)]         0           []                               \n",
      "                                                                                                  \n",
      " masking (Masking)              (32, 5, 4)           0           ['input[0][0]']                  \n",
      "                                                                                                  \n",
      " encoder (LSTM)                 [(32, 5, 64),        17664       ['masking[0][0]']                \n",
      "                                 (32, 64),                                                        \n",
      "                                 (32, 64)]                                                        \n",
      "                                                                                                  \n",
      " decoder (PointerLSTM)          [(32, 5, 5),         37184       ['encoder[0][0]',                \n",
      "                                 (32, 64),                        'encoder[0][0]',                \n",
      "                                 (32, 64)]                        'encoder[0][1]',                \n",
      "                                                                  'encoder[0][2]']                \n",
      "                                                                                                  \n",
      "==================================================================================================\n",
      "Total params: 54,848\n",
      "Trainable params: 54,848\n",
      "Non-trainable params: 0\n",
      "__________________________________________________________________________________________________\n"
     ]
    }
   ],
   "source": [
    "seq_shape = X_train.shape[1:]\n",
    "hidden_units = 64\n",
    "batch_size = 32\n",
    "\n",
    "inputs = Input(shape=seq_shape, name='input', batch_size=batch_size)\n",
    "masked = Masking(mask_value=-1, name='masking') (inputs)\n",
    "enc, state_h, state_c = LSTM(hidden_units, name='encoder', \n",
    "                            return_sequences=True, return_state=True) (masked)\n",
    "\n",
    "dec, _, _ = PointerLSTM(hidden_units, name='decoder', return_sequences=True, return_state=True) \\\n",
    "                    (enc, initial_state=[state_h, state_c], constants=enc)\n",
    "\n",
    "model = Model(inputs, dec)\n",
    "model.summary()"
   ]
  },
  {
   "cell_type": "code",
   "execution_count": 51,
   "metadata": {},
   "outputs": [],
   "source": [
    "model.compile(optimizer='adam',\n",
    "              loss='categorical_crossentropy',\n",
    "              metrics=['accuracy'])"
   ]
  },
  {
   "cell_type": "code",
   "execution_count": 52,
   "metadata": {},
   "outputs": [
    {
     "name": "stdout",
     "output_type": "stream",
     "text": [
      "Epoch 1/20\n",
      "250/250 [==============================] - 5s 5ms/step - loss: 0.9668 - accuracy: 0.5725\n",
      "Epoch 2/20\n",
      "250/250 [==============================] - 1s 5ms/step - loss: 0.3553 - accuracy: 0.8682\n",
      "Epoch 3/20\n",
      "250/250 [==============================] - 1s 5ms/step - loss: 0.2432 - accuracy: 0.9162\n",
      "Epoch 4/20\n",
      "250/250 [==============================] - 1s 5ms/step - loss: 0.1927 - accuracy: 0.9334\n",
      "Epoch 5/20\n",
      "250/250 [==============================] - 1s 5ms/step - loss: 0.1602 - accuracy: 0.9460\n",
      "Epoch 6/20\n",
      "250/250 [==============================] - 2s 6ms/step - loss: 0.1393 - accuracy: 0.9527\n",
      "Epoch 7/20\n",
      "250/250 [==============================] - 1s 5ms/step - loss: 0.1275 - accuracy: 0.9542\n",
      "Epoch 8/20\n",
      "250/250 [==============================] - 1s 5ms/step - loss: 0.1130 - accuracy: 0.9606\n",
      "Epoch 9/20\n",
      "250/250 [==============================] - 1s 5ms/step - loss: 0.1036 - accuracy: 0.9650\n",
      "Epoch 10/20\n",
      "250/250 [==============================] - 1s 5ms/step - loss: 0.0987 - accuracy: 0.9645\n",
      "Epoch 11/20\n",
      "250/250 [==============================] - 1s 5ms/step - loss: 0.0920 - accuracy: 0.9684\n",
      "Epoch 12/20\n",
      "250/250 [==============================] - 1s 4ms/step - loss: 0.0920 - accuracy: 0.9671\n",
      "Epoch 13/20\n",
      "250/250 [==============================] - 1s 4ms/step - loss: 0.0848 - accuracy: 0.9692\n",
      "Epoch 14/20\n",
      "250/250 [==============================] - 1s 5ms/step - loss: 0.0794 - accuracy: 0.9717\n",
      "Epoch 15/20\n",
      "250/250 [==============================] - 1s 5ms/step - loss: 0.0887 - accuracy: 0.9670\n",
      "Epoch 16/20\n",
      "250/250 [==============================] - 1s 4ms/step - loss: 0.0774 - accuracy: 0.9713\n",
      "Epoch 17/20\n",
      "250/250 [==============================] - 1s 4ms/step - loss: 0.0828 - accuracy: 0.9687\n",
      "Epoch 18/20\n",
      "250/250 [==============================] - 1s 5ms/step - loss: 0.0679 - accuracy: 0.9764\n",
      "Epoch 19/20\n",
      "250/250 [==============================] - 1s 4ms/step - loss: 0.0678 - accuracy: 0.9756\n",
      "Epoch 20/20\n",
      "250/250 [==============================] - 1s 5ms/step - loss: 0.0663 - accuracy: 0.9760\n"
     ]
    }
   ],
   "source": [
    "nb_epochs = 20\n",
    "h = model.fit(X_train, y_train_cat,\n",
    "            epochs=nb_epochs, batch_size=batch_size)"
   ]
  },
  {
   "cell_type": "code",
   "execution_count": 53,
   "metadata": {},
   "outputs": [
    {
     "data": {
      "text/plain": [
       "[<matplotlib.lines.Line2D at 0x7fe8aebeda10>]"
      ]
     },
     "execution_count": 53,
     "metadata": {},
     "output_type": "execute_result"
    },
    {
     "data": {
      "image/png": "[encoded data removed]",
      "text/plain": [
       "<Figure size 432x288 with 1 Axes>"
      ]
     },
     "metadata": {
      "needs_background": "light"
     },
     "output_type": "display_data"
    }
   ],
   "source": [
    "plt.plot(h.history['accuracy'])"
   ]
  },
  {
   "cell_type": "code",
   "execution_count": 54,
   "metadata": {},
   "outputs": [
    {
     "data": {
      "text/plain": [
       "[<matplotlib.lines.Line2D at 0x7fe8ae85f5d0>]"
      ]
     },
     "execution_count": 54,
     "metadata": {},
     "output_type": "execute_result"
    },
    {
     "data": {
      "image/png": "[encoded data removed]",
      "text/plain": [
       "<Figure size 432x288 with 1 Axes>"
      ]
     },
     "metadata": {
      "needs_background": "light"
     },
     "output_type": "display_data"
    }
   ],
   "source": [
    "plt.plot(h.history['loss'])"
   ]
  },
  {
   "cell_type": "code",
   "execution_count": 55,
   "metadata": {},
   "outputs": [
    {
     "name": "stdout",
     "output_type": "stream",
     "text": [
      "62/62 [==============================] - 1s 3ms/step - loss: 0.0677 - accuracy: 0.9742\n"
     ]
    },
    {
     "data": {
      "text/plain": [
       "[0.06771403551101685, 0.9741935729980469]"
      ]
     },
     "execution_count": 55,
     "metadata": {},
     "output_type": "execute_result"
    }
   ],
   "source": [
    "model.evaluate(X_test[:-16], to_categorical(y_test[:-16]), batch_size=batch_size)"
   ]
  },
  {
   "cell_type": "code",
   "execution_count": 63,
   "metadata": {},
   "outputs": [
    {
     "data": {
      "text/plain": [
       "array([[2, 3, 1, 4, 0],\n",
       "       [3, 4, 0, 2, 1]])"
      ]
     },
     "execution_count": 63,
     "metadata": {},
     "output_type": "execute_result"
    }
   ],
   "source": [
    "y_pred = model.predict(X_test[:-16])\n",
    "y_pred.argmax(axis=2)[:2]"
   ]
  },
  {
   "cell_type": "code",
   "execution_count": 64,
   "metadata": {},
   "outputs": [
    {
     "data": {
      "text/plain": [
       "array([[4, 2, 0, 1, 3],\n",
       "       [2, 4, 3, 0, 1]])"
      ]
     },
     "execution_count": 64,
     "metadata": {},
     "output_type": "execute_result"
    }
   ],
   "source": [
    "y_pred.argmax(axis=1)[:2]"
   ]
  },
  {
   "cell_type": "code",
   "execution_count": 65,
   "metadata": {},
   "outputs": [
    {
     "data": {
      "text/plain": [
       "array([[[1.95994488e-15, 7.32870958e-13, 1.00000000e+00, 2.03669651e-10,\n",
       "         1.86818898e-15],\n",
       "        [5.11307847e-14, 7.70976359e-04, 2.27170531e-05, 9.99206364e-01,\n",
       "         1.80407230e-13],\n",
       "        [5.58974830e-14, 9.99803364e-01, 1.75673903e-11, 1.96607361e-04,\n",
       "         1.47792321e-08],\n",
       "        [2.81388766e-11, 7.99212779e-11, 7.98059188e-12, 1.66119306e-11,\n",
       "         1.00000000e+00],\n",
       "        [1.00000000e+00, 1.03194432e-11, 1.41443053e-12, 7.94064033e-13,\n",
       "         4.32093554e-12]],\n",
       "\n",
       "       [[7.90344962e-14, 2.93210958e-14, 2.84444709e-14, 1.00000000e+00,\n",
       "         3.97566603e-14],\n",
       "        [1.67425057e-07, 1.26761518e-10, 1.72512241e-10, 1.19063825e-08,\n",
       "         9.99999762e-01],\n",
       "        [9.99937534e-01, 1.88662020e-15, 5.25645592e-05, 7.65974944e-14,\n",
       "         9.89420823e-06],\n",
       "        [3.69718300e-08, 2.51385274e-10, 1.00000000e+00, 1.78863196e-12,\n",
       "         1.18890522e-11],\n",
       "        [2.98811496e-11, 1.00000000e+00, 6.21249449e-12, 1.53376254e-13,\n",
       "         7.64900459e-13]]], dtype=float32)"
      ]
     },
     "execution_count": 65,
     "metadata": {},
     "output_type": "execute_result"
    }
   ],
   "source": [
    "y_pred[:2]"
   ]
  },
  {
   "cell_type": "code",
   "execution_count": 62,
   "metadata": {},
   "outputs": [
    {
     "data": {
      "text/plain": [
       "array([[2, 3, 1, 4, 0],\n",
       "       [3, 4, 0, 2, 1]])"
      ]
     },
     "execution_count": 62,
     "metadata": {},
     "output_type": "execute_result"
    }
   ],
   "source": [
    "y_test[:2]"
   ]
  },
  {
   "cell_type": "code",
   "execution_count": 216,
   "metadata": {},
   "outputs": [
    {
     "data": {
      "text/plain": [
       "array([[[0.92081218, 0.92081218, 0.92081218, 0.92081218],\n",
       "        [0.4964467 , 0.4964467 , 0.4964467 , 0.4964467 ],\n",
       "        [1.        , 1.        , 1.        , 1.        ],\n",
       "        [0.69949239, 0.69949239, 0.69949239, 0.69949239],\n",
       "        [0.86294416, 0.86294416, 0.86294416, 0.86294416]],\n",
       "\n",
       "       [[0.7755418 , 0.7755418 , 0.7755418 , 0.7755418 ],\n",
       "        [0.88390093, 0.88390093, 0.88390093, 0.88390093],\n",
       "        [0.33900929, 0.33900929, 0.33900929, 0.33900929],\n",
       "        [1.        , 1.        , 1.        , 1.        ],\n",
       "        [0.25232198, 0.25232198, 0.25232198, 0.25232198]]])"
      ]
     },
     "execution_count": 216,
     "metadata": {},
     "output_type": "execute_result"
    }
   ],
   "source": [
    "X_test[:2]"
   ]
  },
  {
   "cell_type": "code",
   "execution_count": 217,
   "metadata": {},
   "outputs": [],
   "source": [
    "y_pos = order(X_test[..., 0])\n",
    "y_idx = order(X_test[..., 0], True)"
   ]
  },
  {
   "cell_type": "code",
   "execution_count": 218,
   "metadata": {},
   "outputs": [
    {
     "data": {
      "text/plain": [
       "10000"
      ]
     },
     "execution_count": 218,
     "metadata": {},
     "output_type": "execute_result"
    }
   ],
   "source": [
    "np.equal(y_pos, y_test).sum()"
   ]
  },
  {
   "cell_type": "code",
   "execution_count": 37,
   "metadata": {},
   "outputs": [],
   "source": [
    "# y_pred = model.predict(X_test)"
   ]
  },
  {
   "cell_type": "code",
   "execution_count": 588,
   "metadata": {},
   "outputs": [
    {
     "data": {
      "text/plain": [
       "0.9685"
      ]
     },
     "execution_count": 588,
     "metadata": {},
     "output_type": "execute_result"
    }
   ],
   "source": [
    "# np.equal(y_idx, y_pred.argmax(axis=1)).sum() / np.product(y_test.shape) "
   ]
  },
  {
   "cell_type": "code",
   "execution_count": 38,
   "metadata": {},
   "outputs": [],
   "source": [
    "# np.equal(y_pos, y_pred.argmax(axis=2)).sum() / np.product(y_test.shape)"
   ]
  },
  {
   "cell_type": "code",
   "execution_count": null,
   "metadata": {},
   "outputs": [],
   "source": []
  },
  {
   "cell_type": "code",
   "execution_count": 39,
   "metadata": {},
   "outputs": [],
   "source": [
    "# y_pred = model.predict([[[1.0], [1.0], [0.5], [0.2], [0.2]]])\n",
    "# y_pred.argmax(axis=2), y_pred.argmax(axis=1)"
   ]
  },
  {
   "cell_type": "code",
   "execution_count": 40,
   "metadata": {},
   "outputs": [],
   "source": [
    "# y_pred = model.predict([[[1.0], [1.0], [1.0], [1.0], [1.0]]])\n",
    "# y_pred.argmax(axis=2), y_pred.argmax(axis=1)"
   ]
  },
  {
   "cell_type": "code",
   "execution_count": null,
   "metadata": {},
   "outputs": [],
   "source": []
  },
  {
   "cell_type": "code",
   "execution_count": 28,
   "metadata": {},
   "outputs": [],
   "source": [
    "# cell = PointerLSTMCell(hidden_units)\n",
    "# dec, _, _ = RNN(cell, name='decoder', return_sequences=True, return_state=True) \\\n",
    "#                     (enc, initial_state=[state_h, state_c], constants=enc)"
   ]
  },
  {
   "cell_type": "code",
   "execution_count": 29,
   "metadata": {},
   "outputs": [],
   "source": [
    "# enc, state = K.zeros((32, 5, 64)), [K.zeros((32, 64)), K.zeros((32, 64))]\n",
    "# p = PointerLSTM(64, return_sequences=True, return_state=True, name='decoder')\n",
    "# _ = p.call(enc, initial_state=state, constants=[enc])"
   ]
  },
  {
   "cell_type": "code",
   "execution_count": 43,
   "metadata": {},
   "outputs": [
    {
     "data": {
      "text/plain": [
       "<tf.Tensor: shape=(1, 5), dtype=float32, numpy=\n",
       "array([[0.3171001 , 0.18902096, 0.16251951, 0.10216902, 0.2291904 ]],\n",
       "      dtype=float32)>"
      ]
     },
     "execution_count": 43,
     "metadata": {},
     "output_type": "execute_result"
    }
   ],
   "source": [
    "units = 2\n",
    "att = Attention(units)\n",
    "X_enc = K.constant( np.random.random((1, 5, units)) )\n",
    "X_dec = K.constant( np.random.random((1, units)) )\n",
    "\n",
    "# mask =  K.constant( [[False, False, False, True, True]] )\n",
    "scores = att(X_enc, X_dec, mask=None)\n",
    "scores"
   ]
  },
  {
   "cell_type": "code",
   "execution_count": null,
   "metadata": {},
   "outputs": [],
   "source": []
  },
  {
   "cell_type": "code",
   "execution_count": null,
   "metadata": {},
   "outputs": [],
   "source": []
  },
  {
   "cell_type": "code",
   "execution_count": null,
   "metadata": {},
   "outputs": [],
   "source": []
  }
 ],
 "metadata": {
  "interpreter": {
   "hash": "3cb2bdb0a6209896b2c08e350958f92213a3044df550f2817f068195d36b5650"
  },
  "kernelspec": {
   "display_name": "Python 3.6.8 64-bit ('base': conda)",
   "language": "python",
   "name": "python3"
  },
  "language_info": {
   "codemirror_mode": {
    "name": "ipython",
    "version": 3
   },
   "file_extension": ".py",
   "mimetype": "text/x-python",
   "name": "python",
   "nbconvert_exporter": "python",
   "pygments_lexer": "ipython3",
   "version": "3.7.11"
  },
  "orig_nbformat": 4
 },
 "nbformat": 4,
 "nbformat_minor": 2
}
