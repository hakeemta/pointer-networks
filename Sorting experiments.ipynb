{
 "cells": [
  {
   "cell_type": "code",
   "execution_count": 246,
   "metadata": {},
   "outputs": [],
   "source": [
    "import numpy as np\n",
    "from matplotlib import pyplot as plt\n",
    "\n",
    "from keras.models import Model\n",
    "from keras.layers import LSTM, Input, Masking\n",
    "from keras.utils.np_utils import to_categorical\n",
    "from keras.preprocessing.sequence import pad_sequences\n",
    "from keras import optimizers\n",
    "import keras\n",
    "import keras.backend as K"
   ]
  },
  {
   "cell_type": "code",
   "execution_count": 247,
   "metadata": {},
   "outputs": [],
   "source": [
    "from pointer_lstm import PointerDecoder\n",
    "from sorting_dataset import gen_data, gen_jagged_data"
   ]
  },
  {
   "cell_type": "code",
   "execution_count": 248,
   "metadata": {},
   "outputs": [
    {
     "data": {
      "text/plain": [
       "'2.7.0'"
      ]
     },
     "execution_count": 248,
     "metadata": {},
     "output_type": "execute_result"
    }
   ],
   "source": [
    "import tensorflow as tf\n",
    "tf.__version__"
   ]
  },
  {
   "cell_type": "code",
   "execution_count": 249,
   "metadata": {},
   "outputs": [],
   "source": [
    "%reload_ext autoreload\n",
    "%autoreload 2\n",
    "\n",
    "np.random.seed(17)"
   ]
  },
  {
   "cell_type": "code",
   "execution_count": null,
   "metadata": {},
   "outputs": [],
   "source": []
  },
  {
   "cell_type": "code",
   "execution_count": 251,
   "metadata": {},
   "outputs": [
    {
     "data": {
      "text/plain": [
       "((10000, 6), (10000, 6))"
      ]
     },
     "execution_count": 251,
     "metadata": {},
     "output_type": "execute_result"
    }
   ],
   "source": [
    "N = 10000\n",
    "max_seq_len = 5\n",
    "output_size = max_seq_len + 1\n",
    "\n",
    "# X, y = gen_data(N, max_seq_len, low=0, high=1000)\n",
    "X, y = gen_jagged_data(N, max_seq_len, low=1)\n",
    "\n",
    "# Pad the (jagged) sequences\n",
    "X = pad_sequences(X, maxlen=max_seq_len + 1, value=-1, padding='post', truncating='post', dtype=np.float32)\n",
    "y = pad_sequences(y, value=0, padding='post', truncating='post') # maxlen=output_size, \n",
    "\n",
    "# Shuffle the sequences\n",
    "idx = np.arange(X.shape[0])\n",
    "np.random.shuffle(idx)\n",
    "X = X[idx]\n",
    "y = y[idx]\n",
    "\n",
    "X.shape, y.shape"
   ]
  },
  {
   "cell_type": "code",
   "execution_count": 252,
   "metadata": {},
   "outputs": [
    {
     "data": {
      "text/plain": [
       "(array([[ 1.        , -1.        , -1.        , -1.        , -1.        ,\n",
       "         -1.        ],\n",
       "        [ 1.        ,  0.35632184,  0.62068963,  0.06896552,  1.        ,\n",
       "         -1.        ]], dtype=float32),\n",
       " array([[1, 0, 0, 0, 0, 0],\n",
       "        [4, 2, 3, 1, 5, 0]], dtype=int32))"
      ]
     },
     "execution_count": 252,
     "metadata": {},
     "output_type": "execute_result"
    }
   ],
   "source": [
    "X[:2], y[:2]"
   ]
  },
  {
   "cell_type": "code",
   "execution_count": 253,
   "metadata": {},
   "outputs": [
    {
     "data": {
      "text/plain": [
       "((8000, 6, 1), (8000, 6, 6), (2000, 6, 1), (2000, 6, 6))"
      ]
     },
     "execution_count": 253,
     "metadata": {},
     "output_type": "execute_result"
    }
   ],
   "source": [
    "split = int(0.8 * N)\n",
    "\n",
    "_X = np.expand_dims(X, axis=2)\n",
    "# _X = np.repeat(_X, 4, axis=2)\n",
    "\n",
    "# OHE the labels\n",
    "_y = to_categorical(y, num_classes=output_size)\n",
    "# _y = _y[:, :output_size]\n",
    "\n",
    "X_train = _X[:split]\n",
    "y_train = _y[:split]\n",
    "\n",
    "X_test = _X[split:]\n",
    "y_test = _y[split:]\n",
    "\n",
    "X_train.shape, y_train.shape, X_test.shape, y_test.shape"
   ]
  },
  {
   "cell_type": "code",
   "execution_count": null,
   "metadata": {},
   "outputs": [],
   "source": []
  },
  {
   "cell_type": "code",
   "execution_count": 254,
   "metadata": {},
   "outputs": [
    {
     "name": "stdout",
     "output_type": "stream",
     "text": [
      "Model: \"model_13\"\n",
      "__________________________________________________________________________________________________\n",
      " Layer (type)                   Output Shape         Param #     Connected to                     \n",
      "==================================================================================================\n",
      " input (InputLayer)             [(32, 6, 1)]         0           []                               \n",
      "                                                                                                  \n",
      " masking (Masking)              (32, 6, 1)           0           ['input[0][0]']                  \n",
      "                                                                                                  \n",
      " encoder (LSTM)                 [(32, 6, 64),        16896       ['masking[0][0]']                \n",
      "                                 (32, 64),                                                        \n",
      "                                 (32, 64)]                                                        \n",
      "                                                                                                  \n",
      " decoder (PointerDecoder)       (32, 6, 6)           41280       ['encoder[0][0]',                \n",
      "                                                                  'encoder[0][1]',                \n",
      "                                                                  'encoder[0][2]']                \n",
      "                                                                                                  \n",
      "==================================================================================================\n",
      "Total params: 58,176\n",
      "Trainable params: 58,176\n",
      "Non-trainable params: 0\n",
      "__________________________________________________________________________________________________\n"
     ]
    }
   ],
   "source": [
    "seq_shape = X_train.shape[1:]\n",
    "hidden_units = 64\n",
    "batch_size = 32\n",
    "\n",
    "inputs = Input(shape=seq_shape, name='input', batch_size=batch_size)\n",
    "masking = Masking(mask_value=-1, name='masking') \n",
    "masked = masking(inputs)\n",
    "encoder = LSTM(hidden_units, name='encoder', return_sequences=True, return_state=True)\n",
    "enc, state_h, state_c =  encoder(masked)\n",
    "\n",
    "decoder = PointerDecoder(hidden_units, output_size=output_size, name='decoder')\n",
    "dec = decoder(enc, initial_state=[state_h, state_c])\n",
    "\n",
    "model = Model(inputs, dec)\n",
    "model.summary()"
   ]
  },
  {
   "cell_type": "code",
   "execution_count": 261,
   "metadata": {},
   "outputs": [],
   "source": [
    "opt = optimizers.adam_v2.Adam(learning_rate=1e-3)\n",
    "\n",
    "model.compile(optimizer=opt,\n",
    "              loss='categorical_crossentropy',\n",
    "              metrics=['accuracy'])"
   ]
  },
  {
   "cell_type": "code",
   "execution_count": 262,
   "metadata": {},
   "outputs": [
    {
     "name": "stdout",
     "output_type": "stream",
     "text": [
      "Epoch 1/20\n",
      "250/250 [==============================] - 11s 7ms/step - loss: 0.4290 - accuracy: 0.5837\n",
      "Epoch 2/20\n",
      "250/250 [==============================] - 2s 7ms/step - loss: 0.1420 - accuracy: 0.8958\n",
      "Epoch 3/20\n",
      "250/250 [==============================] - 2s 7ms/step - loss: 0.0956 - accuracy: 0.9284\n",
      "Epoch 4/20\n",
      "250/250 [==============================] - 2s 7ms/step - loss: 0.0771 - accuracy: 0.9432\n",
      "Epoch 5/20\n",
      "250/250 [==============================] - 2s 8ms/step - loss: 0.0651 - accuracy: 0.9524\n",
      "Epoch 6/20\n",
      "250/250 [==============================] - 2s 8ms/step - loss: 0.0584 - accuracy: 0.9570\n",
      "Epoch 7/20\n",
      "250/250 [==============================] - 2s 8ms/step - loss: 0.0554 - accuracy: 0.9572\n",
      "Epoch 8/20\n",
      "250/250 [==============================] - 2s 9ms/step - loss: 0.0473 - accuracy: 0.9652\n",
      "Epoch 9/20\n",
      "250/250 [==============================] - 2s 8ms/step - loss: 0.0453 - accuracy: 0.9650\n",
      "Epoch 10/20\n",
      "250/250 [==============================] - 2s 8ms/step - loss: 0.0422 - accuracy: 0.9683\n",
      "Epoch 11/20\n",
      "250/250 [==============================] - 2s 8ms/step - loss: 0.0386 - accuracy: 0.9720\n",
      "Epoch 12/20\n",
      "250/250 [==============================] - 2s 8ms/step - loss: 0.0384 - accuracy: 0.9714\n",
      "Epoch 13/20\n",
      "250/250 [==============================] - 2s 8ms/step - loss: 0.0394 - accuracy: 0.9697\n",
      "Epoch 14/20\n",
      "250/250 [==============================] - 2s 8ms/step - loss: 0.0362 - accuracy: 0.9730\n",
      "Epoch 15/20\n",
      "250/250 [==============================] - 3s 10ms/step - loss: 0.0335 - accuracy: 0.9752\n",
      "Epoch 16/20\n",
      "250/250 [==============================] - 2s 9ms/step - loss: 0.0316 - accuracy: 0.9763\n",
      "Epoch 17/20\n",
      "250/250 [==============================] - 2s 9ms/step - loss: 0.0312 - accuracy: 0.9760\n",
      "Epoch 18/20\n",
      "250/250 [==============================] - 2s 9ms/step - loss: 0.0340 - accuracy: 0.9724\n",
      "Epoch 19/20\n",
      "250/250 [==============================] - 2s 8ms/step - loss: 0.0278 - accuracy: 0.9793\n",
      "Epoch 20/20\n",
      "250/250 [==============================] - 2s 8ms/step - loss: 0.0303 - accuracy: 0.9768\n"
     ]
    }
   ],
   "source": [
    "nb_epochs = 20\n",
    "h = model.fit(X_train, y_train,\n",
    "            epochs=nb_epochs, batch_size=batch_size)"
   ]
  },
  {
   "cell_type": "code",
   "execution_count": 263,
   "metadata": {},
   "outputs": [
    {
     "data": {
      "text/plain": [
       "[<matplotlib.lines.Line2D at 0x7ff0ae13fdd0>]"
      ]
     },
     "execution_count": 263,
     "metadata": {},
     "output_type": "execute_result"
    },
    {
     "data": {
      "image/png": "[encoded data removed]",
      "text/plain": [
       "<Figure size 432x288 with 1 Axes>"
      ]
     },
     "metadata": {
      "needs_background": "light"
     },
     "output_type": "display_data"
    }
   ],
   "source": [
    "plt.plot(h.history['accuracy'])"
   ]
  },
  {
   "cell_type": "code",
   "execution_count": 264,
   "metadata": {},
   "outputs": [
    {
     "data": {
      "text/plain": [
       "[<matplotlib.lines.Line2D at 0x7ff09e11cad0>]"
      ]
     },
     "execution_count": 264,
     "metadata": {},
     "output_type": "execute_result"
    },
    {
     "data": {
      "image/png": "[encoded data removed]",
      "text/plain": [
       "<Figure size 432x288 with 1 Axes>"
      ]
     },
     "metadata": {
      "needs_background": "light"
     },
     "output_type": "display_data"
    }
   ],
   "source": [
    "plt.plot(h.history['loss'])"
   ]
  },
  {
   "cell_type": "code",
   "execution_count": 265,
   "metadata": {},
   "outputs": [
    {
     "name": "stdout",
     "output_type": "stream",
     "text": [
      "62/62 [==============================] - 3s 3ms/step - loss: 0.0405 - accuracy: 0.9655\n"
     ]
    },
    {
     "data": {
      "text/plain": [
       "[0.04046221077442169, 0.9654600024223328]"
      ]
     },
     "execution_count": 265,
     "metadata": {},
     "output_type": "execute_result"
    }
   ],
   "source": [
    "model.evaluate(X_test[:-16], y_test[:-16], batch_size=batch_size)"
   ]
  },
  {
   "cell_type": "code",
   "execution_count": 266,
   "metadata": {},
   "outputs": [
    {
     "data": {
      "text/plain": [
       "array([[[ 1.        ],\n",
       "        [ 0.2857143 ],\n",
       "        [ 0.86734694],\n",
       "        [ 0.53061223],\n",
       "        [-1.        ],\n",
       "        [-1.        ]],\n",
       "\n",
       "       [[ 0.30232558],\n",
       "        [ 1.        ],\n",
       "        [-1.        ],\n",
       "        [-1.        ],\n",
       "        [-1.        ],\n",
       "        [-1.        ]]], dtype=float32)"
      ]
     },
     "execution_count": 266,
     "metadata": {},
     "output_type": "execute_result"
    }
   ],
   "source": [
    "X_test[:2]"
   ]
  },
  {
   "cell_type": "code",
   "execution_count": 267,
   "metadata": {},
   "outputs": [],
   "source": [
    "y_pred = model.predict(X_test[:-16])"
   ]
  },
  {
   "cell_type": "code",
   "execution_count": 268,
   "metadata": {},
   "outputs": [
    {
     "data": {
      "text/plain": [
       "array([[2, 4, 3, 1, 0, 0],\n",
       "       [1, 2, 0, 0, 0, 0],\n",
       "       [2, 1, 3, 0, 0, 0],\n",
       "       [2, 1, 3, 0, 0, 0],\n",
       "       [3, 2, 1, 0, 0, 0],\n",
       "       [1, 0, 0, 0, 0, 0],\n",
       "       [1, 2, 0, 0, 0, 0],\n",
       "       [3, 2, 1, 0, 0, 0],\n",
       "       [1, 2, 0, 0, 0, 0],\n",
       "       [2, 5, 1, 4, 3, 0]])"
      ]
     },
     "execution_count": 268,
     "metadata": {},
     "output_type": "execute_result"
    }
   ],
   "source": [
    "y_pred_pos = y_pred.argmax(axis=2)\n",
    "y_pred_idx = y_pred.argmax(axis=1)\n",
    "y_pred_pos[:10] #, y_pred_idx[:2]"
   ]
  },
  {
   "cell_type": "code",
   "execution_count": 269,
   "metadata": {},
   "outputs": [
    {
     "data": {
      "text/plain": [
       "array([[2, 4, 3, 1, 0, 0],\n",
       "       [1, 2, 0, 0, 0, 0],\n",
       "       [2, 1, 3, 0, 0, 0],\n",
       "       [2, 1, 3, 0, 0, 0],\n",
       "       [3, 2, 1, 0, 0, 0],\n",
       "       [1, 0, 0, 0, 0, 0],\n",
       "       [1, 2, 0, 0, 0, 0],\n",
       "       [3, 2, 1, 0, 0, 0],\n",
       "       [1, 2, 0, 0, 0, 0],\n",
       "       [2, 5, 1, 4, 3, 0]])"
      ]
     },
     "execution_count": 269,
     "metadata": {},
     "output_type": "execute_result"
    }
   ],
   "source": [
    "y_test_pos = y_test.argmax(axis=2)\n",
    "y_test_idx = y_test.argmax(axis=1)\n",
    "y_test_pos[:10] #, y_test_idx[:2]"
   ]
  },
  {
   "cell_type": "code",
   "execution_count": 270,
   "metadata": {},
   "outputs": [
    {
     "data": {
      "text/plain": [
       "array([[[ 1.        ],\n",
       "        [ 0.2857143 ],\n",
       "        [ 0.86734694],\n",
       "        [ 0.53061223],\n",
       "        [-1.        ],\n",
       "        [-1.        ]],\n",
       "\n",
       "       [[ 0.30232558],\n",
       "        [ 1.        ],\n",
       "        [-1.        ],\n",
       "        [-1.        ],\n",
       "        [-1.        ],\n",
       "        [-1.        ]]], dtype=float32)"
      ]
     },
     "execution_count": 270,
     "metadata": {},
     "output_type": "execute_result"
    }
   ],
   "source": [
    "_X = X_test[:2]\n",
    "_X"
   ]
  },
  {
   "cell_type": "code",
   "execution_count": 271,
   "metadata": {},
   "outputs": [
    {
     "data": {
      "text/plain": [
       "<tf.Tensor: shape=(2, 6, 6), dtype=float32, numpy=\n",
       "array([[[0.0000000e+00, 9.5153043e-18, 1.0000000e+00, 7.1676656e-18,\n",
       "         3.2728147e-14, 0.0000000e+00],\n",
       "        [0.0000000e+00, 3.3691601e-13, 9.5591881e-09, 2.1164138e-12,\n",
       "         1.0000000e+00, 0.0000000e+00],\n",
       "        [0.0000000e+00, 1.1381923e-06, 4.3037746e-10, 9.9997532e-01,\n",
       "         2.3465291e-05, 0.0000000e+00],\n",
       "        [0.0000000e+00, 9.9998820e-01, 1.0274046e-12, 1.1828455e-05,\n",
       "         5.1299026e-13, 0.0000000e+00],\n",
       "        [1.0000000e+00, 0.0000000e+00, 0.0000000e+00, 0.0000000e+00,\n",
       "         0.0000000e+00, 0.0000000e+00],\n",
       "        [1.0000000e+00, 0.0000000e+00, 0.0000000e+00, 0.0000000e+00,\n",
       "         0.0000000e+00, 0.0000000e+00]],\n",
       "\n",
       "       [[0.0000000e+00, 1.0000000e+00, 1.5772842e-21, 0.0000000e+00,\n",
       "         0.0000000e+00, 0.0000000e+00],\n",
       "        [0.0000000e+00, 8.1876265e-13, 1.0000000e+00, 0.0000000e+00,\n",
       "         0.0000000e+00, 0.0000000e+00],\n",
       "        [1.0000000e+00, 0.0000000e+00, 0.0000000e+00, 0.0000000e+00,\n",
       "         0.0000000e+00, 0.0000000e+00],\n",
       "        [1.0000000e+00, 0.0000000e+00, 0.0000000e+00, 0.0000000e+00,\n",
       "         0.0000000e+00, 0.0000000e+00],\n",
       "        [1.0000000e+00, 0.0000000e+00, 0.0000000e+00, 0.0000000e+00,\n",
       "         0.0000000e+00, 0.0000000e+00],\n",
       "        [1.0000000e+00, 0.0000000e+00, 0.0000000e+00, 0.0000000e+00,\n",
       "         0.0000000e+00, 0.0000000e+00]]], dtype=float32)>"
      ]
     },
     "execution_count": 271,
     "metadata": {},
     "output_type": "execute_result"
    }
   ],
   "source": [
    "m = masking(_X)\n",
    "e, h, c = encoder(m)\n",
    "d = decoder(e, [h,c])\n",
    "d"
   ]
  },
  {
   "cell_type": "code",
   "execution_count": null,
   "metadata": {},
   "outputs": [],
   "source": []
  },
  {
   "cell_type": "code",
   "execution_count": null,
   "metadata": {},
   "outputs": [],
   "source": []
  },
  {
   "cell_type": "code",
   "execution_count": null,
   "metadata": {},
   "outputs": [],
   "source": []
  },
  {
   "cell_type": "code",
   "execution_count": null,
   "metadata": {},
   "outputs": [],
   "source": []
  },
  {
   "cell_type": "code",
   "execution_count": null,
   "metadata": {},
   "outputs": [],
   "source": []
  },
  {
   "cell_type": "code",
   "execution_count": 89,
   "metadata": {},
   "outputs": [],
   "source": [
    "def compute_accuracy(_y_true, _y_pred):\n",
    "    acc = keras.metrics.Accuracy()\n",
    "    return acc(_y_true, _y_pred).numpy()"
   ]
  },
  {
   "cell_type": "code",
   "execution_count": 90,
   "metadata": {},
   "outputs": [
    {
     "data": {
      "text/plain": [
       "0.65087366"
      ]
     },
     "execution_count": 90,
     "metadata": {},
     "output_type": "execute_result"
    }
   ],
   "source": [
    "compute_accuracy(y_pred_idx.argsort(), y_pred_pos)\n",
    "compute_accuracy(y_test_idx.argsort(), y_test_pos)\n",
    "compute_accuracy(y_pred_pos, y_test_pos[:-16])\n",
    "compute_accuracy(y_pred_idx, y_test_idx[:-16])"
   ]
  },
  {
   "cell_type": "code",
   "execution_count": 91,
   "metadata": {},
   "outputs": [
    {
     "data": {
      "text/plain": [
       "array([[ 0.27586207,  0.63793105,  0.39655173,  1.        , -1.        ,\n",
       "        -1.        ],\n",
       "       [ 0.09589041,  0.9726027 ,  1.        ,  0.4520548 , -1.        ,\n",
       "        -1.        ],\n",
       "       [ 0.22105263,  1.        , -1.        , -1.        , -1.        ,\n",
       "        -1.        ]], dtype=float32)"
      ]
     },
     "execution_count": 91,
     "metadata": {},
     "output_type": "execute_result"
    }
   ],
   "source": [
    "X_ = X_test[:batch_size]\n",
    "X_[0] = [[0.2], [1.0], [-1], [-1], [-1], [-1]]\n",
    "X_[1] = [[1.0], [1.0], [1.0], [1.0], [1.0], [-1]]\n",
    "X_[2] = [[1], [0.1], [0.1], [1], [0.1], [-1]]\n",
    "\n",
    "X[:3]"
   ]
  },
  {
   "cell_type": "code",
   "execution_count": 93,
   "metadata": {},
   "outputs": [
    {
     "data": {
      "text/plain": [
       "array([[0, 0, 0, 0, 0, 0],\n",
       "       [0, 0, 0, 0, 0, 0],\n",
       "       [1, 1, 1, 1, 1, 1]])"
      ]
     },
     "execution_count": 93,
     "metadata": {},
     "output_type": "execute_result"
    }
   ],
   "source": [
    "y_pred = model.predict(X_)\n",
    "y_pred_pos = y_pred.argmax(axis=2)\n",
    "y_pred_idx = y_pred.argmax(axis=1)\n",
    "y_pred_pos[:3]#, y_pred_idx[:3]"
   ]
  },
  {
   "cell_type": "code",
   "execution_count": 166,
   "metadata": {},
   "outputs": [],
   "source": [
    "# K.sum( K.cast((e[:, -1] == h),  dtype=np.int32) ) / K.prod(h.shape)"
   ]
  },
  {
   "cell_type": "code",
   "execution_count": null,
   "metadata": {},
   "outputs": [],
   "source": []
  },
  {
   "cell_type": "code",
   "execution_count": null,
   "metadata": {},
   "outputs": [],
   "source": []
  },
  {
   "cell_type": "code",
   "execution_count": null,
   "metadata": {},
   "outputs": [],
   "source": []
  }
 ],
 "metadata": {
  "interpreter": {
   "hash": "3cb2bdb0a6209896b2c08e350958f92213a3044df550f2817f068195d36b5650"
  },
  "kernelspec": {
   "display_name": "Python 3.6.8 64-bit ('base': conda)",
   "language": "python",
   "name": "python3"
  },
  "language_info": {
   "codemirror_mode": {
    "name": "ipython",
    "version": 3
   },
   "file_extension": ".py",
   "mimetype": "text/x-python",
   "name": "python",
   "nbconvert_exporter": "python",
   "pygments_lexer": "ipython3",
   "version": "3.7.11"
  },
  "orig_nbformat": 4
 },
 "nbformat": 4,
 "nbformat_minor": 2
}
