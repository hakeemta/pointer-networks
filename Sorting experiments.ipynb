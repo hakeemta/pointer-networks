{
 "cells": [
  {
   "cell_type": "code",
   "execution_count": 198,
   "metadata": {},
   "outputs": [],
   "source": [
    "import numpy as np\n",
    "from matplotlib import pyplot as plt\n",
    "\n",
    "from keras.models import Model\n",
    "from keras.layers import LSTM, Input, Masking\n",
    "from keras.utils.np_utils import to_categorical\n",
    "import keras"
   ]
  },
  {
   "cell_type": "code",
   "execution_count": 82,
   "metadata": {},
   "outputs": [],
   "source": [
    "from pointer_lstm import PointerDecoder\n",
    "from sorting_dataset import gen_data"
   ]
  },
  {
   "cell_type": "code",
   "execution_count": 83,
   "metadata": {},
   "outputs": [
    {
     "data": {
      "text/plain": [
       "'2.7.0'"
      ]
     },
     "execution_count": 83,
     "metadata": {},
     "output_type": "execute_result"
    }
   ],
   "source": [
    "import tensorflow as tf\n",
    "tf.__version__"
   ]
  },
  {
   "cell_type": "code",
   "execution_count": 84,
   "metadata": {},
   "outputs": [],
   "source": [
    "%reload_ext autoreload\n",
    "%autoreload 2"
   ]
  },
  {
   "cell_type": "code",
   "execution_count": null,
   "metadata": {},
   "outputs": [],
   "source": []
  },
  {
   "cell_type": "code",
   "execution_count": 85,
   "metadata": {},
   "outputs": [],
   "source": [
    "N = 10000\n",
    "seq_len = 5\n",
    "output_size = 5\n",
    "X, y = gen_data(N, seq_len, low=0, high=1000)"
   ]
  },
  {
   "cell_type": "code",
   "execution_count": 109,
   "metadata": {},
   "outputs": [
    {
     "data": {
      "text/plain": [
       "((8000, 5, 1), (8000, 5, 5))"
      ]
     },
     "execution_count": 109,
     "metadata": {},
     "output_type": "execute_result"
    }
   ],
   "source": [
    "split = int(0.8 * N)\n",
    "\n",
    "_X = X / np.expand_dims(X.max(axis=1), axis=1)\n",
    "_X = np.expand_dims(_X, axis=2)\n",
    "# _X = np.repeat(_X, 4, axis=2)\n",
    "\n",
    "_y = to_categorical(y)\n",
    "_y = _y[:, :output_size]\n",
    "\n",
    "X_train = _X[:split]\n",
    "y_train = _y[:split]\n",
    "\n",
    "X_test = _X[split:]\n",
    "y_test = _y[split:]\n",
    "\n",
    "X_train.shape, y_train.shape"
   ]
  },
  {
   "cell_type": "code",
   "execution_count": 110,
   "metadata": {},
   "outputs": [],
   "source": [
    "# X_train[:, 0] = -1"
   ]
  },
  {
   "cell_type": "code",
   "execution_count": 182,
   "metadata": {},
   "outputs": [
    {
     "name": "stdout",
     "output_type": "stream",
     "text": [
      "Model: \"model_12\"\n",
      "__________________________________________________________________________________________________\n",
      " Layer (type)                   Output Shape         Param #     Connected to                     \n",
      "==================================================================================================\n",
      " input (InputLayer)             [(16, 5, 1)]         0           []                               \n",
      "                                                                                                  \n",
      " masking (Masking)              (16, 5, 1)           0           ['input[0][0]']                  \n",
      "                                                                                                  \n",
      " encoder (LSTM)                 [(16, 5, 32),        4352        ['masking[0][0]']                \n",
      "                                 (16, 32),                                                        \n",
      "                                 (16, 32)]                                                        \n",
      "                                                                                                  \n",
      " decoder (PointerDecoder)       (16, 5, 5)           10400       ['encoder[0][0]',                \n",
      "                                                                  'encoder[0][1]',                \n",
      "                                                                  'encoder[0][2]']                \n",
      "                                                                                                  \n",
      "==================================================================================================\n",
      "Total params: 14,752\n",
      "Trainable params: 14,752\n",
      "Non-trainable params: 0\n",
      "__________________________________________________________________________________________________\n"
     ]
    }
   ],
   "source": [
    "seq_shape = X_train.shape[1:]\n",
    "hidden_units = 32\n",
    "batch_size = 16\n",
    "\n",
    "inputs = Input(shape=seq_shape, name='input', batch_size=batch_size)\n",
    "masked = Masking(mask_value=-1, name='masking') (inputs)\n",
    "encoder = LSTM(hidden_units, name='encoder', return_sequences=True, return_state=True)\n",
    "enc, state_h, state_c =  encoder(masked)\n",
    "\n",
    "decoder = PointerDecoder(hidden_units, output_size=output_size, name='decoder')\n",
    "dec = decoder(enc, initial_state=[state_h, state_c])\n",
    "\n",
    "model = Model(inputs, dec)\n",
    "model.summary()"
   ]
  },
  {
   "cell_type": "code",
   "execution_count": 183,
   "metadata": {},
   "outputs": [],
   "source": [
    "model.compile(optimizer='adam',\n",
    "              loss='categorical_crossentropy',\n",
    "              metrics=['accuracy'])"
   ]
  },
  {
   "cell_type": "code",
   "execution_count": 184,
   "metadata": {},
   "outputs": [
    {
     "name": "stdout",
     "output_type": "stream",
     "text": [
      "Epoch 1/100\n",
      "500/500 [==============================] - 11s 6ms/step - loss: 0.9501 - accuracy: 0.5787\n",
      "Epoch 2/100\n",
      "500/500 [==============================] - 3s 6ms/step - loss: 0.3503 - accuracy: 0.8781\n",
      "Epoch 3/100\n",
      "500/500 [==============================] - 3s 6ms/step - loss: 0.2389 - accuracy: 0.9212\n",
      "Epoch 4/100\n",
      "500/500 [==============================] - 3s 6ms/step - loss: 0.1831 - accuracy: 0.9405\n",
      "Epoch 5/100\n",
      "500/500 [==============================] - 3s 6ms/step - loss: 0.1517 - accuracy: 0.9504\n",
      "Epoch 6/100\n",
      "500/500 [==============================] - 3s 6ms/step - loss: 0.1326 - accuracy: 0.9549\n",
      "Epoch 7/100\n",
      "500/500 [==============================] - 3s 6ms/step - loss: 0.1197 - accuracy: 0.9584\n",
      "Epoch 8/100\n",
      "500/500 [==============================] - 3s 6ms/step - loss: 0.1075 - accuracy: 0.9627\n",
      "Epoch 9/100\n",
      "500/500 [==============================] - 3s 6ms/step - loss: 0.0991 - accuracy: 0.9653\n",
      "Epoch 10/100\n",
      "500/500 [==============================] - 3s 6ms/step - loss: 0.0950 - accuracy: 0.9662\n",
      "Epoch 11/100\n",
      "500/500 [==============================] - 3s 6ms/step - loss: 0.0848 - accuracy: 0.9698\n",
      "Epoch 12/100\n",
      "500/500 [==============================] - 3s 6ms/step - loss: 0.0845 - accuracy: 0.9697\n",
      "Epoch 13/100\n",
      "500/500 [==============================] - 3s 6ms/step - loss: 0.0780 - accuracy: 0.9723\n",
      "Epoch 14/100\n",
      "500/500 [==============================] - 3s 6ms/step - loss: 0.0740 - accuracy: 0.9732\n",
      "Epoch 15/100\n",
      "500/500 [==============================] - 3s 6ms/step - loss: 0.0772 - accuracy: 0.9709\n",
      "Epoch 16/100\n",
      "500/500 [==============================] - 3s 6ms/step - loss: 0.0775 - accuracy: 0.9711\n",
      "Epoch 17/100\n",
      "500/500 [==============================] - 4s 7ms/step - loss: 0.0678 - accuracy: 0.9743\n",
      "Epoch 18/100\n",
      "500/500 [==============================] - 3s 6ms/step - loss: 0.0618 - accuracy: 0.9777\n",
      "Epoch 19/100\n",
      "500/500 [==============================] - 3s 6ms/step - loss: 0.0763 - accuracy: 0.9715\n",
      "Epoch 20/100\n",
      "500/500 [==============================] - 3s 6ms/step - loss: 0.0621 - accuracy: 0.9772\n",
      "Epoch 21/100\n",
      "500/500 [==============================] - 3s 6ms/step - loss: 0.0613 - accuracy: 0.9768\n",
      "Epoch 22/100\n",
      "500/500 [==============================] - 3s 6ms/step - loss: 0.0624 - accuracy: 0.9769\n",
      "Epoch 23/100\n",
      "500/500 [==============================] - 3s 6ms/step - loss: 0.0581 - accuracy: 0.9793\n",
      "Epoch 24/100\n",
      "500/500 [==============================] - 3s 6ms/step - loss: 0.0598 - accuracy: 0.9766\n",
      "Epoch 25/100\n",
      "500/500 [==============================] - 3s 6ms/step - loss: 0.0553 - accuracy: 0.9794\n",
      "Epoch 26/100\n",
      "500/500 [==============================] - 3s 6ms/step - loss: 0.0539 - accuracy: 0.9791\n",
      "Epoch 27/100\n",
      "500/500 [==============================] - 3s 6ms/step - loss: 0.0578 - accuracy: 0.9787\n",
      "Epoch 28/100\n",
      "500/500 [==============================] - 3s 6ms/step - loss: 0.0598 - accuracy: 0.9763\n",
      "Epoch 29/100\n",
      "500/500 [==============================] - 3s 6ms/step - loss: 0.0509 - accuracy: 0.9807\n",
      "Epoch 30/100\n",
      "500/500 [==============================] - 3s 6ms/step - loss: 0.0595 - accuracy: 0.9766\n",
      "Epoch 31/100\n",
      "500/500 [==============================] - 3s 6ms/step - loss: 0.0546 - accuracy: 0.9795\n",
      "Epoch 32/100\n",
      "500/500 [==============================] - 3s 6ms/step - loss: 0.0479 - accuracy: 0.9824\n",
      "Epoch 33/100\n",
      "500/500 [==============================] - 3s 6ms/step - loss: 0.0549 - accuracy: 0.9776\n",
      "Epoch 34/100\n",
      "500/500 [==============================] - 3s 6ms/step - loss: 0.0545 - accuracy: 0.9793\n",
      "Epoch 35/100\n",
      "500/500 [==============================] - 3s 6ms/step - loss: 0.0497 - accuracy: 0.9807\n",
      "Epoch 36/100\n",
      "500/500 [==============================] - 3s 6ms/step - loss: 0.0487 - accuracy: 0.9801\n",
      "Epoch 37/100\n",
      "500/500 [==============================] - 3s 6ms/step - loss: 0.0488 - accuracy: 0.9810\n",
      "Epoch 38/100\n",
      "500/500 [==============================] - 3s 6ms/step - loss: 0.0543 - accuracy: 0.9797\n",
      "Epoch 39/100\n",
      "500/500 [==============================] - 3s 6ms/step - loss: 0.0454 - accuracy: 0.9828\n",
      "Epoch 40/100\n",
      "500/500 [==============================] - 3s 6ms/step - loss: 0.0496 - accuracy: 0.9799\n",
      "Epoch 41/100\n",
      "500/500 [==============================] - 3s 6ms/step - loss: 0.0479 - accuracy: 0.9822\n",
      "Epoch 42/100\n",
      "500/500 [==============================] - 3s 6ms/step - loss: 0.0567 - accuracy: 0.9790\n",
      "Epoch 43/100\n",
      "500/500 [==============================] - 3s 6ms/step - loss: 0.0468 - accuracy: 0.9821\n",
      "Epoch 44/100\n",
      "500/500 [==============================] - 3s 6ms/step - loss: 0.0451 - accuracy: 0.9825\n",
      "Epoch 45/100\n",
      "500/500 [==============================] - 3s 6ms/step - loss: 0.0548 - accuracy: 0.9787\n",
      "Epoch 46/100\n",
      "500/500 [==============================] - 3s 6ms/step - loss: 0.0412 - accuracy: 0.9848\n",
      "Epoch 47/100\n",
      "500/500 [==============================] - 3s 6ms/step - loss: 0.0487 - accuracy: 0.9811\n",
      "Epoch 48/100\n",
      "500/500 [==============================] - 3s 6ms/step - loss: 0.0432 - accuracy: 0.9837\n",
      "Epoch 49/100\n",
      "500/500 [==============================] - 4s 7ms/step - loss: 0.0428 - accuracy: 0.9836\n",
      "Epoch 50/100\n",
      "500/500 [==============================] - 3s 6ms/step - loss: 0.0431 - accuracy: 0.9834\n",
      "Epoch 51/100\n",
      "500/500 [==============================] - 3s 6ms/step - loss: 0.0469 - accuracy: 0.9815\n",
      "Epoch 52/100\n",
      "500/500 [==============================] - 3s 6ms/step - loss: 0.0540 - accuracy: 0.9794\n",
      "Epoch 53/100\n",
      "500/500 [==============================] - 3s 6ms/step - loss: 0.0402 - accuracy: 0.9845\n",
      "Epoch 54/100\n",
      "500/500 [==============================] - 3s 6ms/step - loss: 0.0412 - accuracy: 0.9840\n",
      "Epoch 55/100\n",
      "500/500 [==============================] - 3s 6ms/step - loss: 0.0467 - accuracy: 0.9818\n",
      "Epoch 56/100\n",
      "500/500 [==============================] - 3s 6ms/step - loss: 0.0470 - accuracy: 0.9822\n",
      "Epoch 57/100\n",
      "500/500 [==============================] - 3s 6ms/step - loss: 0.0457 - accuracy: 0.9824\n",
      "Epoch 58/100\n",
      "500/500 [==============================] - 3s 6ms/step - loss: 0.0431 - accuracy: 0.9834\n",
      "Epoch 59/100\n",
      "500/500 [==============================] - 3s 6ms/step - loss: 0.0402 - accuracy: 0.9846\n",
      "Epoch 60/100\n",
      "500/500 [==============================] - 3s 6ms/step - loss: 0.0499 - accuracy: 0.9811\n",
      "Epoch 61/100\n",
      "500/500 [==============================] - 3s 6ms/step - loss: 0.0385 - accuracy: 0.9855\n",
      "Epoch 62/100\n",
      "500/500 [==============================] - 3s 6ms/step - loss: 0.0410 - accuracy: 0.9840\n",
      "Epoch 63/100\n",
      "500/500 [==============================] - 3s 7ms/step - loss: 0.0367 - accuracy: 0.9862\n",
      "Epoch 64/100\n",
      "500/500 [==============================] - 3s 6ms/step - loss: 0.0443 - accuracy: 0.9823\n",
      "Epoch 65/100\n",
      "500/500 [==============================] - 3s 6ms/step - loss: 0.0471 - accuracy: 0.9812\n",
      "Epoch 66/100\n",
      "500/500 [==============================] - 3s 6ms/step - loss: 0.0389 - accuracy: 0.9848\n",
      "Epoch 67/100\n",
      "500/500 [==============================] - 3s 6ms/step - loss: 0.0429 - accuracy: 0.9833\n",
      "Epoch 68/100\n",
      "500/500 [==============================] - 3s 6ms/step - loss: 0.0352 - accuracy: 0.9868\n",
      "Epoch 69/100\n",
      "500/500 [==============================] - 3s 6ms/step - loss: 0.0439 - accuracy: 0.9829\n",
      "Epoch 70/100\n",
      "500/500 [==============================] - 3s 6ms/step - loss: 0.0466 - accuracy: 0.9826\n",
      "Epoch 71/100\n",
      "500/500 [==============================] - 3s 6ms/step - loss: 0.0347 - accuracy: 0.9872\n",
      "Epoch 72/100\n",
      "500/500 [==============================] - 3s 6ms/step - loss: 0.0388 - accuracy: 0.9844\n",
      "Epoch 73/100\n",
      "500/500 [==============================] - 3s 6ms/step - loss: 0.0377 - accuracy: 0.9859\n",
      "Epoch 74/100\n",
      "500/500 [==============================] - 3s 6ms/step - loss: 0.0381 - accuracy: 0.9852\n",
      "Epoch 75/100\n",
      "500/500 [==============================] - 3s 6ms/step - loss: 0.0381 - accuracy: 0.9853\n",
      "Epoch 76/100\n",
      "500/500 [==============================] - 3s 6ms/step - loss: 0.0498 - accuracy: 0.9815\n",
      "Epoch 77/100\n",
      "500/500 [==============================] - 3s 6ms/step - loss: 0.0379 - accuracy: 0.9851\n",
      "Epoch 78/100\n",
      "500/500 [==============================] - 3s 6ms/step - loss: 0.0404 - accuracy: 0.9842\n",
      "Epoch 79/100\n",
      "500/500 [==============================] - 4s 7ms/step - loss: 0.0365 - accuracy: 0.9861\n",
      "Epoch 80/100\n",
      "500/500 [==============================] - 3s 6ms/step - loss: 0.0363 - accuracy: 0.9861\n",
      "Epoch 81/100\n",
      "500/500 [==============================] - 3s 6ms/step - loss: 0.0390 - accuracy: 0.9853\n",
      "Epoch 82/100\n",
      "500/500 [==============================] - 3s 6ms/step - loss: 0.0366 - accuracy: 0.9857\n",
      "Epoch 83/100\n",
      "500/500 [==============================] - 3s 6ms/step - loss: 0.0435 - accuracy: 0.9843\n",
      "Epoch 84/100\n",
      "500/500 [==============================] - 3s 6ms/step - loss: 0.0331 - accuracy: 0.9877\n",
      "Epoch 85/100\n",
      "500/500 [==============================] - 3s 6ms/step - loss: 0.0382 - accuracy: 0.9850\n",
      "Epoch 86/100\n",
      "500/500 [==============================] - 3s 6ms/step - loss: 0.0339 - accuracy: 0.9872\n",
      "Epoch 87/100\n",
      "500/500 [==============================] - 3s 6ms/step - loss: 0.0382 - accuracy: 0.9854\n",
      "Epoch 88/100\n",
      "500/500 [==============================] - 3s 6ms/step - loss: 0.0430 - accuracy: 0.9829\n",
      "Epoch 89/100\n",
      "500/500 [==============================] - 3s 6ms/step - loss: 0.0372 - accuracy: 0.9860\n",
      "Epoch 90/100\n",
      "500/500 [==============================] - 3s 6ms/step - loss: 0.0444 - accuracy: 0.9834\n",
      "Epoch 91/100\n",
      "500/500 [==============================] - 3s 6ms/step - loss: 0.0331 - accuracy: 0.9886\n",
      "Epoch 92/100\n",
      "500/500 [==============================] - 3s 6ms/step - loss: 0.0312 - accuracy: 0.9883\n",
      "Epoch 93/100\n",
      "500/500 [==============================] - 3s 6ms/step - loss: 0.0362 - accuracy: 0.9861\n",
      "Epoch 94/100\n",
      "500/500 [==============================] - 3s 6ms/step - loss: 0.0363 - accuracy: 0.9859\n",
      "Epoch 95/100\n",
      "500/500 [==============================] - 3s 6ms/step - loss: 0.0389 - accuracy: 0.9860\n",
      "Epoch 96/100\n",
      "500/500 [==============================] - 3s 6ms/step - loss: 0.0292 - accuracy: 0.9891\n",
      "Epoch 97/100\n",
      "500/500 [==============================] - 3s 6ms/step - loss: 0.0363 - accuracy: 0.9859\n",
      "Epoch 98/100\n",
      "500/500 [==============================] - 3s 6ms/step - loss: 0.0406 - accuracy: 0.9847\n",
      "Epoch 99/100\n",
      "500/500 [==============================] - 3s 6ms/step - loss: 0.0365 - accuracy: 0.9864\n",
      "Epoch 100/100\n",
      "500/500 [==============================] - 3s 6ms/step - loss: 0.0364 - accuracy: 0.9861\n"
     ]
    }
   ],
   "source": [
    "nb_epochs = 100\n",
    "h = model.fit(X_train, y_train,\n",
    "            epochs=nb_epochs, batch_size=batch_size)"
   ]
  },
  {
   "cell_type": "code",
   "execution_count": 185,
   "metadata": {},
   "outputs": [
    {
     "data": {
      "text/plain": [
       "[<matplotlib.lines.Line2D at 0x7f8ec0d0bf10>]"
      ]
     },
     "execution_count": 185,
     "metadata": {},
     "output_type": "execute_result"
    },
    {
     "data": {
      "image/png": "[encoded data removed]",
      "text/plain": [
       "<Figure size 432x288 with 1 Axes>"
      ]
     },
     "metadata": {
      "needs_background": "light"
     },
     "output_type": "display_data"
    }
   ],
   "source": [
    "plt.plot(h.history['accuracy'])"
   ]
  },
  {
   "cell_type": "code",
   "execution_count": 186,
   "metadata": {},
   "outputs": [
    {
     "data": {
      "text/plain": [
       "[<matplotlib.lines.Line2D at 0x7f8eb1c608d0>]"
      ]
     },
     "execution_count": 186,
     "metadata": {},
     "output_type": "execute_result"
    },
    {
     "data": {
      "image/png": "[encoded data removed]",
      "text/plain": [
       "<Figure size 432x288 with 1 Axes>"
      ]
     },
     "metadata": {
      "needs_background": "light"
     },
     "output_type": "display_data"
    }
   ],
   "source": [
    "plt.plot(h.history['loss'])"
   ]
  },
  {
   "cell_type": "code",
   "execution_count": 229,
   "metadata": {},
   "outputs": [
    {
     "name": "stdout",
     "output_type": "stream",
     "text": [
      "124/124 [==============================] - 0s 3ms/step - loss: 0.1007 - accuracy: 0.9775\n"
     ]
    },
    {
     "data": {
      "text/plain": [
       "[0.10071972757577896, 0.9775156378746033]"
      ]
     },
     "execution_count": 229,
     "metadata": {},
     "output_type": "execute_result"
    }
   ],
   "source": [
    "model.evaluate(X_test[:-16], y_test[:-16], batch_size=batch_size)"
   ]
  },
  {
   "cell_type": "code",
   "execution_count": 230,
   "metadata": {},
   "outputs": [
    {
     "data": {
      "text/plain": [
       "array([[[ 0.2],\n",
       "        [ 1. ],\n",
       "        [ 0. ],\n",
       "        [-1. ],\n",
       "        [-1. ]],\n",
       "\n",
       "       [[ 1. ],\n",
       "        [ 1. ],\n",
       "        [ 1. ],\n",
       "        [ 1. ],\n",
       "        [ 1. ]]])"
      ]
     },
     "execution_count": 230,
     "metadata": {},
     "output_type": "execute_result"
    }
   ],
   "source": [
    "X_test[:2]"
   ]
  },
  {
   "cell_type": "code",
   "execution_count": 231,
   "metadata": {},
   "outputs": [],
   "source": [
    "y_pred = model.predict(X_test[:-16])"
   ]
  },
  {
   "cell_type": "code",
   "execution_count": 232,
   "metadata": {},
   "outputs": [
    {
     "data": {
      "text/plain": [
       "(array([[2, 0, 0, 1, 1],\n",
       "        [0, 0, 2, 2, 1]]),\n",
       " array([[1, 3, 0, 0, 0],\n",
       "        [1, 4, 3, 0, 0]]))"
      ]
     },
     "execution_count": 232,
     "metadata": {},
     "output_type": "execute_result"
    }
   ],
   "source": [
    "y_pred_pos = y_pred.argmax(axis=2)\n",
    "y_pred_idx = y_pred.argmax(axis=1)\n",
    "y_pred_pos[:2], y_pred_idx[:2]"
   ]
  },
  {
   "cell_type": "code",
   "execution_count": 234,
   "metadata": {},
   "outputs": [],
   "source": [
    "def compute_accuracy(_y_true, _y_pred):\n",
    "    acc = keras.metrics.Accuracy()\n",
    "    return acc(_y_true, _y_pred).numpy()"
   ]
  },
  {
   "cell_type": "code",
   "execution_count": 235,
   "metadata": {},
   "outputs": [
    {
     "data": {
      "text/plain": [
       "0.98185486"
      ]
     },
     "execution_count": 235,
     "metadata": {},
     "output_type": "execute_result"
    }
   ],
   "source": [
    "compute_accuracy(y_pred_idx.argsort(), y_pred_pos)"
   ]
  },
  {
   "cell_type": "code",
   "execution_count": 236,
   "metadata": {},
   "outputs": [
    {
     "data": {
      "text/plain": [
       "(array([[4, 3, 2, 1, 0],\n",
       "        [1, 2, 4, 3, 0]]),\n",
       " array([[4, 3, 2, 1, 0],\n",
       "        [4, 0, 1, 3, 2]]))"
      ]
     },
     "execution_count": 236,
     "metadata": {},
     "output_type": "execute_result"
    }
   ],
   "source": [
    "y_test_pos = y_test.argmax(axis=2)\n",
    "y_test_idx = y_test.argmax(axis=1)\n",
    "y_test_pos[:2], y_test_idx[:2]"
   ]
  },
  {
   "cell_type": "code",
   "execution_count": 237,
   "metadata": {},
   "outputs": [
    {
     "data": {
      "text/plain": [
       "1.0"
      ]
     },
     "execution_count": 237,
     "metadata": {},
     "output_type": "execute_result"
    }
   ],
   "source": [
    "compute_accuracy(y_test_idx.argsort(), y_test_pos)"
   ]
  },
  {
   "cell_type": "code",
   "execution_count": 242,
   "metadata": {},
   "outputs": [
    {
     "data": {
      "text/plain": [
       "0.97379035"
      ]
     },
     "execution_count": 242,
     "metadata": {},
     "output_type": "execute_result"
    }
   ],
   "source": [
    "compute_accuracy(y_pred_pos, y_test_pos[:-16])"
   ]
  },
  {
   "cell_type": "code",
   "execution_count": 243,
   "metadata": {},
   "outputs": [
    {
     "data": {
      "text/plain": [
       "0.97752017"
      ]
     },
     "execution_count": 243,
     "metadata": {},
     "output_type": "execute_result"
    }
   ],
   "source": [
    "compute_accuracy(y_pred_idx, y_test_idx[:-16])"
   ]
  },
  {
   "cell_type": "code",
   "execution_count": 244,
   "metadata": {},
   "outputs": [],
   "source": [
    "X_ = X_test[:batch_size]\n",
    "X_[0] = [[0.2], [1.0], [0.0], [-1], [-1]]\n",
    "X_[1] = [[1.0], [1.0], [1.0], [1.0], [1.0]]\n",
    "X_[2] = [[1], [0.1], [0.1], [1], [0.1]]"
   ]
  },
  {
   "cell_type": "code",
   "execution_count": 245,
   "metadata": {},
   "outputs": [
    {
     "data": {
      "text/plain": [
       "(array([[2, 0, 0, 1, 1],\n",
       "        [0, 0, 2, 2, 1],\n",
       "        [2, 1, 1, 0, 0]]),\n",
       " array([[1, 3, 0, 0, 0],\n",
       "        [1, 4, 3, 0, 0],\n",
       "        [4, 1, 0, 0, 0]]))"
      ]
     },
     "execution_count": 245,
     "metadata": {},
     "output_type": "execute_result"
    }
   ],
   "source": [
    "y_pred = model.predict(X_)\n",
    "y_pred_pos = y_pred.argmax(axis=2)\n",
    "y_pred_idx = y_pred.argmax(axis=1)\n",
    "y_pred_pos[:3], y_pred_idx[:3]"
   ]
  },
  {
   "cell_type": "code",
   "execution_count": 247,
   "metadata": {},
   "outputs": [],
   "source": [
    "# y_pred[:3]"
   ]
  },
  {
   "cell_type": "code",
   "execution_count": null,
   "metadata": {},
   "outputs": [],
   "source": []
  },
  {
   "cell_type": "code",
   "execution_count": null,
   "metadata": {},
   "outputs": [],
   "source": []
  },
  {
   "cell_type": "code",
   "execution_count": null,
   "metadata": {},
   "outputs": [],
   "source": []
  }
 ],
 "metadata": {
  "interpreter": {
   "hash": "3cb2bdb0a6209896b2c08e350958f92213a3044df550f2817f068195d36b5650"
  },
  "kernelspec": {
   "display_name": "Python 3.6.8 64-bit ('base': conda)",
   "language": "python",
   "name": "python3"
  },
  "language_info": {
   "codemirror_mode": {
    "name": "ipython",
    "version": 3
   },
   "file_extension": ".py",
   "mimetype": "text/x-python",
   "name": "python",
   "nbconvert_exporter": "python",
   "pygments_lexer": "ipython3",
   "version": "3.7.11"
  },
  "orig_nbformat": 4
 },
 "nbformat": 4,
 "nbformat_minor": 2
}
