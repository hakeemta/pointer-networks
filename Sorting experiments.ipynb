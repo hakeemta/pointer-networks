{
 "cells": [
  {
   "cell_type": "code",
   "execution_count": 1,
   "metadata": {},
   "outputs": [],
   "source": [
    "import numpy as np\n",
    "from matplotlib import pyplot as plt\n",
    "\n",
    "from keras.models import Model\n",
    "from keras.layers import LSTM, Input, Masking\n",
    "from keras.utils.np_utils import to_categorical\n",
    "from keras.preprocessing.sequence import pad_sequences\n",
    "from keras import optimizers, losses\n",
    "import keras\n",
    "import keras.backend as K"
   ]
  },
  {
   "cell_type": "code",
   "execution_count": 2,
   "metadata": {},
   "outputs": [],
   "source": [
    "from pointer_lstm import PointerDecoder\n",
    "from sorting_dataset import gen_data, gen_jagged_data\n",
    "from utils import loss, accuracy"
   ]
  },
  {
   "cell_type": "code",
   "execution_count": 3,
   "metadata": {},
   "outputs": [
    {
     "data": {
      "text/plain": [
       "'2.7.0'"
      ]
     },
     "execution_count": 3,
     "metadata": {},
     "output_type": "execute_result"
    }
   ],
   "source": [
    "import tensorflow as tf\n",
    "tf.__version__"
   ]
  },
  {
   "cell_type": "code",
   "execution_count": 9,
   "metadata": {},
   "outputs": [],
   "source": [
    "%reload_ext autoreload\n",
    "%autoreload 2\n",
    "\n",
    "np.random.seed(17)"
   ]
  },
  {
   "cell_type": "code",
   "execution_count": null,
   "metadata": {},
   "outputs": [],
   "source": []
  },
  {
   "cell_type": "code",
   "execution_count": 28,
   "metadata": {},
   "outputs": [
    {
     "data": {
      "text/plain": [
       "((10000, 6), (10000, 6))"
      ]
     },
     "execution_count": 28,
     "metadata": {},
     "output_type": "execute_result"
    }
   ],
   "source": [
    "N = 10000\n",
    "max_seq_len = 5\n",
    "output_size = max_seq_len + 1\n",
    "\n",
    "# X, y = gen_data(N, max_seq_len, low=0, high=1000)\n",
    "X, y = gen_jagged_data(N, max_seq_len, low=1)\n",
    "\n",
    "# Descending order\n",
    "# y = y[:, ::-1]\n",
    "\n",
    "# Limit\n",
    "# y = y[:, :output_size]\n",
    "\n",
    "# Pad the (jagged) sequences\n",
    "X = pad_sequences(X, maxlen=max_seq_len+1, value=-1, padding='post', truncating='post', dtype=np.float32)\n",
    "y = pad_sequences(y, value=0, maxlen=output_size, padding='post', truncating='post') \n",
    "\n",
    "# Shuffle the sequences\n",
    "idx = np.arange(X.shape[0])\n",
    "np.random.shuffle(idx)\n",
    "X = X[idx]\n",
    "y = y[idx]\n",
    "\n",
    "X.shape, y.shape"
   ]
  },
  {
   "cell_type": "code",
   "execution_count": 29,
   "metadata": {},
   "outputs": [
    {
     "data": {
      "text/plain": [
       "(array([[ 1.        , -1.        , -1.        , -1.        , -1.        ,\n",
       "         -1.        ],\n",
       "        [ 1.        ,  0.86153847,  0.3846154 ,  0.6769231 , -1.        ,\n",
       "         -1.        ]], dtype=float32),\n",
       " array([[1, 0, 0, 0, 0, 0],\n",
       "        [3, 4, 2, 1, 0, 0]], dtype=int32))"
      ]
     },
     "execution_count": 29,
     "metadata": {},
     "output_type": "execute_result"
    }
   ],
   "source": [
    "X[:2], y[:2]"
   ]
  },
  {
   "cell_type": "code",
   "execution_count": 30,
   "metadata": {},
   "outputs": [
    {
     "data": {
      "text/plain": [
       "((8000, 6, 1), (8000, 6, 6), (2000, 6, 1), (2000, 6, 6))"
      ]
     },
     "execution_count": 30,
     "metadata": {},
     "output_type": "execute_result"
    }
   ],
   "source": [
    "split = int(0.8 * N)\n",
    "\n",
    "_X = np.expand_dims(X, axis=2)\n",
    "# _X = np.repeat(_X, 4, axis=2)\n",
    "\n",
    "# OHE the labels\n",
    "_y = to_categorical(y) #, num_classes=output_size)\n",
    "\n",
    "X_train = _X[:split]\n",
    "y_train = _y[:split]\n",
    "\n",
    "X_test = _X[split:]\n",
    "y_test = _y[split:]\n",
    "\n",
    "X_train.shape, y_train.shape, X_test.shape, y_test.shape"
   ]
  },
  {
   "cell_type": "code",
   "execution_count": null,
   "metadata": {},
   "outputs": [],
   "source": []
  },
  {
   "cell_type": "code",
   "execution_count": 31,
   "metadata": {},
   "outputs": [
    {
     "name": "stdout",
     "output_type": "stream",
     "text": [
      "Model: \"model_2\"\n",
      "__________________________________________________________________________________________________\n",
      " Layer (type)                   Output Shape         Param #     Connected to                     \n",
      "==================================================================================================\n",
      " input (InputLayer)             [(16, 6, 1)]         0           []                               \n",
      "                                                                                                  \n",
      " masking (Masking)              (16, 6, 1)           0           ['input[0][0]']                  \n",
      "                                                                                                  \n",
      " encoder (LSTM)                 [(16, 6, 32),        4352        ['masking[0][0]']                \n",
      "                                 (16, 32),                                                        \n",
      "                                 (16, 32)]                                                        \n",
      "                                                                                                  \n",
      " decoder (PointerDecoder)       (16, 6, 6)           10400       ['encoder[0][0]',                \n",
      "                                                                  'encoder[0][1]',                \n",
      "                                                                  'encoder[0][2]']                \n",
      "                                                                                                  \n",
      "==================================================================================================\n",
      "Total params: 14,752\n",
      "Trainable params: 14,752\n",
      "Non-trainable params: 0\n",
      "__________________________________________________________________________________________________\n"
     ]
    }
   ],
   "source": [
    "seq_shape = X_train.shape[1:]\n",
    "hidden_units = 32\n",
    "batch_size = 16\n",
    "\n",
    "inputs = Input(shape=seq_shape, name='input', batch_size=batch_size)\n",
    "masking = Masking(mask_value=-1, name='masking') \n",
    "masked = masking(inputs)\n",
    "\n",
    "encoder = LSTM(hidden_units, name='encoder', return_sequences=True, return_state=True)\n",
    "enc, state_h, state_c =  encoder(masked)\n",
    "\n",
    "decoder = PointerDecoder(hidden_units, output_size=output_size, name='decoder')\n",
    "dec = decoder(enc, initial_state=[state_h, state_c])\n",
    "\n",
    "model = Model(inputs, dec)\n",
    "model.summary()"
   ]
  },
  {
   "cell_type": "code",
   "execution_count": 32,
   "metadata": {},
   "outputs": [],
   "source": [
    "opt = optimizers.adam_v2.Adam(learning_rate=1e-3)\n",
    "\n",
    "model.compile(optimizer=opt,\n",
    "              loss='categorical_crossentropy',\n",
    "              metrics=['accuracy']\n",
    "            ) "
   ]
  },
  {
   "cell_type": "code",
   "execution_count": 33,
   "metadata": {},
   "outputs": [
    {
     "name": "stdout",
     "output_type": "stream",
     "text": [
      "Epoch 1/20\n",
      "500/500 [==============================] - 11s 6ms/step - loss: 0.3536 - accuracy: 0.6800\n",
      "Epoch 2/20\n",
      "500/500 [==============================] - 3s 6ms/step - loss: 0.1217 - accuracy: 0.9151\n",
      "Epoch 3/20\n",
      "500/500 [==============================] - 3s 6ms/step - loss: 0.0841 - accuracy: 0.9428\n",
      "Epoch 4/20\n",
      "500/500 [==============================] - 3s 6ms/step - loss: 0.0671 - accuracy: 0.9529\n",
      "Epoch 5/20\n",
      "500/500 [==============================] - 3s 6ms/step - loss: 0.0562 - accuracy: 0.9617\n",
      "Epoch 6/20\n",
      "500/500 [==============================] - 3s 7ms/step - loss: 0.0512 - accuracy: 0.9632\n",
      "Epoch 7/20\n",
      "500/500 [==============================] - 3s 7ms/step - loss: 0.0458 - accuracy: 0.9676\n",
      "Epoch 8/20\n",
      "500/500 [==============================] - 3s 6ms/step - loss: 0.0417 - accuracy: 0.9694\n",
      "Epoch 9/20\n",
      "500/500 [==============================] - 3s 7ms/step - loss: 0.0404 - accuracy: 0.9716\n",
      "Epoch 10/20\n",
      "500/500 [==============================] - 3s 6ms/step - loss: 0.0356 - accuracy: 0.9741\n",
      "Epoch 11/20\n",
      "500/500 [==============================] - 3s 7ms/step - loss: 0.0346 - accuracy: 0.9746\n",
      "Epoch 12/20\n",
      "500/500 [==============================] - 3s 7ms/step - loss: 0.0358 - accuracy: 0.9734\n",
      "Epoch 13/20\n",
      "500/500 [==============================] - 3s 6ms/step - loss: 0.0301 - accuracy: 0.9792\n",
      "Epoch 14/20\n",
      "500/500 [==============================] - 4s 7ms/step - loss: 0.0315 - accuracy: 0.9771\n",
      "Epoch 15/20\n",
      "500/500 [==============================] - 3s 6ms/step - loss: 0.0310 - accuracy: 0.9769\n",
      "Epoch 16/20\n",
      "500/500 [==============================] - 4s 7ms/step - loss: 0.0288 - accuracy: 0.9777\n",
      "Epoch 17/20\n",
      "500/500 [==============================] - 3s 6ms/step - loss: 0.0300 - accuracy: 0.9771\n",
      "Epoch 18/20\n",
      "500/500 [==============================] - 3s 7ms/step - loss: 0.0274 - accuracy: 0.9804\n",
      "Epoch 19/20\n",
      "500/500 [==============================] - 3s 6ms/step - loss: 0.0264 - accuracy: 0.9800\n",
      "Epoch 20/20\n",
      "500/500 [==============================] - 3s 6ms/step - loss: 0.0290 - accuracy: 0.9779\n"
     ]
    }
   ],
   "source": [
    "nb_epochs = 20\n",
    "h = model.fit(X_train, y_train,\n",
    "            epochs=nb_epochs, batch_size=batch_size)"
   ]
  },
  {
   "cell_type": "code",
   "execution_count": 34,
   "metadata": {},
   "outputs": [],
   "source": [
    "# model.save_weights('first_canonical_weights')\n",
    "# model.save('first_canonical')"
   ]
  },
  {
   "cell_type": "code",
   "execution_count": 35,
   "metadata": {},
   "outputs": [
    {
     "data": {
      "text/plain": [
       "[<matplotlib.lines.Line2D at 0x7f92166afb10>]"
      ]
     },
     "execution_count": 35,
     "metadata": {},
     "output_type": "execute_result"
    },
    {
     "data": {
      "image/png": "[encoded data removed]",
      "text/plain": [
       "<Figure size 432x288 with 1 Axes>"
      ]
     },
     "metadata": {
      "needs_background": "light"
     },
     "output_type": "display_data"
    }
   ],
   "source": [
    "plt.plot(h.history['accuracy'])"
   ]
  },
  {
   "cell_type": "code",
   "execution_count": 36,
   "metadata": {},
   "outputs": [
    {
     "data": {
      "text/plain": [
       "[<matplotlib.lines.Line2D at 0x7f92162115d0>]"
      ]
     },
     "execution_count": 36,
     "metadata": {},
     "output_type": "execute_result"
    },
    {
     "data": {
      "image/png": "[encoded data removed]",
      "text/plain": [
       "<Figure size 432x288 with 1 Axes>"
      ]
     },
     "metadata": {
      "needs_background": "light"
     },
     "output_type": "display_data"
    }
   ],
   "source": [
    "plt.plot(h.history['loss'])"
   ]
  },
  {
   "cell_type": "code",
   "execution_count": 37,
   "metadata": {},
   "outputs": [
    {
     "data": {
      "text/plain": [
       "(2000, 6, 1)"
      ]
     },
     "execution_count": 37,
     "metadata": {},
     "output_type": "execute_result"
    }
   ],
   "source": [
    "X_test.shape"
   ]
  },
  {
   "cell_type": "code",
   "execution_count": 39,
   "metadata": {},
   "outputs": [
    {
     "name": "stdout",
     "output_type": "stream",
     "text": [
      "125/125 [==============================] - 4s 3ms/step - loss: 0.0383 - accuracy: 0.9643\n"
     ]
    },
    {
     "data": {
      "text/plain": [
       "[0.038340579718351364, 0.9642977714538574]"
      ]
     },
     "execution_count": 39,
     "metadata": {},
     "output_type": "execute_result"
    }
   ],
   "source": [
    "n_test = X_test.shape[0]\n",
    "n_test = batch_size * int(n_test / batch_size)\n",
    "\n",
    "model.evaluate(X_test[:n_test], y_test[:n_test], batch_size=batch_size)"
   ]
  },
  {
   "cell_type": "code",
   "execution_count": 40,
   "metadata": {},
   "outputs": [
    {
     "data": {
      "text/plain": [
       "array([[[ 0.8       ],\n",
       "        [ 0.51111114],\n",
       "        [ 0.51111114],\n",
       "        [ 1.        ],\n",
       "        [-1.        ],\n",
       "        [-1.        ]],\n",
       "\n",
       "       [[ 1.        ],\n",
       "        [ 0.33333334],\n",
       "        [ 0.6       ],\n",
       "        [-1.        ],\n",
       "        [-1.        ],\n",
       "        [-1.        ]]], dtype=float32)"
      ]
     },
     "execution_count": 40,
     "metadata": {},
     "output_type": "execute_result"
    }
   ],
   "source": [
    "X_test[:2]"
   ]
  },
  {
   "cell_type": "code",
   "execution_count": 41,
   "metadata": {},
   "outputs": [
    {
     "name": "stdout",
     "output_type": "stream",
     "text": [
      "WARNING:tensorflow:Model was constructed with shape (16, 6, 1) for input KerasTensor(type_spec=TensorSpec(shape=(16, 6, 1), dtype=tf.float32, name='input'), name='input', description=\"created by layer 'input'\"), but it was called on an input with incompatible shape (32, 6, 1).\n"
     ]
    }
   ],
   "source": [
    "y_pred = model.predict(X_test[:-16])"
   ]
  },
  {
   "cell_type": "code",
   "execution_count": 42,
   "metadata": {},
   "outputs": [
    {
     "data": {
      "text/plain": [
       "array([[2, 3, 1, 4, 0, 0],\n",
       "       [2, 3, 1, 0, 0, 0],\n",
       "       [1, 3, 2, 4, 0, 0],\n",
       "       [2, 1, 0, 0, 0, 0]])"
      ]
     },
     "execution_count": 42,
     "metadata": {},
     "output_type": "execute_result"
    }
   ],
   "source": [
    "y_pred_pos = y_pred.argmax(axis=2)\n",
    "y_pred_pos[:4]"
   ]
  },
  {
   "cell_type": "code",
   "execution_count": 43,
   "metadata": {},
   "outputs": [
    {
     "data": {
      "text/plain": [
       "array([[2, 3, 1, 4, 0, 0],\n",
       "       [2, 3, 1, 0, 0, 0],\n",
       "       [1, 3, 2, 4, 0, 0],\n",
       "       [2, 1, 0, 0, 0, 0]])"
      ]
     },
     "execution_count": 43,
     "metadata": {},
     "output_type": "execute_result"
    }
   ],
   "source": [
    "y_test_pos = y_test.argmax(axis=2)\n",
    "y_test_pos[:4]"
   ]
  },
  {
   "cell_type": "code",
   "execution_count": null,
   "metadata": {},
   "outputs": [],
   "source": []
  },
  {
   "cell_type": "code",
   "execution_count": 254,
   "metadata": {},
   "outputs": [
    {
     "data": {
      "text/plain": [
       "array([[ 0.2,  1. , -1. , -1. , -1. , -1. ],\n",
       "       [ 1. ,  1. ,  1. ,  1. ,  1. , -1. ],\n",
       "       [ 1. ,  0.2,  0.1,  1. ,  0.8, -1. ]], dtype=float32)"
      ]
     },
     "execution_count": 254,
     "metadata": {},
     "output_type": "execute_result"
    }
   ],
   "source": [
    "X_ = X_test[:batch_size]\n",
    "X_[0] = [[0.2], [1.0], [-1], [-1], [-1], [-1]]\n",
    "X_[1] = [[1.0], [1.0], [1.0], [1.0], [1.0], [-1]]\n",
    "X_[2] = [[1.0], [0.2], [0.1], [1.0], [0.8], [-1]]\n",
    "\n",
    "X_[:3, :, 0]"
   ]
  },
  {
   "cell_type": "code",
   "execution_count": 255,
   "metadata": {},
   "outputs": [
    {
     "data": {
      "text/plain": [
       "array([[2, 1, 0, 0, 0, 0],\n",
       "       [5, 2, 1, 3, 3, 0],\n",
       "       [4, 1, 5, 2, 3, 0]])"
      ]
     },
     "execution_count": 255,
     "metadata": {},
     "output_type": "execute_result"
    }
   ],
   "source": [
    "y_pred = model.predict(X_)\n",
    "y_pred_pos = y_pred.argmax(axis=2)\n",
    "y_pred_pos[:3]"
   ]
  },
  {
   "cell_type": "code",
   "execution_count": 87,
   "metadata": {},
   "outputs": [],
   "source": [
    "# _X = X_test[:2]\n",
    "# m = masking(_X)\n",
    "# e, h, c = encoder(m)\n",
    "# K.sum( K.cast((e[:, -1] == h),  dtype=np.int32) ) / K.prod(h.shape)\n",
    "# d = decoder(e, [h,c])\n",
    "# d"
   ]
  },
  {
   "cell_type": "code",
   "execution_count": 40,
   "metadata": {},
   "outputs": [],
   "source": [
    "# def compute_accuracy(_y_true, _y_pred):\n",
    "#     acc = keras.metrics.Accuracy()\n",
    "#     return acc(_y_true, _y_pred).numpy()\n",
    "\n",
    "# print( compute_accuracy(y_pred_idx.argsort(), y_pred_pos) )\n",
    "# print( compute_accuracy(y_test_idx.argsort(), y_test_pos) )\n",
    "# print( compute_accuracy(y_pred_pos, y_test_pos[:-16]) )\n",
    "# print( compute_accuracy(y_pred_idx, y_test_idx[:-16]) )"
   ]
  },
  {
   "cell_type": "code",
   "execution_count": null,
   "metadata": {},
   "outputs": [],
   "source": []
  },
  {
   "cell_type": "code",
   "execution_count": null,
   "metadata": {},
   "outputs": [],
   "source": []
  },
  {
   "cell_type": "code",
   "execution_count": null,
   "metadata": {},
   "outputs": [],
   "source": []
  },
  {
   "cell_type": "code",
   "execution_count": null,
   "metadata": {},
   "outputs": [],
   "source": []
  }
 ],
 "metadata": {
  "interpreter": {
   "hash": "3cb2bdb0a6209896b2c08e350958f92213a3044df550f2817f068195d36b5650"
  },
  "kernelspec": {
   "display_name": "Python 3.6.8 64-bit ('base': conda)",
   "language": "python",
   "name": "python3"
  },
  "language_info": {
   "codemirror_mode": {
    "name": "ipython",
    "version": 3
   },
   "file_extension": ".py",
   "mimetype": "text/x-python",
   "name": "python",
   "nbconvert_exporter": "python",
   "pygments_lexer": "ipython3",
   "version": "3.7.11"
  },
  "orig_nbformat": 4
 },
 "nbformat": 4,
 "nbformat_minor": 2
}
