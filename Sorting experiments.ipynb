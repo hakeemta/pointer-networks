{
 "cells": [
  {
   "cell_type": "code",
   "execution_count": 1,
   "metadata": {},
   "outputs": [],
   "source": [
    "import numpy as np\n",
    "from matplotlib import pyplot as plt\n",
    "\n",
    "from keras.models import Model\n",
    "from keras.layers import LSTM, Input, Masking\n",
    "from keras.utils.np_utils import to_categorical\n",
    "from keras.preprocessing.sequence import pad_sequences\n",
    "import keras"
   ]
  },
  {
   "cell_type": "code",
   "execution_count": 2,
   "metadata": {},
   "outputs": [],
   "source": [
    "from pointer_lstm import PointerDecoder\n",
    "from sorting_dataset import gen_data, gen_jagged_data"
   ]
  },
  {
   "cell_type": "code",
   "execution_count": 3,
   "metadata": {},
   "outputs": [
    {
     "data": {
      "text/plain": [
       "'2.7.0'"
      ]
     },
     "execution_count": 3,
     "metadata": {},
     "output_type": "execute_result"
    }
   ],
   "source": [
    "import tensorflow as tf\n",
    "tf.__version__"
   ]
  },
  {
   "cell_type": "code",
   "execution_count": 4,
   "metadata": {},
   "outputs": [],
   "source": [
    "%reload_ext autoreload\n",
    "%autoreload 2\n",
    "\n",
    "np.random.seed(17)"
   ]
  },
  {
   "cell_type": "code",
   "execution_count": null,
   "metadata": {},
   "outputs": [],
   "source": []
  },
  {
   "cell_type": "code",
   "execution_count": 7,
   "metadata": {},
   "outputs": [
    {
     "data": {
      "text/plain": [
       "((10000, 5), (10000, 5))"
      ]
     },
     "execution_count": 7,
     "metadata": {},
     "output_type": "execute_result"
    }
   ],
   "source": [
    "N = 10000\n",
    "max_seq_len = 5\n",
    "output_size = max_seq_len\n",
    "\n",
    "# X, y = gen_data(N, max_seq_len, low=0, high=1000)\n",
    "X, y = gen_jagged_data(N, max_seq_len, low=1)\n",
    "\n",
    "# Pad the jagged sequences\n",
    "X = pad_sequences(X, maxlen=max_seq_len, value=-1, padding='post', truncating='post', dtype=np.float32)\n",
    "y = pad_sequences(y, maxlen=max_seq_len, value=-1, padding='post', truncating='post')\n",
    "\n",
    "# Shuffle the sequences\n",
    "idx = np.arange(X.shape[0])\n",
    "np.random.shuffle(idx)\n",
    "X = X[idx]\n",
    "y = y[idx]\n",
    "\n",
    "X.shape, y.shape"
   ]
  },
  {
   "cell_type": "code",
   "execution_count": 8,
   "metadata": {},
   "outputs": [
    {
     "data": {
      "text/plain": [
       "(array([[35., -1., -1., -1., -1.],\n",
       "        [56., 56., 46., -1., -1.]], dtype=float32),\n",
       " array([[ 0, -1, -1, -1, -1],\n",
       "        [ 2,  0,  1, -1, -1]], dtype=int32))"
      ]
     },
     "execution_count": 8,
     "metadata": {},
     "output_type": "execute_result"
    }
   ],
   "source": [
    "X[:2], y[:2]"
   ]
  },
  {
   "cell_type": "code",
   "execution_count": null,
   "metadata": {},
   "outputs": [],
   "source": []
  },
  {
   "cell_type": "code",
   "execution_count": 9,
   "metadata": {},
   "outputs": [
    {
     "data": {
      "text/plain": [
       "((8000, 5, 1), (8000, 5, 5), (2000, 5, 1), (2000, 5, 5))"
      ]
     },
     "execution_count": 9,
     "metadata": {},
     "output_type": "execute_result"
    }
   ],
   "source": [
    "split = int(0.8 * N)\n",
    "\n",
    "_X = X / np.expand_dims(X.max(axis=1), axis=1)\n",
    "_X = np.expand_dims(_X, axis=2)\n",
    "# _X = np.repeat(_X, 4, axis=2)\n",
    "\n",
    "# OHE the labels\n",
    "_y = to_categorical(y, num_classes=max_seq_len+1)\n",
    "_y = _y[:, :output_size, :max_seq_len]\n",
    "\n",
    "X_train = _X[:split]\n",
    "y_train = _y[:split]\n",
    "\n",
    "X_test = _X[split:]\n",
    "y_test = _y[split:]\n",
    "\n",
    "X_train.shape, y_train.shape, X_test.shape, y_test.shape"
   ]
  },
  {
   "cell_type": "code",
   "execution_count": 10,
   "metadata": {},
   "outputs": [
    {
     "name": "stderr",
     "output_type": "stream",
     "text": [
      "2021-12-20 00:26:07.309146: I tensorflow/core/platform/cpu_feature_guard.cc:151] This TensorFlow binary is optimized with oneAPI Deep Neural Network Library (oneDNN) to use the following CPU instructions in performance-critical operations:  AVX2 FMA\n",
      "To enable them in other operations, rebuild TensorFlow with the appropriate compiler flags.\n"
     ]
    },
    {
     "name": "stdout",
     "output_type": "stream",
     "text": [
      "Model: \"model\"\n",
      "__________________________________________________________________________________________________\n",
      " Layer (type)                   Output Shape         Param #     Connected to                     \n",
      "==================================================================================================\n",
      " input (InputLayer)             [(16, 5, 1)]         0           []                               \n",
      "                                                                                                  \n",
      " masking (Masking)              (16, 5, 1)           0           ['input[0][0]']                  \n",
      "                                                                                                  \n",
      " encoder (LSTM)                 [(16, 5, 32),        4352        ['masking[0][0]']                \n",
      "                                 (16, 32),                                                        \n",
      "                                 (16, 32)]                                                        \n",
      "                                                                                                  \n",
      " decoder (PointerDecoder)       (16, 5, 5)           10400       ['encoder[0][0]',                \n",
      "                                                                  'encoder[0][1]',                \n",
      "                                                                  'encoder[0][2]']                \n",
      "                                                                                                  \n",
      "==================================================================================================\n",
      "Total params: 14,752\n",
      "Trainable params: 14,752\n",
      "Non-trainable params: 0\n",
      "__________________________________________________________________________________________________\n"
     ]
    }
   ],
   "source": [
    "seq_shape = X_train.shape[1:]\n",
    "hidden_units = 32\n",
    "batch_size = 16\n",
    "\n",
    "inputs = Input(shape=seq_shape, name='input', batch_size=batch_size)\n",
    "masking = Masking(mask_value=-1, name='masking') \n",
    "masked = masking(inputs)\n",
    "encoder = LSTM(hidden_units, name='encoder', return_sequences=True, return_state=True)\n",
    "enc, state_h, state_c =  encoder(masked)\n",
    "\n",
    "decoder = PointerDecoder(hidden_units, output_size=output_size, name='decoder')\n",
    "dec = decoder(enc, initial_state=[state_h, state_c])\n",
    "\n",
    "model = Model(inputs, dec)\n",
    "model.summary()"
   ]
  },
  {
   "cell_type": "code",
   "execution_count": 11,
   "metadata": {},
   "outputs": [],
   "source": [
    "model.compile(optimizer='adam',\n",
    "              loss='categorical_crossentropy',\n",
    "              metrics=['accuracy'])"
   ]
  },
  {
   "cell_type": "code",
   "execution_count": 12,
   "metadata": {},
   "outputs": [
    {
     "name": "stdout",
     "output_type": "stream",
     "text": [
      "Epoch 1/20\n",
      "500/500 [==============================] - 13s 6ms/step - loss: 0.5401 - accuracy: 0.5585\n",
      "Epoch 2/20\n",
      "500/500 [==============================] - 3s 6ms/step - loss: 0.3346 - accuracy: 0.6870\n",
      "Epoch 3/20\n",
      "500/500 [==============================] - 3s 6ms/step - loss: 0.2169 - accuracy: 0.7494\n",
      "Epoch 4/20\n",
      "500/500 [==============================] - 3s 6ms/step - loss: 0.1597 - accuracy: 0.7725\n",
      "Epoch 5/20\n",
      "500/500 [==============================] - 3s 6ms/step - loss: 0.1405 - accuracy: 0.7811\n",
      "Epoch 6/20\n",
      "500/500 [==============================] - 3s 6ms/step - loss: 0.1156 - accuracy: 0.7859\n",
      "Epoch 7/20\n",
      "500/500 [==============================] - 3s 6ms/step - loss: 0.1147 - accuracy: 0.7902\n",
      "Epoch 8/20\n",
      "500/500 [==============================] - 3s 6ms/step - loss: 0.1165 - accuracy: 0.7950\n",
      "Epoch 9/20\n",
      "500/500 [==============================] - 3s 6ms/step - loss: 0.0810 - accuracy: 0.7999\n",
      "Epoch 10/20\n",
      "500/500 [==============================] - 3s 6ms/step - loss: 0.0900 - accuracy: 0.7991\n",
      "Epoch 11/20\n",
      "500/500 [==============================] - 3s 6ms/step - loss: 0.0651 - accuracy: 0.8010\n",
      "Epoch 12/20\n",
      "500/500 [==============================] - 3s 6ms/step - loss: 0.0720 - accuracy: 0.8035\n",
      "Epoch 13/20\n",
      "500/500 [==============================] - 3s 6ms/step - loss: 0.0681 - accuracy: 0.8033\n",
      "Epoch 14/20\n",
      "500/500 [==============================] - 3s 6ms/step - loss: 0.0662 - accuracy: 0.8032\n",
      "Epoch 15/20\n",
      "500/500 [==============================] - 3s 6ms/step - loss: 0.0655 - accuracy: 0.8053\n",
      "Epoch 16/20\n",
      "500/500 [==============================] - 3s 6ms/step - loss: 0.0577 - accuracy: 0.8063\n",
      "Epoch 17/20\n",
      "500/500 [==============================] - 3s 6ms/step - loss: 0.0547 - accuracy: 0.8066\n",
      "Epoch 18/20\n",
      "500/500 [==============================] - 3s 6ms/step - loss: 0.0515 - accuracy: 0.8072\n",
      "Epoch 19/20\n",
      "500/500 [==============================] - 3s 6ms/step - loss: 0.0526 - accuracy: 0.8070\n",
      "Epoch 20/20\n",
      "500/500 [==============================] - 3s 6ms/step - loss: 0.0403 - accuracy: 0.8078\n"
     ]
    }
   ],
   "source": [
    "nb_epochs = 20\n",
    "h = model.fit(X_train, y_train,\n",
    "            epochs=nb_epochs, batch_size=batch_size)"
   ]
  },
  {
   "cell_type": "code",
   "execution_count": 13,
   "metadata": {},
   "outputs": [
    {
     "data": {
      "text/plain": [
       "[<matplotlib.lines.Line2D at 0x7fed4748fc50>]"
      ]
     },
     "execution_count": 13,
     "metadata": {},
     "output_type": "execute_result"
    },
    {
     "data": {
      "image/png": "[encoded data removed]",
      "text/plain": [
       "<Figure size 432x288 with 1 Axes>"
      ]
     },
     "metadata": {
      "needs_background": "light"
     },
     "output_type": "display_data"
    }
   ],
   "source": [
    "plt.plot(h.history['accuracy'])"
   ]
  },
  {
   "cell_type": "code",
   "execution_count": 14,
   "metadata": {},
   "outputs": [
    {
     "data": {
      "text/plain": [
       "[<matplotlib.lines.Line2D at 0x7fed48c63d90>]"
      ]
     },
     "execution_count": 14,
     "metadata": {},
     "output_type": "execute_result"
    },
    {
     "data": {
      "image/png": "[encoded data removed]",
      "text/plain": [
       "<Figure size 432x288 with 1 Axes>"
      ]
     },
     "metadata": {
      "needs_background": "light"
     },
     "output_type": "display_data"
    }
   ],
   "source": [
    "plt.plot(h.history['loss'])"
   ]
  },
  {
   "cell_type": "code",
   "execution_count": 15,
   "metadata": {},
   "outputs": [
    {
     "name": "stdout",
     "output_type": "stream",
     "text": [
      "124/124 [==============================] - 3s 3ms/step - loss: 0.0375 - accuracy: 0.8079\n"
     ]
    },
    {
     "data": {
      "text/plain": [
       "[0.03745236620306969, 0.80793297290802]"
      ]
     },
     "execution_count": 15,
     "metadata": {},
     "output_type": "execute_result"
    }
   ],
   "source": [
    "model.evaluate(X_test[:-16], y_test[:-16], batch_size=batch_size)"
   ]
  },
  {
   "cell_type": "code",
   "execution_count": 16,
   "metadata": {},
   "outputs": [
    {
     "data": {
      "text/plain": [
       "array([[[ 0.21311475],\n",
       "        [ 0.73770493],\n",
       "        [ 1.        ],\n",
       "        [-0.01639344],\n",
       "        [-0.01639344]],\n",
       "\n",
       "       [[ 1.        ],\n",
       "        [-0.125     ],\n",
       "        [-0.125     ],\n",
       "        [-0.125     ],\n",
       "        [-0.125     ]]], dtype=float32)"
      ]
     },
     "execution_count": 16,
     "metadata": {},
     "output_type": "execute_result"
    }
   ],
   "source": [
    "X_test[:2]"
   ]
  },
  {
   "cell_type": "code",
   "execution_count": 21,
   "metadata": {},
   "outputs": [],
   "source": [
    "y_pred = model.predict(X_test[:-16])"
   ]
  },
  {
   "cell_type": "code",
   "execution_count": 33,
   "metadata": {},
   "outputs": [
    {
     "data": {
      "text/plain": [
       "(array([[0, 1, 2, 2, 2],\n",
       "        [0, 0, 0, 0, 0]]),\n",
       " array([[0, 1, 4, 0, 3],\n",
       "        [0, 1, 3, 0, 0]]))"
      ]
     },
     "execution_count": 33,
     "metadata": {},
     "output_type": "execute_result"
    }
   ],
   "source": [
    "y_pred_pos = y_pred.argmax(axis=2)\n",
    "y_pred_idx = y_pred.argmax(axis=1)\n",
    "y_pred_pos[:2] #, y_pred_idx[:2]"
   ]
  },
  {
   "cell_type": "code",
   "execution_count": 36,
   "metadata": {},
   "outputs": [
    {
     "data": {
      "text/plain": [
       "(array([[0, 1, 2, 0, 0],\n",
       "        [0, 0, 0, 0, 0]]),\n",
       " array([[0, 1, 2, 0, 0],\n",
       "        [0, 0, 0, 0, 0]]))"
      ]
     },
     "execution_count": 36,
     "metadata": {},
     "output_type": "execute_result"
    }
   ],
   "source": [
    "y_test_pos = y_test.argmax(axis=2)\n",
    "y_test_idx = y_test.argmax(axis=1)\n",
    "y_test_pos[:2] #, y_test_idx[:2]"
   ]
  },
  {
   "cell_type": "code",
   "execution_count": null,
   "metadata": {},
   "outputs": [],
   "source": []
  },
  {
   "cell_type": "code",
   "execution_count": 44,
   "metadata": {},
   "outputs": [],
   "source": [
    "def compute_accuracy(_y_true, _y_pred):\n",
    "    acc = keras.metrics.Accuracy()\n",
    "    return acc(_y_true, _y_pred).numpy()"
   ]
  },
  {
   "cell_type": "code",
   "execution_count": 40,
   "metadata": {},
   "outputs": [
    {
     "data": {
      "text/plain": [
       "0.38840726"
      ]
     },
     "execution_count": 40,
     "metadata": {},
     "output_type": "execute_result"
    }
   ],
   "source": [
    "compute_accuracy(y_pred_idx.argsort(), y_pred_pos)"
   ]
  },
  {
   "cell_type": "code",
   "execution_count": 41,
   "metadata": {},
   "outputs": [
    {
     "data": {
      "text/plain": [
       "0.2687"
      ]
     },
     "execution_count": 41,
     "metadata": {},
     "output_type": "execute_result"
    }
   ],
   "source": [
    "compute_accuracy(y_test_idx.argsort(), y_test_pos)"
   ]
  },
  {
   "cell_type": "code",
   "execution_count": 42,
   "metadata": {},
   "outputs": [
    {
     "data": {
      "text/plain": [
       "0.8081653"
      ]
     },
     "execution_count": 42,
     "metadata": {},
     "output_type": "execute_result"
    }
   ],
   "source": [
    "compute_accuracy(y_pred_pos, y_test_pos[:-16])"
   ]
  },
  {
   "cell_type": "code",
   "execution_count": 43,
   "metadata": {},
   "outputs": [
    {
     "data": {
      "text/plain": [
       "0.7116935"
      ]
     },
     "execution_count": 43,
     "metadata": {},
     "output_type": "execute_result"
    }
   ],
   "source": [
    "compute_accuracy(y_pred_idx, y_test_idx[:-16])"
   ]
  },
  {
   "cell_type": "code",
   "execution_count": 29,
   "metadata": {},
   "outputs": [
    {
     "data": {
      "text/plain": [
       "array([[35., -1., -1., -1., -1.],\n",
       "       [56., 56., 46., -1., -1.],\n",
       "       [42., 93., -1., -1., -1.]], dtype=float32)"
      ]
     },
     "execution_count": 29,
     "metadata": {},
     "output_type": "execute_result"
    }
   ],
   "source": [
    "X_ = X_test[:batch_size]\n",
    "X_[0] = [[0.2], [1.0], [-1], [-1], [-1]]\n",
    "X_[1] = [[1.0], [1.0], [1.0], [1.0], [1.0]]\n",
    "X_[2] = [[1], [0.1], [0.1], [1], [0.1]]\n",
    "\n",
    "X[:3]"
   ]
  },
  {
   "cell_type": "code",
   "execution_count": 30,
   "metadata": {},
   "outputs": [
    {
     "data": {
      "text/plain": [
       "(array([[0, 0, 0, 1, 1],\n",
       "        [0, 0, 1, 1, 1],\n",
       "        [1, 1, 1, 0, 0]]),\n",
       " array([[0, 3, 0, 0, 0],\n",
       "        [0, 3, 0, 0, 0],\n",
       "        [4, 0, 0, 0, 0]]))"
      ]
     },
     "execution_count": 30,
     "metadata": {},
     "output_type": "execute_result"
    }
   ],
   "source": [
    "y_pred = model.predict(X_)\n",
    "y_pred_pos = y_pred.argmax(axis=2)\n",
    "y_pred_idx = y_pred.argmax(axis=1)\n",
    "y_pred_pos[:3], y_pred_idx[:3]"
   ]
  },
  {
   "cell_type": "code",
   "execution_count": 31,
   "metadata": {},
   "outputs": [
    {
     "data": {
      "text/plain": [
       "array([[[1.0000000e+00, 9.0080521e-10, 0.0000000e+00, 0.0000000e+00,\n",
       "         0.0000000e+00],\n",
       "        [1.0000000e+00, 1.7694397e-16, 0.0000000e+00, 0.0000000e+00,\n",
       "         0.0000000e+00],\n",
       "        [9.9555439e-01, 4.4456460e-03, 0.0000000e+00, 0.0000000e+00,\n",
       "         0.0000000e+00],\n",
       "        [1.4198830e-15, 1.0000000e+00, 0.0000000e+00, 0.0000000e+00,\n",
       "         0.0000000e+00],\n",
       "        [2.6467728e-07, 9.9999976e-01, 0.0000000e+00, 0.0000000e+00,\n",
       "         0.0000000e+00]],\n",
       "\n",
       "       [[5.7554233e-01, 4.2445764e-01, 0.0000000e+00, 0.0000000e+00,\n",
       "         0.0000000e+00],\n",
       "        [5.1545984e-01, 4.8454013e-01, 0.0000000e+00, 0.0000000e+00,\n",
       "         0.0000000e+00],\n",
       "        [4.0086201e-01, 5.9913790e-01, 0.0000000e+00, 0.0000000e+00,\n",
       "         0.0000000e+00],\n",
       "        [3.7969685e-01, 6.2030315e-01, 0.0000000e+00, 0.0000000e+00,\n",
       "         0.0000000e+00],\n",
       "        [4.2294499e-01, 5.7705510e-01, 0.0000000e+00, 0.0000000e+00,\n",
       "         0.0000000e+00]],\n",
       "\n",
       "       [[2.3220254e-11, 1.0000000e+00, 0.0000000e+00, 0.0000000e+00,\n",
       "         0.0000000e+00],\n",
       "        [6.4852606e-18, 1.0000000e+00, 0.0000000e+00, 0.0000000e+00,\n",
       "         0.0000000e+00],\n",
       "        [1.7819194e-04, 9.9982184e-01, 0.0000000e+00, 0.0000000e+00,\n",
       "         0.0000000e+00],\n",
       "        [9.9986398e-01, 1.3604647e-04, 0.0000000e+00, 0.0000000e+00,\n",
       "         0.0000000e+00],\n",
       "        [1.0000000e+00, 1.5636093e-11, 0.0000000e+00, 0.0000000e+00,\n",
       "         0.0000000e+00]]], dtype=float32)"
      ]
     },
     "execution_count": 31,
     "metadata": {},
     "output_type": "execute_result"
    }
   ],
   "source": [
    "y_pred[:3]"
   ]
  },
  {
   "cell_type": "code",
   "execution_count": null,
   "metadata": {},
   "outputs": [],
   "source": []
  },
  {
   "cell_type": "code",
   "execution_count": null,
   "metadata": {},
   "outputs": [],
   "source": []
  },
  {
   "cell_type": "code",
   "execution_count": null,
   "metadata": {},
   "outputs": [],
   "source": []
  }
 ],
 "metadata": {
  "interpreter": {
   "hash": "3cb2bdb0a6209896b2c08e350958f92213a3044df550f2817f068195d36b5650"
  },
  "kernelspec": {
   "display_name": "Python 3.6.8 64-bit ('base': conda)",
   "language": "python",
   "name": "python3"
  },
  "language_info": {
   "codemirror_mode": {
    "name": "ipython",
    "version": 3
   },
   "file_extension": ".py",
   "mimetype": "text/x-python",
   "name": "python",
   "nbconvert_exporter": "python",
   "pygments_lexer": "ipython3",
   "version": "3.7.11"
  },
  "orig_nbformat": 4
 },
 "nbformat": 4,
 "nbformat_minor": 2
}
